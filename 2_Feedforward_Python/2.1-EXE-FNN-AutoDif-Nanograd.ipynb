{
 "cells": [
  {
   "cell_type": "markdown",
   "metadata": {
    "id": "HAva8TnYFtFu"
   },
   "source": [
    "# Contents and why we need this lab\n",
    "\n",
    "This lab is about implementing neural networks yourself before we start using other frameworks that hide some of the computation from you. It builds on the first lab, where you derived the equations for neural network forward and backward propagation and gradient descent parameter updates. \n",
    "\n",
    "All the frameworks for deep learning you will meet from now on use automatic differentiation (autodiff), so you do not have to code the backward step yourself. In this version of this lab, you will develop your own autodif implementation. We also have an optional [version](https://github.com/DeepLearningDTU/02456-deep-learning-with-PyTorch/blob/master/2_Feedforward_Python/2.2-FNN-NumPy.ipynb) of this lab where you have to code the backward pass explicitly in Numpy."
   ]
  },
  {
   "cell_type": "markdown",
   "metadata": {
    "id": "sCa7HzwpFtFy"
   },
   "source": [
    "# External sources of information\n",
    "\n",
    "1. Jupyter notebook. You can find more information about Jupyter notebooks [here](https://jupyter.org/). It will come as part of the [Anaconda](https://www.anaconda.com/) Python installation. \n",
    "2. [NumPy](https://numpy.org/). Part of Anaconda distribution.  If you already know how to program, most things about Python and NumPy can be found with Google searches.\n",
    "3. [Nanograd](https://github.com/rasmusbergpalm/nanograd) is a minimalistic version of autodiff developed by Rasmus Berg Palm that we use for our framework.\n"
   ]
  },
  {
   "cell_type": "markdown",
   "metadata": {
    "id": "1SjiIp-TFtF0"
   },
   "source": [
    "# This notebook will follow the next steps:\n",
    "\n",
    "1. Nanograd automatic differentiation framework\n",
    "2. Finite difference method\n",
    "3. Data generation\n",
    "4. Defining and initializing the network\n",
    "5. Forward pass\n",
    "6. Training loop \n",
    "7. Testing your model\n",
    "8. Further extensions"
   ]
  },
  {
   "cell_type": "markdown",
   "metadata": {
    "id": "OyXeAA-HuT7s"
   },
   "source": [
    "# Nanograd automatic differention framework"
   ]
  },
  {
   "cell_type": "markdown",
   "metadata": {
    "id": "k6UWKCLKubgA"
   },
   "source": [
    "The [Nanograd](https://github.com/rasmusbergpalm/nanograd) framework defines a class Var which both holds a value and gradient value that we can use to store the intermediate values when we apply the chain rule of differentiation."
   ]
  },
  {
   "cell_type": "code",
   "execution_count": 38,
   "metadata": {
    "id": "Jd4CoEBNzNWS"
   },
   "outputs": [],
   "source": [
    "# Copy and pasted from https://github.com/rasmusbergpalm/nanograd/blob/3a1bf9e9e724da813bfccf91a6f309abdade9f39/nanograd.py\n",
    "\n",
    "from math import exp, log, tanh\n",
    "\n",
    "class Var:\n",
    "    \"\"\"\n",
    "    A variable which holds a float and enables gradient computations.\n",
    "    \"\"\"\n",
    "\n",
    "    def __init__(self, val: float, grad_fn=lambda: []):\n",
    "        assert type(val) == float\n",
    "        self.v = val\n",
    "        self.grad_fn = grad_fn\n",
    "        self.grad = 0.0\n",
    "\n",
    "    def backprop(self, bp):\n",
    "        self.grad += bp\n",
    "        for input, grad in self.grad_fn():\n",
    "            input.backprop(grad * bp)\n",
    "\n",
    "    def backward(self):\n",
    "        self.backprop(1.0)\n",
    "\n",
    "    def __add__(self: 'Var', other: 'Var') -> 'Var':\n",
    "        return Var(self.v + other.v, lambda: [(self, 1.0), (other, 1.0)])\n",
    "\n",
    "    def __mul__(self: 'Var', other: 'Var') -> 'Var':\n",
    "        return Var(self.v * other.v, lambda: [(self, other.v), (other, self.v)])\n",
    "\n",
    "    def __pow__(self, power):\n",
    "        assert type(power) in {float, int}, \"power must be float or int\"\n",
    "        return Var(self.v ** power, lambda: [(self, power * self.v ** (power - 1))])\n",
    "\n",
    "    def __neg__(self: 'Var') -> 'Var':\n",
    "        return Var(-1.0) * self\n",
    "\n",
    "    def __sub__(self: 'Var', other: 'Var') -> 'Var':\n",
    "        return self + (-other)\n",
    "\n",
    "    def __truediv__(self: 'Var', other: 'Var') -> 'Var':\n",
    "        return self * other ** -1\n",
    "\n",
    "    def __repr__(self):\n",
    "        return \"Var(v=%.4f, grad=%.4f)\" % (self.v, self.grad)\n",
    "\n",
    "    def relu(self):\n",
    "        return Var(self.v if self.v > 0.0 else 0.0, lambda: [(self, 1.0 if self.v > 0.0 else 0.0)])\n",
    "    \n",
    "    def identity(self):\n",
    "        return Var(self.v, lambda: [(self, 1.0)])\n",
    "    \n",
    "    def sigmoid(self):\n",
    "        return Var(1/(1+exp(-self.v)), lambda: [(self, 1/(1+exp(-self.v))*(1-1/(1+exp(-self.v))))])\n",
    "    \n",
    "    def tanh(self):\n",
    "        return Var(tanh(self.v), lambda: [(self, 1-tanh(self.v)**2)])\n",
    "    \n",
    "    def exp(self):\n",
    "        return Var(exp(self.v), lambda: [(self, exp(self.v))])\n",
    "    \n",
    "    def log(self):\n",
    "        return Var(log(self.v), lambda: [(self, self.v ** -1)])"
   ]
  },
  {
   "cell_type": "markdown",
   "metadata": {
    "id": "yDX67D6jzcte"
   },
   "source": [
    "A few examples illustrate how we can use this:"
   ]
  },
  {
   "cell_type": "code",
   "execution_count": 3,
   "metadata": {
    "colab": {
     "base_uri": "https://localhost:8080/"
    },
    "id": "xk6PeLc3zwPT",
    "outputId": "47e431b2-07ba-4cb1-ea21-997769641c67"
   },
   "outputs": [
    {
     "name": "stdout",
     "output_type": "stream",
     "text": [
      "Var(v=3.0000, grad=5.0000)\n",
      "Var(v=5.0000, grad=3.0000)\n",
      "Var(v=15.0000, grad=1.0000)\n"
     ]
    }
   ],
   "source": [
    "a = Var(3.0)\n",
    "b = Var(5.0)\n",
    "f = a * b\n",
    "\n",
    "f.backward()\n",
    "\n",
    "for v in [a, b, f]:\n",
    "    print(v)"
   ]
  },
  {
   "cell_type": "code",
   "execution_count": 16,
   "metadata": {
    "colab": {
     "base_uri": "https://localhost:8080/"
    },
    "id": "JmKhYgsY0g_o",
    "outputId": "06c1b1df-c33c-40d3-922a-624612a591c7"
   },
   "outputs": [
    {
     "name": "stdout",
     "output_type": "stream",
     "text": [
      "Var(v=3.0000, grad=14.0000)\n",
      "Var(v=5.0000, grad=3.0000)\n",
      "Var(v=15.0000, grad=1.0000)\n",
      "Var(v=9.0000, grad=3.0000)\n",
      "Var(v=27.0000, grad=1.0000)\n",
      "Var(v=42.0000, grad=1.0000)\n"
     ]
    }
   ],
   "source": [
    "a = Var(3.0)\n",
    "b = Var(5.0)\n",
    "c = a * b\n",
    "d = Var(9.0)\n",
    "e = a * d\n",
    "f = c + e\n",
    "\n",
    "f.backward()\n",
    "\n",
    "for v in [a, b, c, d, e, f]:\n",
    "    print(v)"
   ]
  },
  {
   "cell_type": "markdown",
   "metadata": {
    "id": "Fe3B6uEH140p"
   },
   "source": [
    "## Exercise a) What is being calculated?\n",
    "\n",
    "Explain briefly the output of the code? What is the expression we differentiate and with respect to what variables?\n",
    "\n",
    "The Nanograd redefines the addition and multiplication properties of the Var. This makes it so whenever a opperation is added to a variable the gradient is calculated and stored within it along with the gradient functions. This builds a tree-like structure whick is iterated through when the backward function is called on a variable. In the above case the backprop is called on f which is the root of the tree."
   ]
  },
  {
   "cell_type": "markdown",
   "metadata": {
    "id": "q8_Q0t2I3Ruj"
   },
   "source": [
    "## Exercise b) How does the backward function work?\n",
    "\n",
    "You need to understand how the backward function calculates the gradients. We can use the two examples above to help with that.\n",
    "\n",
    "Go through the following four steps and answer the questions on the way:\n",
    "\n",
    "1. We represent the two expressions as graphs as shown below. Fill in the missing expressions for the different derivatives.\n",
    "\n",
    "2. In the remainder consider the first expression. Make a schematic of the data structure which is generated when we define the expression for f. \n",
    "\n",
    "3. Then execute the backward function by hand to convince yourself that it indeed calculates the gradients with respect to the variables. \n",
    "\n",
    "4. Write down the sequence of calls to backprop.\n",
    "\n",
    "I was unsure which of these questions was solved in the code and which had to be done by hand. But where is the derivatives...\n",
    "\n",
    "$$\\begin{align}\n",
    "df/da &= d+b = 14\\\\\n",
    "df/db &= a = 3 \\\\\n",
    "df/dc &= 1\\\\\n",
    "df/dd &= a = 3\\\\\n",
    "df/de &= 1\n",
    "\\end{align}"
   ]
  },
  {
   "cell_type": "code",
   "execution_count": null,
   "metadata": {
    "id": "idGr71jYXl26"
   },
   "outputs": [],
   "source": [
    "# import logging\n",
    "import graphviz\n",
    "\n",
    "#logging.basicConfig(format='[%(levelname)s@%(name)s] %(message)s', level=logging.DEBUG)\n",
    "\n",
    "#graphviz.__version__, graphviz.version()"
   ]
  },
  {
   "cell_type": "code",
   "execution_count": 9,
   "metadata": {
    "colab": {
     "base_uri": "https://localhost:8080/",
     "height": 152
    },
    "id": "KPe30Q2QXzeG",
    "outputId": "7fa002cd-a018-4dbb-ddf1-28ed5e99ee19"
   },
   "outputs": [
    {
     "data": {
      "image/svg+xml": [
       "<?xml version=\"1.0\" encoding=\"UTF-8\" standalone=\"no\"?>\n",
       "<!DOCTYPE svg PUBLIC \"-//W3C//DTD SVG 1.1//EN\"\n",
       " \"http://www.w3.org/Graphics/SVG/1.1/DTD/svg11.dtd\">\n",
       "<!-- Generated by graphviz version 2.50.0 (0)\n",
       " -->\n",
       "<!-- Title: first expression Pages: 1 -->\n",
       "<svg width=\"166pt\" height=\"98pt\"\n",
       " viewBox=\"0.00 0.00 166.00 98.00\" xmlns=\"http://www.w3.org/2000/svg\" xmlns:xlink=\"http://www.w3.org/1999/xlink\">\n",
       "<g id=\"graph0\" class=\"graph\" transform=\"scale(1 1) rotate(0) translate(4 94)\">\n",
       "<title>first expression</title>\n",
       "<polygon fill=\"white\" stroke=\"transparent\" points=\"-4,4 -4,-94 162,-94 162,4 -4,4\"/>\n",
       "<!-- a -->\n",
       "<g id=\"node1\" class=\"node\">\n",
       "<title>a</title>\n",
       "<ellipse fill=\"none\" stroke=\"black\" cx=\"18\" cy=\"-72\" rx=\"18\" ry=\"18\"/>\n",
       "<text text-anchor=\"middle\" x=\"18\" y=\"-68.3\" font-family=\"Times New Roman,serif\" font-size=\"14.00\">a</text>\n",
       "</g>\n",
       "<!-- f -->\n",
       "<g id=\"node2\" class=\"node\">\n",
       "<title>f</title>\n",
       "<ellipse fill=\"none\" stroke=\"black\" cx=\"140\" cy=\"-45\" rx=\"18\" ry=\"18\"/>\n",
       "<text text-anchor=\"middle\" x=\"140\" y=\"-41.3\" font-family=\"Times New Roman,serif\" font-size=\"14.00\">f</text>\n",
       "</g>\n",
       "<!-- a&#45;&gt;f -->\n",
       "<g id=\"edge1\" class=\"edge\">\n",
       "<title>a&#45;&gt;f</title>\n",
       "<path fill=\"none\" stroke=\"black\" d=\"M35.69,-68.25C55.46,-63.8 88.66,-56.33 112.08,-51.06\"/>\n",
       "<polygon fill=\"black\" stroke=\"black\" points=\"113.08,-54.42 122.07,-48.81 111.54,-47.59 113.08,-54.42\"/>\n",
       "<text text-anchor=\"middle\" x=\"79\" y=\"-67.8\" font-family=\"Times New Roman,serif\" font-size=\"14.00\">df/da=14</text>\n",
       "</g>\n",
       "<!-- b -->\n",
       "<g id=\"node3\" class=\"node\">\n",
       "<title>b</title>\n",
       "<ellipse fill=\"none\" stroke=\"black\" cx=\"18\" cy=\"-18\" rx=\"18\" ry=\"18\"/>\n",
       "<text text-anchor=\"middle\" x=\"18\" y=\"-14.3\" font-family=\"Times New Roman,serif\" font-size=\"14.00\">b</text>\n",
       "</g>\n",
       "<!-- b&#45;&gt;f -->\n",
       "<g id=\"edge2\" class=\"edge\">\n",
       "<title>b&#45;&gt;f</title>\n",
       "<path fill=\"none\" stroke=\"black\" d=\"M36.1,-20.22C53.39,-22.65 80.78,-27.01 104,-33 107.01,-33.78 110.14,-34.69 113.23,-35.66\"/>\n",
       "<polygon fill=\"black\" stroke=\"black\" points=\"112.18,-39 122.78,-38.85 114.4,-32.36 112.18,-39\"/>\n",
       "<text text-anchor=\"middle\" x=\"79\" y=\"-36.8\" font-family=\"Times New Roman,serif\" font-size=\"14.00\">df/db=3</text>\n",
       "</g>\n",
       "</g>\n",
       "</svg>\n"
      ],
      "text/plain": [
       "<graphviz.graphs.Digraph at 0x1e57e81e650>"
      ]
     },
     "execution_count": 9,
     "metadata": {},
     "output_type": "execute_result"
    }
   ],
   "source": [
    "e1 = graphviz.Digraph('first expression', filename='fsm.gv')\n",
    "\n",
    "e1.attr(rankdir='LR', size='8,5')\n",
    "\n",
    "e1.attr('node', shape='circle')\n",
    "e1.edge('a', 'f', label='df/da=14')\n",
    "e1.edge('b', 'f', label='df/db=3')\n",
    "\n",
    "e1"
   ]
  },
  {
   "cell_type": "code",
   "execution_count": 10,
   "metadata": {
    "colab": {
     "base_uri": "https://localhost:8080/",
     "height": 232
    },
    "id": "0nittR-mZFeX",
    "outputId": "fa3656a3-732c-4abe-8084-98a492b0d6be"
   },
   "outputs": [
    {
     "data": {
      "image/svg+xml": [
       "<?xml version=\"1.0\" encoding=\"UTF-8\" standalone=\"no\"?>\n",
       "<!DOCTYPE svg PUBLIC \"-//W3C//DTD SVG 1.1//EN\"\n",
       " \"http://www.w3.org/Graphics/SVG/1.1/DTD/svg11.dtd\">\n",
       "<!-- Generated by graphviz version 2.50.0 (0)\n",
       " -->\n",
       "<!-- Title: second expression Pages: 1 -->\n",
       "<svg width=\"277pt\" height=\"158pt\"\n",
       " viewBox=\"0.00 0.00 277.00 158.00\" xmlns=\"http://www.w3.org/2000/svg\" xmlns:xlink=\"http://www.w3.org/1999/xlink\">\n",
       "<g id=\"graph0\" class=\"graph\" transform=\"scale(1 1) rotate(0) translate(4 154)\">\n",
       "<title>second expression</title>\n",
       "<polygon fill=\"white\" stroke=\"transparent\" points=\"-4,4 -4,-154 273,-154 273,4 -4,4\"/>\n",
       "<!-- a -->\n",
       "<g id=\"node1\" class=\"node\">\n",
       "<title>a</title>\n",
       "<ellipse fill=\"none\" stroke=\"black\" cx=\"18\" cy=\"-75\" rx=\"18\" ry=\"18\"/>\n",
       "<text text-anchor=\"middle\" x=\"18\" y=\"-71.3\" font-family=\"Times New Roman,serif\" font-size=\"14.00\">a</text>\n",
       "</g>\n",
       "<!-- c -->\n",
       "<g id=\"node2\" class=\"node\">\n",
       "<title>c</title>\n",
       "<ellipse fill=\"none\" stroke=\"black\" cx=\"136\" cy=\"-102\" rx=\"18\" ry=\"18\"/>\n",
       "<text text-anchor=\"middle\" x=\"136\" y=\"-98.3\" font-family=\"Times New Roman,serif\" font-size=\"14.00\">c</text>\n",
       "</g>\n",
       "<!-- a&#45;&gt;c -->\n",
       "<g id=\"edge1\" class=\"edge\">\n",
       "<title>a&#45;&gt;c</title>\n",
       "<path fill=\"none\" stroke=\"black\" d=\"M35.62,-78.87C54.66,-83.3 86.1,-90.62 108.52,-95.84\"/>\n",
       "<polygon fill=\"black\" stroke=\"black\" points=\"107.88,-99.28 118.41,-98.14 109.46,-92.46 107.88,-99.28\"/>\n",
       "<text text-anchor=\"middle\" x=\"77\" y=\"-96.8\" font-family=\"Times New Roman,serif\" font-size=\"14.00\">dc/da=5</text>\n",
       "</g>\n",
       "<!-- e -->\n",
       "<g id=\"node4\" class=\"node\">\n",
       "<title>e</title>\n",
       "<ellipse fill=\"none\" stroke=\"black\" cx=\"136\" cy=\"-48\" rx=\"18\" ry=\"18\"/>\n",
       "<text text-anchor=\"middle\" x=\"136\" y=\"-44.3\" font-family=\"Times New Roman,serif\" font-size=\"14.00\">e</text>\n",
       "</g>\n",
       "<!-- a&#45;&gt;e -->\n",
       "<g id=\"edge3\" class=\"edge\">\n",
       "<title>a&#45;&gt;e</title>\n",
       "<path fill=\"none\" stroke=\"black\" d=\"M35.28,-69.48C41.14,-67.6 47.83,-65.57 54,-64 71.83,-59.45 92.15,-55.44 107.97,-52.57\"/>\n",
       "<polygon fill=\"black\" stroke=\"black\" points=\"108.89,-55.97 118.13,-50.78 107.67,-49.07 108.89,-55.97\"/>\n",
       "<text text-anchor=\"middle\" x=\"77\" y=\"-67.8\" font-family=\"Times New Roman,serif\" font-size=\"14.00\">de/da=9</text>\n",
       "</g>\n",
       "<!-- f -->\n",
       "<g id=\"node6\" class=\"node\">\n",
       "<title>f</title>\n",
       "<ellipse fill=\"none\" stroke=\"black\" cx=\"251\" cy=\"-75\" rx=\"18\" ry=\"18\"/>\n",
       "<text text-anchor=\"middle\" x=\"251\" y=\"-71.3\" font-family=\"Times New Roman,serif\" font-size=\"14.00\">f</text>\n",
       "</g>\n",
       "<!-- c&#45;&gt;f -->\n",
       "<g id=\"edge5\" class=\"edge\">\n",
       "<title>c&#45;&gt;f</title>\n",
       "<path fill=\"none\" stroke=\"black\" d=\"M153.67,-98.02C172.03,-93.63 201.81,-86.51 223.4,-81.36\"/>\n",
       "<polygon fill=\"black\" stroke=\"black\" points=\"224.35,-84.73 233.26,-79 222.72,-77.92 224.35,-84.73\"/>\n",
       "<text text-anchor=\"middle\" x=\"193.5\" y=\"-96.8\" font-family=\"Times New Roman,serif\" font-size=\"14.00\">df/dc=1</text>\n",
       "</g>\n",
       "<!-- b -->\n",
       "<g id=\"node3\" class=\"node\">\n",
       "<title>b</title>\n",
       "<ellipse fill=\"none\" stroke=\"black\" cx=\"18\" cy=\"-132\" rx=\"18\" ry=\"18\"/>\n",
       "<text text-anchor=\"middle\" x=\"18\" y=\"-128.3\" font-family=\"Times New Roman,serif\" font-size=\"14.00\">b</text>\n",
       "</g>\n",
       "<!-- b&#45;&gt;c -->\n",
       "<g id=\"edge2\" class=\"edge\">\n",
       "<title>b&#45;&gt;c</title>\n",
       "<path fill=\"none\" stroke=\"black\" d=\"M35.62,-127.7C54.66,-122.78 86.1,-114.65 108.52,-108.85\"/>\n",
       "<polygon fill=\"black\" stroke=\"black\" points=\"109.61,-112.18 118.41,-106.29 107.85,-105.41 109.61,-112.18\"/>\n",
       "<text text-anchor=\"middle\" x=\"77\" y=\"-125.8\" font-family=\"Times New Roman,serif\" font-size=\"14.00\">dc/db=3</text>\n",
       "</g>\n",
       "<!-- e&#45;&gt;f -->\n",
       "<g id=\"edge6\" class=\"edge\">\n",
       "<title>e&#45;&gt;f</title>\n",
       "<path fill=\"none\" stroke=\"black\" d=\"M153.85,-50.94C169.73,-53.83 194.12,-58.59 215,-64 217.89,-64.75 220.9,-65.59 223.88,-66.47\"/>\n",
       "<polygon fill=\"black\" stroke=\"black\" points=\"223.13,-69.9 233.72,-69.5 225.19,-63.21 223.13,-69.9\"/>\n",
       "<text text-anchor=\"middle\" x=\"193.5\" y=\"-67.8\" font-family=\"Times New Roman,serif\" font-size=\"14.00\">df/de=1</text>\n",
       "</g>\n",
       "<!-- d -->\n",
       "<g id=\"node5\" class=\"node\">\n",
       "<title>d</title>\n",
       "<ellipse fill=\"none\" stroke=\"black\" cx=\"18\" cy=\"-18\" rx=\"18\" ry=\"18\"/>\n",
       "<text text-anchor=\"middle\" x=\"18\" y=\"-14.3\" font-family=\"Times New Roman,serif\" font-size=\"14.00\">d</text>\n",
       "</g>\n",
       "<!-- d&#45;&gt;e -->\n",
       "<g id=\"edge4\" class=\"edge\">\n",
       "<title>d&#45;&gt;e</title>\n",
       "<path fill=\"none\" stroke=\"black\" d=\"M35.93,-20.8C52.45,-23.7 78.19,-28.7 100,-35 103.18,-35.92 106.48,-36.99 109.72,-38.11\"/>\n",
       "<polygon fill=\"black\" stroke=\"black\" points=\"108.54,-41.4 119.14,-41.54 110.94,-34.83 108.54,-41.4\"/>\n",
       "<text text-anchor=\"middle\" x=\"77\" y=\"-38.8\" font-family=\"Times New Roman,serif\" font-size=\"14.00\">de/dd=3</text>\n",
       "</g>\n",
       "</g>\n",
       "</svg>\n"
      ],
      "text/plain": [
       "<graphviz.graphs.Digraph at 0x1e57f4d04d0>"
      ]
     },
     "execution_count": 10,
     "metadata": {},
     "output_type": "execute_result"
    }
   ],
   "source": [
    "e2 = graphviz.Digraph('second expression', filename='fsm.gv')\n",
    "\n",
    "e2.attr(rankdir='LR', size='8,5')\n",
    "\n",
    "e2.attr('node', shape='circle')\n",
    "e2.edge('a', 'c', label='dc/da=5')\n",
    "e2.edge('b', 'c', label='dc/db=3')\n",
    "e2.edge('a', 'e', label='de/da=9')\n",
    "e2.edge('d', 'e', label='de/dd=3')\n",
    "e2.edge('c', 'f', label='df/dc=1')\n",
    "e2.edge('e', 'f', label='df/de=1')\n",
    "\n",
    "e2"
   ]
  },
  {
   "cell_type": "markdown",
   "metadata": {
    "id": "A5oi21W4gpeM"
   },
   "source": [
    "## Exercise c) What happens if we run backward again?\n",
    "\n",
    "Try to execute the code below. Explain what happens."
   ]
  },
  {
   "cell_type": "code",
   "execution_count": 17,
   "metadata": {
    "colab": {
     "base_uri": "https://localhost:8080/"
    },
    "id": "DCtpJyr-gyX1",
    "outputId": "d014bcfa-c9ae-49c3-d268-91cc6ca94ea5"
   },
   "outputs": [
    {
     "name": "stdout",
     "output_type": "stream",
     "text": [
      "Var(v=3.0000, grad=28.0000)\n",
      "Var(v=5.0000, grad=6.0000)\n",
      "Var(v=15.0000, grad=2.0000)\n",
      "Var(v=9.0000, grad=6.0000)\n",
      "Var(v=27.0000, grad=2.0000)\n",
      "Var(v=42.0000, grad=2.0000)\n"
     ]
    }
   ],
   "source": [
    "f.backward()\n",
    "\n",
    "for v in [a, b, c, d, e, f]:\n",
    "    print(v)"
   ]
  },
  {
   "cell_type": "markdown",
   "metadata": {},
   "source": [
    "The values remains the same but the gradients double. This is due to the fact that the backward only uses the gradient values which is stored in the grad_fn function. These values are not changed when the backward() is ranned a second time. Since the grad value is not reset the new grad values will be added to the old. Which results in the values being doubled."
   ]
  },
  {
   "cell_type": "markdown",
   "metadata": {
    "id": "e8bPVq2VhsP-"
   },
   "source": [
    "## Exercise d) Zero gradient\n",
    "\n",
    "We can zero the gradient by backpropagating a -1.0 as is shown in the example below. (If you have run backward multiple time then you also have to run the cell below an equal amount of times.) Explain what is going on."
   ]
  },
  {
   "cell_type": "code",
   "execution_count": 18,
   "metadata": {
    "colab": {
     "base_uri": "https://localhost:8080/"
    },
    "id": "OnyPDQx9lJe0",
    "outputId": "7a125fdc-60c4-4340-a580-8b82aea5b0db"
   },
   "outputs": [
    {
     "name": "stdout",
     "output_type": "stream",
     "text": [
      "Var(v=2.0000, grad=0.0000)\n",
      "Var(v=5.0000, grad=6.0000)\n",
      "Var(v=15.0000, grad=2.0000)\n",
      "Var(v=9.0000, grad=6.0000)\n",
      "Var(v=27.0000, grad=2.0000)\n",
      "Var(v=42.0000, grad=2.0000)\n",
      "Var(v=2.0000, grad=0.0000)\n",
      "Var(v=5.0000, grad=3.0000)\n",
      "Var(v=15.0000, grad=1.0000)\n",
      "Var(v=9.0000, grad=3.0000)\n",
      "Var(v=27.0000, grad=1.0000)\n",
      "Var(v=42.0000, grad=1.0000)\n"
     ]
    }
   ],
   "source": [
    "a = Var(2.0)\n",
    "\n",
    "for v in [a, b, c, d, e, f]:\n",
    "    print(v)\n",
    "\n",
    "f.backprop(-1.0)\n",
    "\n",
    "for v in [a, b, c, d, e, f]:\n",
    "    print(v)"
   ]
  },
  {
   "cell_type": "markdown",
   "metadata": {},
   "source": [
    "The backward and backprop is essentially the same. The only difference is that backward runs backprop(1.0). Using a value of -1 in backprop does the same as running backward a second time but instead of adding the gradients to the stored gradients we know substract them. This results in the original gradients before running backprop. "
   ]
  },
  {
   "cell_type": "markdown",
   "metadata": {
    "id": "U4057_ljNvWB"
   },
   "source": [
    "## Exercise e) Test correctness of derivatives with the finite difference method\n",
    "\n",
    "Write a small function that uses [the finite difference method](https://en.wikipedia.org/wiki/Finite_difference_method) to numerically test that backpropation implementation is working. In short we will use\n",
    "$$\n",
    "\\frac{\\partial f(a)}{\\partial a} \\approx \\frac{f(a+da)-f(a)}{da}\n",
    "$$\n",
    "for $da \\ll 1$.\n",
    "\n",
    "As an example, we could approximate the derivative of the function $f(a)=a^2$ in e.g. the value $a=4$ using the finite difference method. This amounts to inserting the relevant values and approximating the gradient $f'(4)$ with the fraction above. \n"
   ]
  },
  {
   "cell_type": "code",
   "execution_count": 25,
   "metadata": {
    "colab": {
     "base_uri": "https://localhost:8080/"
    },
    "id": "9TGil92lSXDN",
    "outputId": "7ef5489b-b525-4132-ab08-0b1109c07f4d"
   },
   "outputs": [
    {
     "name": "stdout",
     "output_type": "stream",
     "text": [
      "Var(v=3.0000, grad=5.0000)\n",
      "Var(v=5.0000, grad=3.0000)\n",
      "Var(v=15.0000, grad=1.0000)\n",
      "5.000000413701855\n"
     ]
    }
   ],
   "source": [
    "# f function - try to change the code to test other types of functions as well (such as different polynomials etc.)\n",
    "def f_function(a):\n",
    "  a = Var(a)\n",
    "  b = Var(5.0)\n",
    "  f = a * b\n",
    "  f.backward()\n",
    "  return a,b,f\n",
    "\n",
    "for v in f_function(3.0):\n",
    "  print(v)\n",
    "\n",
    "# Insert your finite difference code here\n",
    "def finite_difference(da=1e-10):\n",
    "    \"\"\"\n",
    "    This function compute the finite difference between\n",
    "    \n",
    "    Input:\n",
    "    da:          The finite difference                           (float)\n",
    "    \n",
    "    Output:\n",
    "    finite_difference: numerical approximation to the derivative (float) \n",
    "    \"\"\"\n",
    "    \n",
    "    fa_da = f_function(3.0)[2].v           # <- Insert correct expression\n",
    "    fa = f_function(3.0-1e-10)[2].v               # <- Insert correct expression\n",
    "\n",
    "    finite_difference = (fa_da - fa) / da\n",
    "    \n",
    "    return finite_difference\n",
    "\n",
    "print(finite_difference())"
   ]
  },
  {
   "cell_type": "markdown",
   "metadata": {
    "id": "6pZar5RKaUkg"
   },
   "source": [
    "# Create an artificial dataset to play with\n",
    "\n",
    "We create a non-linear 1d regression task. The generator supports various noise levels and it creates train, validation and test sets. You can modify it yourself if you want more or less challenging tasks."
   ]
  },
  {
   "cell_type": "code",
   "execution_count": 26,
   "metadata": {
    "id": "Y6yfMAQ8aduj"
   },
   "outputs": [],
   "source": [
    "import numpy as np\n",
    "import matplotlib.pyplot as plt\n",
    "\n",
    "np.random.seed(42)"
   ]
  },
  {
   "cell_type": "code",
   "execution_count": 27,
   "metadata": {
    "id": "4YabfD43ajNh"
   },
   "outputs": [],
   "source": [
    "def data_generator(noise=0.1, n_samples=300, D1=True):\n",
    "    # Create covariates and response variable\n",
    "    if D1:\n",
    "        X = np.linspace(-3, 3, num=n_samples).reshape(-1,1) # 1-D\n",
    "        np.random.shuffle(X)\n",
    "        y = np.random.normal((0.5*np.sin(X[:,0]*3) + X[:,0]), noise) # 1-D with trend\n",
    "    else:\n",
    "        X = np.random.multivariate_normal(np.zeros(3), noise*np.eye(3), size = n_samples) # 3-D\n",
    "        np.random.shuffle(X)    \n",
    "        y = np.sin(X[:,0]) - 5*(X[:,1]**2) + 0.5*X[:,2] # 3-D\n",
    "\n",
    "    # Stack them together vertically to split data set\n",
    "    data_set = np.vstack((X.T,y)).T\n",
    "    \n",
    "    train, validation, test = np.split(data_set, [int(0.35*n_samples), int(0.7*n_samples)], axis=0)\n",
    "    \n",
    "    # Standardization of the data, remember we do the standardization with the training set mean and standard deviation\n",
    "    train_mu = np.mean(train, axis=0)\n",
    "    train_sigma = np.std(train, axis=0)\n",
    "    \n",
    "    train = (train-train_mu)/train_sigma\n",
    "    validation = (validation-train_mu)/train_sigma\n",
    "    test = (test-train_mu)/train_sigma\n",
    "    \n",
    "    x_train, x_validation, x_test = train[:,:-1], validation[:,:-1], test[:,:-1]\n",
    "    y_train, y_validation, y_test = train[:,-1], validation[:,-1], test[:,-1]\n",
    "\n",
    "    return x_train, y_train,  x_validation, y_validation, x_test, y_test"
   ]
  },
  {
   "cell_type": "code",
   "execution_count": 28,
   "metadata": {
    "id": "u1oDngHLapIz"
   },
   "outputs": [],
   "source": [
    "D1 = True\n",
    "x_train, y_train,  x_validation, y_validation, x_test, y_test = data_generator(noise=0.5, D1=D1)"
   ]
  },
  {
   "cell_type": "code",
   "execution_count": 29,
   "metadata": {
    "colab": {
     "base_uri": "https://localhost:8080/",
     "height": 265
    },
    "id": "Ysfa3FsBavlm",
    "outputId": "399e5382-ae7d-48f6-9774-7ea4c73e7d95"
   },
   "outputs": [
    {
     "data": {
      "image/png": "[encoded data removed]",
      "text/plain": [
       "<Figure size 640x480 with 1 Axes>"
      ]
     },
     "metadata": {},
     "output_type": "display_data"
    }
   ],
   "source": [
    "if D1:\n",
    "    plt.scatter(x_train[:,0], y_train);\n",
    "    plt.scatter(x_validation[:,0], y_validation);\n",
    "    plt.scatter(x_test[:,0], y_test);\n",
    "else:\n",
    "    plt.scatter(x_train[:,1], y_train);\n",
    "    plt.scatter(x_validation[:,1], y_validation);\n",
    "    plt.scatter(x_test[:,1], y_test);\n",
    "plt.show()"
   ]
  },
  {
   "cell_type": "code",
   "execution_count": 30,
   "metadata": {
    "id": "zac2HHNlgbpm"
   },
   "outputs": [],
   "source": [
    "# convert from nparray to Var\n",
    "def nparray_to_Var(x):\n",
    "  if x.ndim==1:\n",
    "    y = [[Var(float(x[i]))] for i in range(x.shape[0])] # always work with list of list\n",
    "  else:\n",
    "    y = [[Var(float(x[i,j])) for j in range(x.shape[1])] for i in range(x.shape[0])]\n",
    "  return y\n",
    "   \n",
    "x_train = nparray_to_Var(x_train)\n",
    "y_train = nparray_to_Var(y_train)\n",
    "x_validation = nparray_to_Var(x_validation)\n",
    "y_validation = nparray_to_Var(y_validation)\n",
    "x_test = nparray_to_Var(x_test)\n",
    "y_test = nparray_to_Var(y_test)\n"
   ]
  },
  {
   "cell_type": "markdown",
   "metadata": {
    "id": "VbjrqcpVFtGe"
   },
   "source": [
    "# Defining and initializing the network\n",
    "\n",
    "The steps to create a feed forward neural network are the following:\n",
    "\n",
    "1. **Number of hidden layer and hidden units**. We have to define the number of hidden units in each layer. The number of features in X and the output dimensionality (the size of Y) are given but the numbers in between are set by the researcher. Remember that for each unit in each layer beside in the input has a bias term.\n",
    "2. **Activation functions** for each hidden layer. Each hidden layer in your list must have an activation function (it can also be the linear activation which is equivalent to identity function). The power of neural networks comes from non-linear activation functions that learn representations (features) from the data allowing us to learn from it. \n",
    "3. **Parameter initialization**. We will initialize the weights to have random values. This is done in practice by drawing pseudo random numbers from a Gaussian or uniform distribution. It turns out that for deeper models we have to be careful about how we scale the random numbers. This will be the topic of the exercise below. For now we will just use unit variance Gaussians.  \n",
    "\n",
    "In order to make life easier for ourselves we define a DenseLayer class that takes care of initialization and the forward pass. We can also extend it later with print and advanced initialization capabilities. For the latter we have introduced a Initializer class.\n",
    "\n",
    "Note that we use Sequence in the code below. A Sequence is an ordered list. This means the order we insert and access items are the same."
   ]
  },
  {
   "cell_type": "code",
   "execution_count": 31,
   "metadata": {
    "id": "ij_ieRsAt7Xt"
   },
   "outputs": [],
   "source": [
    "class Initializer:\n",
    "\n",
    "  def init_weights(self, n_in, n_out):\n",
    "    raise NotImplementedError\n",
    "\n",
    "  def init_bias(self, n_out):\n",
    "    raise NotImplementedError"
   ]
  },
  {
   "cell_type": "code",
   "execution_count": 32,
   "metadata": {
    "id": "eb18N5phuIha"
   },
   "outputs": [],
   "source": [
    "import random\n",
    "\n",
    "class NormalInitializer(Initializer):\n",
    "\n",
    "  def __init__(self, mean=0, std=0.1):\n",
    "    self.mean = mean\n",
    "    self.std = std\n",
    "\n",
    "  def init_weights(self, n_in, n_out):\n",
    "    return [[Var(random.gauss(self.mean, self.std)) for _ in range(n_out)] for _ in range(n_in)]\n",
    "\n",
    "  def init_bias(self, n_out):\n",
    "    return [Var(0.0) for _ in range(n_out)]\n",
    "\n",
    "class ConstantInitializer(Initializer):\n",
    "\n",
    "  def __init__(self, weight=1.0, bias=0.0):\n",
    "    self.weight = weight\n",
    "    self.bias = bias\n",
    "\n",
    "  def init_weights(self, n_in, n_out):\n",
    "    return [[Var(self.weight) for _ in range(n_out)] for _ in range(n_in)]\n",
    "\n",
    "  def init_bias(self, n_out):\n",
    "    return [Var(self.bias) for _ in range(n_out)]"
   ]
  },
  {
   "cell_type": "code",
   "execution_count": 55,
   "metadata": {
    "id": "jOLYGnZKuM6W"
   },
   "outputs": [],
   "source": [
    "from typing import Sequence\n",
    "\n",
    "class DenseLayer:\n",
    "    def __init__(self, n_in: int, n_out: int, act_fn, initializer = NormalInitializer()):\n",
    "        self.weights = initializer.init_weights(n_in, n_out)\n",
    "        self.bias = initializer.init_bias(n_out)\n",
    "        self.act_fn = act_fn\n",
    "    \n",
    "    def __repr__(self):    \n",
    "        return 'Weights: ' + repr(self.weights) + ' Biases: ' + repr(self.bias)\n",
    "    \n",
    "    def print_weights_biases(self):\n",
    "        w = [self.weights[i][j].v for i in range(len(self.weights)) for j in range(len(self.weights[0]))]\n",
    "        b = [self.bias[i].v for i in range(len(self.bias))]\n",
    "        print('Weights: ',repr(w),' Biases: ' + repr(b))\n",
    "\n",
    "    def parameters(self) -> Sequence[Var]:\n",
    "      params = []\n",
    "      for r in self.weights:\n",
    "        params += r\n",
    "\n",
    "      return params + self.bias\n",
    "\n",
    "    def forward(self, single_input: Sequence[Var]) -> Sequence[Var]:\n",
    "        # self.weights is a matrix with dimension n_in x n_out. We check that the dimensionality of the input \n",
    "        # to the current layer matches the number of nodes in the current layer\n",
    "        assert len(self.weights) == len(single_input), \"weights and single_input must match in first dimension\"\n",
    "        weights = self.weights\n",
    "        out = []\n",
    "        # For some given data point single_input, we now want to calculate the resulting value in each node in the current layer\n",
    "        # We therefore loop over the (number of) nodes in the current layer:\n",
    "        for j in range(len(weights[0])): \n",
    "            # Initialize the node value depending on its corresponding parameters.\n",
    "            node = self.bias[j]\n",
    "            # We now finish the linear transformation corresponding to the parameters of the currently considered node.\n",
    "            for i in range(len(single_input)):\n",
    "                node += weights[i][j] * single_input[i]\n",
    "            node = self.act_fn(node)\n",
    "            out.append(node)\n",
    "\n",
    "        return out"
   ]
  },
  {
   "cell_type": "markdown",
   "metadata": {
    "id": "jpIZPBpNI0pO"
   },
   "source": [
    "## Exercise f) Add more activation functions\n",
    "\n",
    "To have a full definition of the neural network, we must define an activation function for every layer. Several activation functions have been proposed and have different characteristics. In the Var class we have already defined the rectified linear init (relu). \n",
    " \n",
    "Implement the following activation functions in the Var class:\n",
    "\n",
    "* Identity: $$\\mathrm{identity}(x) = x$$\n",
    "* Hyperbolic tangent: $$\\tanh(x)$$\n",
    "* Sigmoid (or logistic function): $$\\mathrm{sigmoid}(x) = \\frac{1}{1.0 + \\exp(-x ) }$$  Hint: $\\mathrm{sigmoid}'(x)= \\mathrm{sigmoid}(x)(1-\\mathrm{sigmoid}(x))$.  \n",
    "\n",
    "Hint: You can seek inspiration in the relu method in the Var class."
   ]
  },
  {
   "cell_type": "markdown",
   "metadata": {
    "id": "p_8n_SKnIW2F"
   },
   "source": [
    "## Exercise g) Complete the forward pass\n",
    "\n",
    "In the code below we initialize a 1-5-1 network and pass the training set through it. *The forward method in DenseLayer is **not** complete*. It just outputs zeros right now. The method forward should perform an [affine transformation](https://en.wikipedia.org/wiki/Affine_transformation) on the input followed by an application of the activation function."
   ]
  },
  {
   "cell_type": "code",
   "execution_count": 61,
   "metadata": {
    "colab": {
     "base_uri": "https://localhost:8080/",
     "height": 337
    },
    "id": "xDEjtePxE7Mv",
    "outputId": "753406cd-d8a1-4282-ce03-25ad959b0e11"
   },
   "outputs": [
    {
     "name": "stdout",
     "output_type": "stream",
     "text": [
      "[[Var(v=-0.0025, grad=0.0000)], [Var(v=-0.0051, grad=0.0000)], [Var(v=-0.0005, grad=0.0000)], [Var(v=-0.0006, grad=0.0000)], [Var(v=-0.0037, grad=0.0000)], [Var(v=-0.0034, grad=0.0000)], [Var(v=-0.0022, grad=0.0000)], [Var(v=-0.0001, grad=0.0000)], [Var(v=-0.0006, grad=0.0000)], [Var(v=-0.0014, grad=0.0000)], [Var(v=-0.0039, grad=0.0000)], [Var(v=-0.0004, grad=0.0000)], [Var(v=-0.0031, grad=0.0000)], [Var(v=-0.0005, grad=0.0000)], [Var(v=-0.0017, grad=0.0000)], [Var(v=-0.0032, grad=0.0000)], [Var(v=-0.0060, grad=0.0000)], [Var(v=-0.0028, grad=0.0000)], [Var(v=-0.0003, grad=0.0000)], [Var(v=-0.0010, grad=0.0000)], [Var(v=-0.0003, grad=0.0000)], [Var(v=-0.0001, grad=0.0000)], [Var(v=-0.0044, grad=0.0000)], [Var(v=-0.0044, grad=0.0000)], [Var(v=-0.0002, grad=0.0000)], [Var(v=-0.0005, grad=0.0000)], [Var(v=-0.0057, grad=0.0000)], [Var(v=-0.0062, grad=0.0000)], [Var(v=-0.0007, grad=0.0000)], [Var(v=-0.0039, grad=0.0000)], [Var(v=-0.0006, grad=0.0000)], [Var(v=-0.0009, grad=0.0000)], [Var(v=-0.0005, grad=0.0000)], [Var(v=-0.0006, grad=0.0000)], [Var(v=-0.0030, grad=0.0000)], [Var(v=-0.0001, grad=0.0000)], [Var(v=-0.0006, grad=0.0000)], [Var(v=-0.0002, grad=0.0000)], [Var(v=-0.0004, grad=0.0000)], [Var(v=-0.0003, grad=0.0000)], [Var(v=-0.0002, grad=0.0000)], [Var(v=-0.0003, grad=0.0000)], [Var(v=-0.0059, grad=0.0000)], [Var(v=-0.0004, grad=0.0000)], [Var(v=-0.0003, grad=0.0000)], [Var(v=-0.0004, grad=0.0000)], [Var(v=-0.0038, grad=0.0000)], [Var(v=-0.0036, grad=0.0000)], [Var(v=-0.0001, grad=0.0000)], [Var(v=-0.0036, grad=0.0000)], [Var(v=-0.0016, grad=0.0000)], [Var(v=-0.0001, grad=0.0000)], [Var(v=-0.0040, grad=0.0000)], [Var(v=-0.0003, grad=0.0000)], [Var(v=-0.0063, grad=0.0000)], [Var(v=-0.0055, grad=0.0000)], [Var(v=-0.0002, grad=0.0000)], [Var(v=-0.0002, grad=0.0000)], [Var(v=-0.0021, grad=0.0000)], [Var(v=-0.0005, grad=0.0000)], [Var(v=-0.0037, grad=0.0000)], [Var(v=-0.0004, grad=0.0000)], [Var(v=-0.0006, grad=0.0000)], [Var(v=-0.0018, grad=0.0000)], [Var(v=-0.0013, grad=0.0000)], [Var(v=-0.0005, grad=0.0000)], [Var(v=-0.0006, grad=0.0000)], [Var(v=-0.0046, grad=0.0000)], [Var(v=-0.0004, grad=0.0000)], [Var(v=-0.0018, grad=0.0000)], [Var(v=-0.0002, grad=0.0000)], [Var(v=-0.0001, grad=0.0000)], [Var(v=-0.0036, grad=0.0000)], [Var(v=-0.0021, grad=0.0000)], [Var(v=-0.0001, grad=0.0000)], [Var(v=-0.0057, grad=0.0000)], [Var(v=-0.0003, grad=0.0000)], [Var(v=-0.0003, grad=0.0000)], [Var(v=-0.0004, grad=0.0000)], [Var(v=-0.0059, grad=0.0000)], [Var(v=-0.0009, grad=0.0000)], [Var(v=-0.0005, grad=0.0000)], [Var(v=-0.0006, grad=0.0000)], [Var(v=-0.0001, grad=0.0000)], [Var(v=-0.0003, grad=0.0000)], [Var(v=-0.0001, grad=0.0000)], [Var(v=-0.0001, grad=0.0000)], [Var(v=-0.0003, grad=0.0000)], [Var(v=-0.0006, grad=0.0000)], [Var(v=-0.0006, grad=0.0000)], [Var(v=-0.0022, grad=0.0000)], [Var(v=-0.0002, grad=0.0000)], [Var(v=-0.0003, grad=0.0000)], [Var(v=-0.0034, grad=0.0000)], [Var(v=-0.0005, grad=0.0000)], [Var(v=-0.0006, grad=0.0000)], [Var(v=-0.0015, grad=0.0000)], [Var(v=-0.0003, grad=0.0000)], [Var(v=-0.0054, grad=0.0000)], [Var(v=-0.0003, grad=0.0000)], [Var(v=-0.0035, grad=0.0000)], [Var(v=-0.0003, grad=0.0000)], [Var(v=-0.0005, grad=0.0000)], [Var(v=-0.0017, grad=0.0000)], [Var(v=-0.0050, grad=0.0000)]]\n"
     ]
    }
   ],
   "source": [
    "NN = [\n",
    "    DenseLayer(1, 5, lambda x: x.relu()),\n",
    "    DenseLayer(5, 1, lambda x: x.identity())\n",
    "]\n",
    "\n",
    "def forward(input, network):\n",
    "\n",
    "  def forward_single(x, network):\n",
    "    for layer in network:\n",
    "        x = layer.forward(x)\n",
    "    return x\n",
    "\n",
    "  output = [ forward_single(input[n], network) for n in range(len(input))]\n",
    "  return output\n",
    "\n",
    "print(forward(x_train, NN))\n"
   ]
  },
  {
   "cell_type": "markdown",
   "metadata": {
    "id": "oLrGJytZFtGm"
   },
   "source": [
    "## Exercise h) Print all network parameters\n",
    "\n",
    "Make a function that prints all the parameters of the network (weights and biases) with information about in which layer the appear. In the object oriented spirit you should introduce a method in the DenseLayer class to print the parameters of a layer. Hint: You can take inspiration from the corresponding method in Var. "
   ]
  },
  {
   "cell_type": "code",
   "execution_count": 62,
   "metadata": {
    "id": "iac-VwYGFtGm"
   },
   "outputs": [
    {
     "name": "stdout",
     "output_type": "stream",
     "text": [
      "Weights:  [0.0666265697418315, 0.18064181190013445, 0.09540348452424888, -0.016263537656818594, -0.015389012836812875]  Biases: [0.0, 0.0, 0.0, 0.0, 0.0]\n",
      "Weights:  [0.021761941846645844, 0.03642279776229865, -0.12068373668834809, -0.037728155344015205, 0.013230653296468775]  Biases: [0.0]\n"
     ]
    }
   ],
   "source": [
    "# Insert code here and in the DenseLayer class\n",
    "for i, layer in enumerate(NN):\n",
    "  layer.print_weights_biases()"
   ]
  },
  {
   "cell_type": "markdown",
   "metadata": {
    "id": "_79HOAXrFtHK"
   },
   "source": [
    "## Visualization\n",
    "\n",
    "Now that we have defined our activation functions we can visualize them to see what they look like:"
   ]
  },
  {
   "cell_type": "code",
   "execution_count": 63,
   "metadata": {
    "id": "1FcylHqLTl-Z"
   },
   "outputs": [
    {
     "data": {
      "text/plain": [
       "[<matplotlib.lines.Line2D at 0x1e531bbe3d0>]"
      ]
     },
     "execution_count": 63,
     "metadata": {},
     "output_type": "execute_result"
    },
    {
     "data": {
      "image/png": "[encoded data removed]",
      "text/plain": [
       "<Figure size 640x480 with 1 Axes>"
      ]
     },
     "metadata": {},
     "output_type": "display_data"
    }
   ],
   "source": [
    "x = np.linspace(-6, 6, 100)\n",
    "\n",
    "# convert from Var to ndarray  \n",
    "def Var_to_nparray(x):\n",
    "  y = np.zeros((len(x),len(x[0])))\n",
    "  for i in range(len(x)):\n",
    "    for j in range(len(x[0])):\n",
    "      y[i,j] = x[i][j].v\n",
    "  return y\n",
    "\n",
    "# define 1-1 network with weight = 1 and relu activation \n",
    "NN = [ DenseLayer(1, 1, lambda x: x.relu(), initializer = ConstantInitializer(1.0)) ] \n",
    "y = Var_to_nparray(forward(nparray_to_Var(x), NN))\n",
    "\n",
    "#y = Var_to_nparray(relu(nparray_to_Var(x)))\n",
    "plt.plot(x,y)"
   ]
  },
  {
   "cell_type": "code",
   "execution_count": 64,
   "metadata": {
    "id": "oOL2UolJFtHL"
   },
   "outputs": [
    {
     "data": {
      "image/png": "[encoded data removed]",
      "text/plain": [
       "<Figure size 500x500 with 1 Axes>"
      ]
     },
     "metadata": {},
     "output_type": "display_data"
    }
   ],
   "source": [
    "# Testing all activation layers\n",
    "\n",
    "x = np.linspace(-6, 6, 100)\n",
    "units = {\n",
    "    \"identity\": lambda x: x.identity(),\n",
    "    \"sigmoid\": lambda x: x.sigmoid(),\n",
    "    \"relu\": lambda x: x.relu(),\n",
    "    \"tanh\": lambda x: x.tanh()\n",
    "}\n",
    "\n",
    "plt.figure(figsize=(5, 5))\n",
    "[plt.plot(x, Var_to_nparray(forward(nparray_to_Var(x), [DenseLayer(1, 1, unit, initializer = ConstantInitializer(1.0))]) ), label=unit_name, lw=2) for unit_name, unit in units.items()] # unit(nparray_to_Var(x))), label=unit_name, lw=2) for unit_name, unit in units.items()]\n",
    "plt.legend(loc=2, fontsize=16)\n",
    "plt.title('Our activation functions', fontsize=20)\n",
    "plt.ylim([-2, 5])\n",
    "plt.xlim([-6, 6])\n",
    "plt.show()"
   ]
  },
  {
   "cell_type": "markdown",
   "metadata": {
    "id": "b-jdEl-7FtGs"
   },
   "source": [
    "# Advanced initialization schemes\n",
    "\n",
    "If we are not careful with initialization, the signals we propagate forward ($a^{(l)}$, $l=1,\\ldots,L$) and backward ($\\delta^l$, $l=L,L-1,\\ldots,1$) can blow up or shrink to zero. A statistical analysis of the variance of the signals for different activation functions can be found in these two papers: [Glorot initialization](http://proceedings.mlr.press/v9/glorot10a/glorot10a.pdf) and [He initialization](https://arxiv.org/pdf/1502.01852v1.pdf). \n",
    "\n",
    "The result of the analyses are proposals for how to make the initialization such that the variance of the signals (forward and backward) are kept approxmimatly constant when propagating from layer to layer. The exact expressions depend upon the non-linear activation function used. In Glorot initialization, the aim is to keep both the forward and backward variances constant whereas He only aims at keeping the variance in the forward pass constant.\n",
    "\n",
    "We define $n_{in}$ and $n_{out}$ as the number of input units and output units of a particular layer. \n",
    "\n",
    "The Glorot initialization has the form: \n",
    "\n",
    "$$w_{ij} \\sim N \\bigg( 0, \\, \\frac{2 \\alpha }{n_{in} + n_{out}} \\bigg) \\ . $$\n",
    "\n",
    "where $N(\\mu,\\sigma^2)$ is a Gaussian distribution with mean $\\mu$ and variance $\\sigma^2$ and $\\alpha$ is a parameter that depends upon the activation function used. For $\\tanh$, $\\alpha=1$ and for Rectified Linear Unit (ReLU) activations, $\\alpha=2$. (It is also possible to use a uniform distribution for initialization, see [this blog post](https://mmuratarat.github.io/2019-02-25/xavier-glorot-he-weight-init).) \n",
    "\n",
    "The He initialization is very similar\n",
    "\n",
    "$$w_{ij} \\sim N \\bigg( 0, \\, \\frac{\\alpha}{n_{in}} \\bigg) \\ . $$"
   ]
  },
  {
   "cell_type": "markdown",
   "metadata": {
    "id": "mqeyab9qFtGs"
   },
   "source": [
    "## Exercise i) Glorot and He initialization\n",
    " \n",
    "Using the Initializer class, implement functions that implement Glorot and He \n",
    "\n",
    "Explain briefly how you would test numerically that these initializations have the sought after property. Hint: See plots in Glorot paper.\n",
    "\n",
    "Comment: If you want to be more advanced then try to make a universal initializer taking both the activation function and type (Glorot or He) as argument."
   ]
  },
  {
   "cell_type": "markdown",
   "metadata": {},
   "source": [
    "Solution/comment: Calculating and tracking the variance of the forward and backward pass will allow us to see if the sought after property holds."
   ]
  },
  {
   "cell_type": "code",
   "execution_count": 65,
   "metadata": {
    "id": "Qyk01CgaFtGt"
   },
   "outputs": [],
   "source": [
    "## Glorot\n",
    "def DenseLayer_Glorot_tanh(n_in: int, n_out: int):\n",
    "  std = 2/(n_in+n_out)\n",
    "  return DenseLayer(n_in, n_out, lambda x: x.tanh(), initializer = NormalInitializer(std))\n",
    "\n",
    "## He\n",
    "def DenseLayer_He_relu(n_in: int, n_out: int):\n",
    "  std = 2/n_in\n",
    "  return DenseLayer(n_in, n_out, lambda x: x.relu(), initializer = NormalInitializer(std))"
   ]
  },
  {
   "cell_type": "markdown",
   "metadata": {
    "id": "-XyXBD37FtHk"
   },
   "source": [
    "## Exercise j) Forward pass unit test\n",
    "\n",
    "Write a bit of code to make a unit test that the forward pass works. This can be done by defining a simple network with for example all weights equal to one (using the ConstantInitializer method) and identity activation functions. \n",
    "\n",
    "Hints: Use the [assert](https://www.w3schools.com/python/ref_keyword_assert.asp), the nparray_to_Var and the Var_to_nparray commands. "
   ]
  },
  {
   "cell_type": "code",
   "execution_count": 70,
   "metadata": {
    "id": "k0miqRUAFtHl"
   },
   "outputs": [
    {
     "data": {
      "text/plain": [
       "[[Var(v=0.2824, grad=0.0000)],\n",
       " [Var(v=0.5093, grad=0.0000)],\n",
       " [Var(v=0.0536, grad=0.0000)],\n",
       " [Var(v=-0.5276, grad=0.0000)],\n",
       " [Var(v=0.3998, grad=0.0000)],\n",
       " [Var(v=0.3738, grad=0.0000)],\n",
       " [Var(v=0.2528, grad=0.0000)],\n",
       " [Var(v=-0.1474, grad=0.0000)],\n",
       " [Var(v=-0.5389, grad=0.0000)],\n",
       " [Var(v=0.1600, grad=0.0000)],\n",
       " [Var(v=0.4142, grad=0.0000)],\n",
       " [Var(v=-0.3672, grad=0.0000)],\n",
       " [Var(v=0.3431, grad=0.0000)],\n",
       " [Var(v=-0.4115, grad=0.0000)],\n",
       " [Var(v=0.1915, grad=0.0000)],\n",
       " [Var(v=0.3547, grad=0.0000)],\n",
       " [Var(v=0.5731, grad=0.0000)],\n",
       " [Var(v=0.3152, grad=0.0000)],\n",
       " [Var(v=0.0348, grad=0.0000)],\n",
       " [Var(v=0.1142, grad=0.0000)],\n",
       " [Var(v=-0.2833, grad=0.0000)],\n",
       " [Var(v=-0.1291, grad=0.0000)],\n",
       " [Var(v=0.4555, grad=0.0000)],\n",
       " [Var(v=0.4588, grad=0.0000)],\n",
       " [Var(v=-0.1702, grad=0.0000)],\n",
       " [Var(v=-0.4221, grad=0.0000)],\n",
       " [Var(v=0.5520, grad=0.0000)],\n",
       " [Var(v=0.5881, grad=0.0000)],\n",
       " [Var(v=0.0770, grad=0.0000)],\n",
       " [Var(v=0.4177, grad=0.0000)],\n",
       " [Var(v=-0.5040, grad=0.0000)],\n",
       " [Var(v=0.1096, grad=0.0000)],\n",
       " [Var(v=-0.4530, grad=0.0000)],\n",
       " [Var(v=-0.4823, grad=0.0000)],\n",
       " [Var(v=0.3312, grad=0.0000)],\n",
       " [Var(v=-0.1014, grad=0.0000)],\n",
       " [Var(v=-0.5333, grad=0.0000)],\n",
       " [Var(v=-0.2322, grad=0.0000)],\n",
       " [Var(v=-0.4079, grad=0.0000)],\n",
       " [Var(v=-0.3040, grad=0.0000)],\n",
       " [Var(v=-0.2191, grad=0.0000)],\n",
       " [Var(v=-0.2917, grad=0.0000)],\n",
       " [Var(v=0.5653, grad=0.0000)],\n",
       " [Var(v=-0.3557, grad=0.0000)],\n",
       " [Var(v=-0.2875, grad=0.0000)],\n",
       " [Var(v=-0.3440, grad=0.0000)],\n",
       " [Var(v=0.4034, grad=0.0000)],\n",
       " [Var(v=0.3851, grad=0.0000)],\n",
       " [Var(v=-0.1383, grad=0.0000)],\n",
       " [Var(v=0.3925, grad=0.0000)],\n",
       " [Var(v=0.1826, grad=0.0000)],\n",
       " [Var(v=0.0159, grad=0.0000)],\n",
       " [Var(v=0.4213, grad=0.0000)],\n",
       " [Var(v=-0.2958, grad=0.0000)],\n",
       " [Var(v=0.5930, grad=0.0000)],\n",
       " [Var(v=0.5438, grad=0.0000)],\n",
       " [Var(v=-0.2015, grad=0.0000)],\n",
       " [Var(v=-0.2235, grad=0.0000)],\n",
       " [Var(v=0.2355, grad=0.0000)],\n",
       " [Var(v=-0.4791, grad=0.0000)],\n",
       " [Var(v=0.3961, grad=0.0000)],\n",
       " [Var(v=-0.3595, grad=0.0000)],\n",
       " [Var(v=-0.5361, grad=0.0000)],\n",
       " [Var(v=0.2049, grad=0.0000)],\n",
       " [Var(v=0.1509, grad=0.0000)],\n",
       " [Var(v=-0.4629, grad=0.0000)],\n",
       " [Var(v=-0.4886, grad=0.0000)],\n",
       " [Var(v=0.4783, grad=0.0000)],\n",
       " [Var(v=-0.3710, grad=0.0000)],\n",
       " [Var(v=0.2093, grad=0.0000)],\n",
       " [Var(v=-0.1520, grad=0.0000)],\n",
       " [Var(v=-0.0687, grad=0.0000)],\n",
       " [Var(v=0.3888, grad=0.0000)],\n",
       " [Var(v=0.2399, grad=0.0000)],\n",
       " [Var(v=-0.0547, grad=0.0000)],\n",
       " [Var(v=0.5547, grad=0.0000)],\n",
       " [Var(v=-0.2665, grad=0.0000)],\n",
       " [Var(v=-0.2581, grad=0.0000)],\n",
       " [Var(v=-0.3322, grad=0.0000)],\n",
       " [Var(v=0.5705, grad=0.0000)],\n",
       " [Var(v=0.1049, grad=0.0000)],\n",
       " [Var(v=0.0629, grad=0.0000)],\n",
       " [Var(v=-0.4979, grad=0.0000)],\n",
       " [Var(v=-0.0781, grad=0.0000)],\n",
       " [Var(v=-0.2792, grad=0.0000)],\n",
       " [Var(v=-0.1245, grad=0.0000)],\n",
       " [Var(v=-0.1060, grad=0.0000)],\n",
       " [Var(v=-0.3081, grad=0.0000)],\n",
       " [Var(v=-0.5100, grad=0.0000)],\n",
       " [Var(v=-0.5247, grad=0.0000)],\n",
       " [Var(v=0.2442, grad=0.0000)],\n",
       " [Var(v=-0.1836, grad=0.0000)],\n",
       " [Var(v=-0.3242, grad=0.0000)],\n",
       " [Var(v=0.3663, grad=0.0000)],\n",
       " [Var(v=-0.4395, grad=0.0000)],\n",
       " [Var(v=-0.5070, grad=0.0000)],\n",
       " [Var(v=0.1781, grad=0.0000)],\n",
       " [Var(v=0.0301, grad=0.0000)],\n",
       " [Var(v=0.5326, grad=0.0000)],\n",
       " [Var(v=-0.3282, grad=0.0000)],\n",
       " [Var(v=0.3813, grad=0.0000)],\n",
       " [Var(v=-0.3202, grad=0.0000)],\n",
       " [Var(v=-0.4596, grad=0.0000)],\n",
       " [Var(v=0.1960, grad=0.0000)],\n",
       " [Var(v=0.5063, grad=0.0000)]]"
      ]
     },
     "execution_count": 70,
     "metadata": {},
     "output_type": "execute_result"
    }
   ],
   "source": [
    "# Insert code here\n",
    "NN = [DenseLayer_Glorot_tanh(1, 5), DenseLayer_Glorot_tanh(5, 1)]\n",
    "output = forward(x_train, NN)\n",
    "output"
   ]
  },
  {
   "cell_type": "markdown",
   "metadata": {
    "id": "faCxhfFnFtHp"
   },
   "source": [
    "# Loss functions\n",
    "\n",
    "We are only missing a loss function to we need to define a loss function and its derivative with respect to the output of the neural network $y$"
   ]
  },
  {
   "cell_type": "code",
   "execution_count": 67,
   "metadata": {
    "id": "I2eDYKvAFtHq"
   },
   "outputs": [],
   "source": [
    "def squared_loss(t, y):\n",
    "  \n",
    "  # add check that sizes agree\n",
    "  assert len(t) == len(y), \"t and y must have same length\"\n",
    "  \n",
    "  def squared_loss_single(t, y):\n",
    "    Loss = Var(0.0)\n",
    "    for i in range(len(t)): # sum over outputs\n",
    "      Loss += (t[i]-y[i]) ** 2\n",
    "    return Loss\n",
    "\n",
    "  Loss = Var(0.0)\n",
    "  for n in range(len(t)): # sum over training data\n",
    "    Loss += squared_loss_single(t[n],y[n])\n",
    "  return Loss"
   ]
  },
  {
   "cell_type": "markdown",
   "metadata": {
    "id": "SrwSJ2UWFtHu"
   },
   "source": [
    "## Exercise k) Implement cross entropy loss\n",
    "\n",
    "Insert code below to implement cross-entropy loss for general dimensionality of $t$. Use a logits formulation:\n",
    "$$\n",
    "\\rm{Loss} = - \\sum_i t_i \\, log \\, p_i \n",
    "$$\n",
    "with $p$ given by the the softmax function in terms of the logits $h$:\n",
    "$$\n",
    "p_i = \\frac{\\exp(h_i)}{\\sum_{i'} \\exp(h_{i'})} .\n",
    "$$\n",
    "Inserting $p$ in the expression for the loss gives\n",
    "$$\n",
    "\\rm{Loss} = - \\sum_i t_i h_i + \\rm{LogSumExp}(h) \\ ,\n",
    "$$\n",
    "where \n",
    "$$\n",
    "\\rm{LogSumExp}(h) = \\log \\sum_i \\exp h_i \\ .\n",
    "$$\n",
    "This is true for $t$ being a one-hot vector. \n",
    "\n",
    "Call the function to convince yourself it works. \n",
    "\n",
    "In practice you want to implement a [numerically stable](https://leimao.github.io/blog/LogSumExp/) version of LogSumExp. But we will not bother about that here.\n",
    "\n",
    "Help: You can add these methods in the Var class:\n",
    "\n",
    "    def exp(self):\n",
    "        return Var(exp(self.v), lambda: [(self, exp(self.v))])\n",
    "    \n",
    "    def log(self):\n",
    "        return Var(log(self.v), lambda: [(self, self.v ** -1)])"
   ]
  },
  {
   "cell_type": "code",
   "execution_count": 71,
   "metadata": {
    "id": "6nMuxyfzFtHv"
   },
   "outputs": [],
   "source": [
    "def cross_entropy_loss(t, h):\n",
    "     \n",
    "    logsumexp = lambda h: sum([h[i].exp() for i in range(len(h))]).log()\n",
    "    \n",
    "    loss = -sum([t[i]*h[i] for i in range(len(t))]) + logsumexp(h)\n",
    "    \n",
    "    return Loss"
   ]
  },
  {
   "cell_type": "markdown",
   "metadata": {
    "id": "8fAF5ew4FtHy"
   },
   "source": [
    "# Backward pass\n",
    "\n",
    "Now the magic happens! We get the calculation of the gradients for free. Just do:"
   ]
  },
  {
   "cell_type": "code",
   "execution_count": 72,
   "metadata": {
    "id": "iHyfPPI9Qqwu"
   },
   "outputs": [],
   "source": [
    "NN = [\n",
    "    DenseLayer(1, 5, lambda x: x.relu()),\n",
    "    DenseLayer(5, 1, lambda x: x.identity())\n",
    "]\n",
    "\n",
    "output = forward(x_train, NN)\n",
    "\n",
    "Loss = squared_loss(y_train,output)\n",
    "Loss.backward()"
   ]
  },
  {
   "cell_type": "markdown",
   "metadata": {
    "id": "49biIAYKQ1oG"
   },
   "source": [
    "and the gradients will be calculated:"
   ]
  },
  {
   "cell_type": "code",
   "execution_count": 78,
   "metadata": {},
   "outputs": [
    {
     "name": "stdout",
     "output_type": "stream",
     "text": [
      "Layer 0 \n",
      " Weights: [[Var(v=0.0356, grad=6.6005), Var(v=-0.0178, grad=-4.9085), Var(v=0.0429, grad=-1.7476), Var(v=-0.0829, grad=-6.4188), Var(v=-0.0060, grad=1.7985)]] Biases: [Var(v=0.0000, grad=5.6696), Var(v=0.0000, grad=4.4621), Var(v=0.0000, grad=-1.5012), Var(v=0.0000, grad=5.8350), Var(v=0.0000, grad=-1.6350)]\n",
      "Layer 1 \n",
      " Weights: [[Var(v=-0.0649, grad=-3.6204)], [Var(v=0.0508, grad=1.7193)], [Var(v=0.0172, grad=-4.3631)], [Var(v=0.0664, grad=8.0069)], [Var(v=-0.0186, grad=0.5841)]] Biases: [Var(v=0.0000, grad=0.4374)]\n",
      "Loss Var(v=105.7660, grad=1.0000)\n"
     ]
    }
   ],
   "source": [
    "[print('Layer', i, '\\n', NN[i]) for i in range(len(NN))]\n",
    "print('Loss', Loss)"
   ]
  },
  {
   "cell_type": "markdown",
   "metadata": {
    "id": "D7d7qK0uFtH9"
   },
   "source": [
    "# Backward pass unit test\n",
    "\n",
    "Above we used finite differences to test that Nanograd is actually doing what it is supposed to do. We can in principle try the same for the neural network. But we will trust that the test above is enough."
   ]
  },
  {
   "cell_type": "markdown",
   "metadata": {
    "id": "WgBi8GOSFtIN"
   },
   "source": [
    "# Training and validation\n",
    "\n",
    "We are ready to train some neural networks!\n",
    "\n",
    "We initialize again:"
   ]
  },
  {
   "cell_type": "code",
   "execution_count": 79,
   "metadata": {
    "id": "01ePmzBzRtdh"
   },
   "outputs": [],
   "source": [
    "NN = [\n",
    "    DenseLayer(1, 15, lambda x: x.relu()),\n",
    "    DenseLayer(15, 50, lambda x: x.relu()),\n",
    "    DenseLayer(50, 1, lambda x: x.identity())\n",
    "]\n",
    "\n",
    "output = forward(x_train, NN)\n",
    "\n",
    "Loss = squared_loss(y_train,output)\n",
    "Loss.backward()"
   ]
  },
  {
   "cell_type": "markdown",
   "metadata": {
    "id": "10iRPiQ1ISHw"
   },
   "source": [
    "and make an update:\n",
    "\n",
    "We introduce a help function parameters to have a handle in all parameters in the network."
   ]
  },
  {
   "cell_type": "code",
   "execution_count": 80,
   "metadata": {
    "id": "dhAI7eyeznia"
   },
   "outputs": [
    {
     "name": "stdout",
     "output_type": "stream",
     "text": [
      "Network before update:\n",
      "Layer 0 \n",
      " Weights: [[Var(v=-0.0322, grad=1.1663), Var(v=0.0249, grad=0.6100), Var(v=-0.0859, grad=-0.9806), Var(v=-0.0072, grad=6.7909), Var(v=0.0864, grad=2.2695), Var(v=0.0394, grad=-2.3196), Var(v=-0.2227, grad=3.7310), Var(v=0.0059, grad=1.3246), Var(v=0.1200, grad=6.9574), Var(v=-0.0026, grad=0.0932), Var(v=0.0404, grad=1.0548), Var(v=-0.1004, grad=0.6519), Var(v=0.1336, grad=-1.5477), Var(v=0.0808, grad=2.2788), Var(v=0.1905, grad=4.0562)]] Biases: [Var(v=0.0000, grad=-1.0599), Var(v=0.0000, grad=0.5238), Var(v=0.0000, grad=0.8911), Var(v=0.0000, grad=-6.1715), Var(v=0.0000, grad=1.9488), Var(v=0.0000, grad=-1.9918), Var(v=0.0000, grad=-3.3907), Var(v=0.0000, grad=1.1375), Var(v=0.0000, grad=5.9744), Var(v=0.0000, grad=-0.0847), Var(v=0.0000, grad=0.9057), Var(v=0.0000, grad=-0.5925), Var(v=0.0000, grad=-1.3290), Var(v=0.0000, grad=1.9568), Var(v=0.0000, grad=3.4831)]\n",
      "Layer 1 \n",
      " Weights: [[Var(v=-0.0235, grad=0.0000), Var(v=0.0523, grad=0.0000), Var(v=0.1519, grad=0.5220), Var(v=0.0009, grad=-0.3623), Var(v=-0.0234, grad=0.0000), Var(v=-0.1593, grad=0.0000), Var(v=0.2205, grad=0.3946), Var(v=0.0183, grad=0.0000), Var(v=-0.1146, grad=0.0000), Var(v=-0.0708, grad=0.0000), Var(v=0.0063, grad=0.0000), Var(v=-0.0330, grad=0.0000), Var(v=-0.0437, grad=0.0000), Var(v=0.0289, grad=0.4637), Var(v=0.0322, grad=-0.2649), Var(v=0.0751, grad=0.0000), Var(v=-0.1802, grad=-0.1813), Var(v=-0.0329, grad=-0.0644), Var(v=0.0732, grad=0.0000), Var(v=-0.1032, grad=-0.1158), Var(v=0.0087, grad=0.0000), Var(v=-0.0111, grad=0.0000), Var(v=-0.0573, grad=0.0000), Var(v=-0.1032, grad=0.0000), Var(v=-0.0620, grad=-0.1359), Var(v=0.0031, grad=0.0000), Var(v=0.0862, grad=0.0000), Var(v=0.0839, grad=-0.6676), Var(v=0.0267, grad=0.0033), Var(v=0.0081, grad=0.1582), Var(v=0.1426, grad=-0.3471), Var(v=0.2276, grad=-0.4163), Var(v=0.0126, grad=0.0000), Var(v=0.1189, grad=0.0000), Var(v=0.1806, grad=-0.1866), Var(v=0.1340, grad=0.0000), Var(v=-0.1971, grad=0.4412), Var(v=0.0347, grad=0.0000), Var(v=0.0311, grad=0.0000), Var(v=-0.1681, grad=-0.4059), Var(v=0.0363, grad=-0.5010), Var(v=-0.0742, grad=0.1080), Var(v=-0.2107, grad=0.0000), Var(v=-0.0762, grad=-0.3108), Var(v=0.0208, grad=0.3059), Var(v=0.0487, grad=0.3406), Var(v=-0.0788, grad=0.0000), Var(v=-0.0617, grad=0.0000), Var(v=-0.1265, grad=0.2588), Var(v=0.0200, grad=0.0000)], [Var(v=0.0354, grad=0.2631), Var(v=-0.0494, grad=0.0000), Var(v=0.0184, grad=0.0000), Var(v=0.1504, grad=0.3044), Var(v=0.0257, grad=0.0000), Var(v=0.0665, grad=0.0000), Var(v=-0.0714, grad=0.0000), Var(v=0.0565, grad=0.0000), Var(v=0.0383, grad=0.0000), Var(v=0.0147, grad=0.1111), Var(v=-0.1631, grad=0.5369), Var(v=-0.0145, grad=0.0000), Var(v=0.2186, grad=0.0000), Var(v=-0.0474, grad=0.0000), Var(v=0.0326, grad=0.2226), Var(v=0.1550, grad=0.0000), Var(v=-0.1121, grad=0.0000), Var(v=0.0134, grad=0.0000), Var(v=-0.0772, grad=-0.0901), Var(v=-0.0603, grad=0.0973), Var(v=-0.1418, grad=-0.1697), Var(v=0.0543, grad=0.0891), Var(v=-0.0776, grad=0.0000), Var(v=-0.0025, grad=0.2290), Var(v=0.0960, grad=0.1142), Var(v=0.1808, grad=-0.3053), Var(v=-0.0889, grad=0.3094), Var(v=0.0735, grad=0.0000), Var(v=-0.1900, grad=0.0000), Var(v=-0.0034, grad=0.0000), Var(v=0.0452, grad=0.2916), Var(v=0.2229, grad=0.0000), Var(v=0.0703, grad=0.0000), Var(v=-0.1535, grad=-0.2900), Var(v=-0.0483, grad=0.1568), Var(v=0.0117, grad=0.0000), Var(v=-0.1668, grad=0.0000), Var(v=-0.0457, grad=-0.2009), Var(v=-0.0993, grad=0.0000), Var(v=0.0826, grad=0.0000), Var(v=-0.1866, grad=0.0000), Var(v=0.3311, grad=-0.0907), Var(v=0.0535, grad=-0.2937), Var(v=0.1558, grad=0.2611), Var(v=-0.0585, grad=-0.2570), Var(v=-0.0560, grad=-0.2862), Var(v=-0.1863, grad=0.0000), Var(v=-0.0976, grad=0.3246), Var(v=-0.1261, grad=-0.2174), Var(v=0.1922, grad=0.0000)], [Var(v=0.0142, grad=0.0000), Var(v=-0.1357, grad=0.0000), Var(v=-0.0204, grad=1.3925), Var(v=0.1971, grad=-0.9665), Var(v=-0.1246, grad=0.0000), Var(v=-0.0441, grad=0.0000), Var(v=-0.1007, grad=1.0527), Var(v=-0.0075, grad=0.0000), Var(v=0.1125, grad=0.0000), Var(v=-0.0353, grad=0.0000), Var(v=0.1905, grad=0.0000), Var(v=-0.0975, grad=0.0000), Var(v=0.0339, grad=0.0000), Var(v=0.0517, grad=1.2369), Var(v=-0.0200, grad=-0.7067), Var(v=0.0266, grad=0.0000), Var(v=0.1050, grad=-0.4835), Var(v=-0.0336, grad=-0.1719), Var(v=0.0840, grad=0.0000), Var(v=0.0359, grad=-0.3088), Var(v=-0.1107, grad=0.0000), Var(v=0.0519, grad=0.0000), Var(v=-0.0600, grad=0.0000), Var(v=0.1051, grad=0.0000), Var(v=-0.0516, grad=-0.3626), Var(v=-0.1198, grad=0.0000), Var(v=0.0769, grad=0.0000), Var(v=-0.0444, grad=-1.7807), Var(v=0.1123, grad=0.0088), Var(v=-0.1601, grad=0.4220), Var(v=-0.0199, grad=-0.9258), Var(v=-0.0840, grad=-1.1104), Var(v=-0.1857, grad=0.0000), Var(v=0.0626, grad=0.0000), Var(v=0.0932, grad=-0.4977), Var(v=-0.0040, grad=0.0000), Var(v=0.0470, grad=1.1768), Var(v=0.1546, grad=0.0000), Var(v=-0.0103, grad=0.0000), Var(v=-0.0774, grad=-1.0827), Var(v=0.0913, grad=-1.3364), Var(v=-0.0482, grad=0.2880), Var(v=0.0787, grad=0.0000), Var(v=-0.2414, grad=-0.8290), Var(v=0.1297, grad=0.8161), Var(v=-0.0763, grad=0.9085), Var(v=0.0172, grad=0.0000), Var(v=-0.1312, grad=0.0000), Var(v=0.0739, grad=0.6904), Var(v=-0.1314, grad=0.0000)], [Var(v=-0.0838, grad=0.0000), Var(v=-0.2592, grad=0.0000), Var(v=-0.1524, grad=0.1174), Var(v=-0.0215, grad=-0.0815), Var(v=0.0568, grad=0.0000), Var(v=-0.0731, grad=0.0000), Var(v=-0.1557, grad=0.0888), Var(v=0.0914, grad=0.0000), Var(v=-0.0330, grad=0.0000), Var(v=0.0298, grad=0.0000), Var(v=0.0198, grad=0.0000), Var(v=-0.1080, grad=0.0000), Var(v=-0.0480, grad=0.0000), Var(v=-0.1554, grad=0.1043), Var(v=0.1758, grad=-0.0596), Var(v=-0.0103, grad=0.0000), Var(v=-0.0531, grad=-0.0408), Var(v=0.0723, grad=-0.0145), Var(v=0.0396, grad=0.0000), Var(v=-0.0771, grad=-0.0260), Var(v=0.0293, grad=0.0000), Var(v=-0.0065, grad=0.0000), Var(v=0.1012, grad=0.0000), Var(v=0.1232, grad=0.0000), Var(v=0.0828, grad=-0.0306), Var(v=0.0100, grad=0.0000), Var(v=0.0918, grad=0.0000), Var(v=0.0478, grad=-0.1502), Var(v=0.0368, grad=0.0007), Var(v=-0.0247, grad=0.0356), Var(v=0.0342, grad=-0.0781), Var(v=-0.1867, grad=-0.0937), Var(v=-0.0940, grad=0.0000), Var(v=0.0227, grad=0.0000), Var(v=0.1984, grad=-0.0420), Var(v=-0.0105, grad=0.0000), Var(v=-0.1598, grad=0.0993), Var(v=-0.0087, grad=0.0000), Var(v=-0.0117, grad=0.0000), Var(v=-0.0463, grad=-0.0913), Var(v=-0.1946, grad=-0.1127), Var(v=-0.2191, grad=0.0243), Var(v=-0.0762, grad=0.0000), Var(v=-0.0296, grad=-0.0699), Var(v=0.0562, grad=0.0688), Var(v=-0.0472, grad=0.0766), Var(v=0.1021, grad=0.0000), Var(v=0.0471, grad=0.0000), Var(v=0.0190, grad=0.0582), Var(v=-0.0827, grad=0.0000)], [Var(v=-0.0299, grad=0.9144), Var(v=0.1327, grad=0.0000), Var(v=-0.0376, grad=0.0000), Var(v=0.0959, grad=1.0578), Var(v=0.0275, grad=0.0000), Var(v=-0.0972, grad=0.0000), Var(v=-0.0579, grad=0.0000), Var(v=-0.0624, grad=0.0000), Var(v=0.0996, grad=0.0000), Var(v=0.0297, grad=0.3862), Var(v=0.1406, grad=1.8658), Var(v=0.0671, grad=0.0000), Var(v=-0.0516, grad=0.0000), Var(v=0.1334, grad=0.0000), Var(v=-0.1241, grad=0.7735), Var(v=0.1048, grad=0.0000), Var(v=0.0728, grad=0.0000), Var(v=-0.0382, grad=0.0000), Var(v=0.1289, grad=-0.3130), Var(v=0.0513, grad=0.3380), Var(v=-0.0239, grad=-0.5898), Var(v=-0.0414, grad=0.3095), Var(v=0.0659, grad=0.0000), Var(v=0.0670, grad=0.7957), Var(v=0.0002, grad=0.3968), Var(v=0.0541, grad=-1.0609), Var(v=0.1291, grad=1.0751), Var(v=-0.0177, grad=0.0000), Var(v=-0.0195, grad=0.0000), Var(v=-0.1376, grad=0.0000), Var(v=0.0837, grad=1.0132), Var(v=0.0578, grad=0.0000), Var(v=-0.0814, grad=0.0000), Var(v=0.1001, grad=-1.0077), Var(v=-0.0355, grad=0.5448), Var(v=-0.0128, grad=0.0000), Var(v=-0.0616, grad=0.0000), Var(v=0.1426, grad=-0.6980), Var(v=-0.0721, grad=0.0000), Var(v=-0.0096, grad=0.0000), Var(v=-0.0461, grad=0.0000), Var(v=0.0619, grad=-0.3152), Var(v=-0.0376, grad=-1.0207), Var(v=-0.0121, grad=0.9073), Var(v=0.2263, grad=-0.8931), Var(v=-0.0709, grad=-0.9944), Var(v=-0.0293, grad=0.0000), Var(v=0.1042, grad=1.1280), Var(v=0.0368, grad=-0.7556), Var(v=-0.1030, grad=0.0000)], [Var(v=-0.0832, grad=0.4171), Var(v=0.2064, grad=0.0000), Var(v=-0.0721, grad=0.0000), Var(v=-0.0002, grad=0.4825), Var(v=-0.0824, grad=0.0000), Var(v=-0.0194, grad=0.0000), Var(v=0.0241, grad=0.0000), Var(v=-0.0011, grad=0.0000), Var(v=0.0184, grad=0.0000), Var(v=-0.1293, grad=0.1762), Var(v=0.1139, grad=0.8511), Var(v=-0.1658, grad=0.0000), Var(v=0.0061, grad=0.0000), Var(v=0.0127, grad=0.0000), Var(v=-0.1289, grad=0.3528), Var(v=0.0593, grad=0.0000), Var(v=-0.0159, grad=0.0000), Var(v=-0.1182, grad=0.0000), Var(v=-0.0192, grad=-0.1428), Var(v=-0.0923, grad=0.1542), Var(v=-0.0648, grad=-0.2690), Var(v=0.0101, grad=0.1412), Var(v=-0.0353, grad=0.0000), Var(v=-0.1208, grad=0.3629), Var(v=0.0634, grad=0.1810), Var(v=0.1103, grad=-0.4839), Var(v=-0.0714, grad=0.4904), Var(v=-0.0590, grad=0.0000), Var(v=0.0832, grad=0.0000), Var(v=0.0949, grad=0.0000), Var(v=0.0502, grad=0.4622), Var(v=-0.1136, grad=0.0000), Var(v=0.1052, grad=0.0000), Var(v=-0.0211, grad=-0.4597), Var(v=-0.1517, grad=0.2485), Var(v=0.0194, grad=0.0000), Var(v=-0.0730, grad=0.0000), Var(v=-0.0691, grad=-0.3184), Var(v=-0.2373, grad=0.0000), Var(v=0.1129, grad=0.0000), Var(v=-0.0480, grad=0.0000), Var(v=0.0460, grad=-0.1438), Var(v=-0.1220, grad=-0.4656), Var(v=0.0889, grad=0.4139), Var(v=-0.0316, grad=-0.4074), Var(v=-0.0180, grad=-0.4536), Var(v=0.0135, grad=0.0000), Var(v=-0.1097, grad=0.5146), Var(v=0.1182, grad=-0.3446), Var(v=-0.0564, grad=0.0000)], [Var(v=-0.0854, grad=0.0000), Var(v=-0.0551, grad=0.0000), Var(v=0.0169, grad=3.6089), Var(v=0.1111, grad=-2.5050), Var(v=-0.0310, grad=0.0000), Var(v=0.0815, grad=0.0000), Var(v=0.0806, grad=2.7283), Var(v=-0.1100, grad=0.0000), Var(v=-0.1495, grad=0.0000), Var(v=-0.0979, grad=0.0000), Var(v=-0.1717, grad=0.0000), Var(v=0.0742, grad=0.0000), Var(v=-0.0283, grad=0.0000), Var(v=0.1092, grad=3.2058), Var(v=-0.0217, grad=-1.8316), Var(v=-0.0341, grad=0.0000), Var(v=0.0465, grad=-1.2531), Var(v=0.1772, grad=-0.4454), Var(v=-0.1086, grad=0.0000), Var(v=0.1271, grad=-0.8004), Var(v=-0.0785, grad=0.0000), Var(v=-0.0934, grad=0.0000), Var(v=-0.0860, grad=0.0000), Var(v=-0.0168, grad=0.0000), Var(v=0.0141, grad=-0.9397), Var(v=0.0486, grad=0.0000), Var(v=0.0054, grad=0.0000), Var(v=0.0689, grad=-4.6151), Var(v=-0.0298, grad=0.0227), Var(v=0.1111, grad=1.0936), Var(v=0.0654, grad=-2.3994), Var(v=0.0612, grad=-2.8779), Var(v=0.0090, grad=0.0000), Var(v=-0.0852, grad=0.0000), Var(v=0.0330, grad=-1.2900), Var(v=-0.0183, grad=0.0000), Var(v=0.1297, grad=3.0500), Var(v=-0.0970, grad=0.0000), Var(v=-0.0675, grad=0.0000), Var(v=0.1159, grad=-2.8061), Var(v=0.1590, grad=-3.4636), Var(v=-0.0030, grad=0.7463), Var(v=-0.0293, grad=0.0000), Var(v=0.1144, grad=-2.1487), Var(v=-0.0446, grad=2.1150), Var(v=0.0748, grad=2.3547), Var(v=-0.1012, grad=0.0000), Var(v=-0.0855, grad=0.0000), Var(v=0.1389, grad=1.7892), Var(v=0.0075, grad=0.0000)], [Var(v=0.0121, grad=0.0628), Var(v=-0.0834, grad=0.0000), Var(v=-0.0495, grad=0.0000), Var(v=0.0455, grad=0.0727), Var(v=0.1336, grad=0.0000), Var(v=0.0624, grad=0.0000), Var(v=0.0269, grad=0.0000), Var(v=0.0789, grad=0.0000), Var(v=0.0006, grad=0.0000), Var(v=-0.0046, grad=0.0265), Var(v=0.0747, grad=0.1282), Var(v=0.1255, grad=0.0000), Var(v=-0.0468, grad=0.0000), Var(v=0.0679, grad=0.0000), Var(v=0.0338, grad=0.0531), Var(v=0.0644, grad=0.0000), Var(v=-0.0218, grad=0.0000), Var(v=0.0775, grad=0.0000), Var(v=0.0836, grad=-0.0215), Var(v=-0.1087, grad=0.0232), Var(v=-0.1066, grad=-0.0405), Var(v=0.0729, grad=0.0213), Var(v=0.0883, grad=0.0000), Var(v=0.0084, grad=0.0547), Var(v=-0.0437, grad=0.0273), Var(v=0.0680, grad=-0.0729), Var(v=-0.0263, grad=0.0739), Var(v=0.1432, grad=0.0000), Var(v=-0.0030, grad=0.0000), Var(v=-0.1379, grad=0.0000), Var(v=0.0040, grad=0.0696), Var(v=0.0189, grad=0.0000), Var(v=-0.0903, grad=0.0000), Var(v=-0.0530, grad=-0.0692), Var(v=0.0018, grad=0.0374), Var(v=-0.1224, grad=0.0000), Var(v=0.0719, grad=0.0000), Var(v=0.1719, grad=-0.0480), Var(v=-0.1080, grad=0.0000), Var(v=-0.1420, grad=0.0000), Var(v=0.1293, grad=0.0000), Var(v=0.1055, grad=-0.0217), Var(v=0.0281, grad=-0.0701), Var(v=-0.0944, grad=0.0623), Var(v=0.0132, grad=-0.0614), Var(v=-0.1460, grad=-0.0683), Var(v=0.1298, grad=0.0000), Var(v=0.0936, grad=0.0775), Var(v=0.0659, grad=-0.0519), Var(v=-0.0764, grad=0.0000)], [Var(v=0.0324, grad=1.2698), Var(v=0.0151, grad=0.0000), Var(v=-0.1459, grad=0.0000), Var(v=0.0855, grad=1.4690), Var(v=-0.0980, grad=0.0000), Var(v=0.0184, grad=0.0000), Var(v=-0.1363, grad=0.0000), Var(v=-0.0965, grad=0.0000), Var(v=-0.1424, grad=0.0000), Var(v=0.0036, grad=0.5363), Var(v=0.0594, grad=2.5911), Var(v=-0.1515, grad=0.0000), Var(v=0.1801, grad=0.0000), Var(v=-0.1165, grad=0.0000), Var(v=-0.0333, grad=1.0741), Var(v=-0.1072, grad=0.0000), Var(v=0.0531, grad=0.0000), Var(v=-0.0237, grad=0.0000), Var(v=0.1703, grad=-0.4346), Var(v=-0.0327, grad=0.4694), Var(v=-0.0473, grad=-0.8191), Var(v=-0.0653, grad=0.4298), Var(v=0.0098, grad=0.0000), Var(v=0.0679, grad=1.1050), Var(v=0.0242, grad=0.5510), Var(v=0.0611, grad=-1.4732), Var(v=0.1119, grad=1.4929), Var(v=-0.0484, grad=0.0000), Var(v=0.0379, grad=0.0000), Var(v=-0.0988, grad=0.0000), Var(v=0.0297, grad=1.4071), Var(v=0.0826, grad=0.0000), Var(v=-0.1627, grad=0.0000), Var(v=-0.0526, grad=-1.3994), Var(v=0.2046, grad=0.7565), Var(v=0.0069, grad=0.0000), Var(v=0.0601, grad=0.0000), Var(v=-0.0788, grad=-0.9693), Var(v=-0.0549, grad=0.0000), Var(v=0.1397, grad=0.0000), Var(v=-0.0071, grad=0.0000), Var(v=0.0044, grad=-0.4377), Var(v=-0.0969, grad=-1.4175), Var(v=0.0024, grad=1.2600), Var(v=0.0824, grad=-1.2403), Var(v=0.0959, grad=-1.3809), Var(v=0.1026, grad=0.0000), Var(v=0.1925, grad=1.5665), Var(v=0.0861, grad=-1.0492), Var(v=-0.0726, grad=0.0000)], [Var(v=0.0403, grad=0.0000), Var(v=0.2221, grad=0.0000), Var(v=0.0898, grad=0.0416), Var(v=-0.0343, grad=-0.0289), Var(v=-0.0530, grad=0.0000), Var(v=-0.0020, grad=0.0000), Var(v=0.0430, grad=0.0314), Var(v=0.1165, grad=0.0000), Var(v=0.2109, grad=0.0000), Var(v=-0.0303, grad=0.0000), Var(v=0.0969, grad=0.0000), Var(v=-0.1758, grad=0.0000), Var(v=-0.0226, grad=0.0000), Var(v=0.1044, grad=0.0369), Var(v=0.0822, grad=-0.0211), Var(v=-0.0233, grad=0.0000), Var(v=-0.0598, grad=-0.0144), Var(v=-0.0550, grad=-0.0051), Var(v=0.0206, grad=0.0000), Var(v=0.0068, grad=-0.0092), Var(v=0.0129, grad=0.0000), Var(v=0.0980, grad=0.0000), Var(v=-0.1687, grad=0.0000), Var(v=0.1163, grad=0.0000), Var(v=0.0982, grad=-0.0108), Var(v=0.1375, grad=0.0000), Var(v=0.2484, grad=0.0000), Var(v=-0.0525, grad=-0.0532), Var(v=0.0101, grad=0.0003), Var(v=-0.0806, grad=0.0126), Var(v=0.2446, grad=-0.0276), Var(v=0.0410, grad=-0.0332), Var(v=-0.1289, grad=0.0000), Var(v=-0.1092, grad=0.0000), Var(v=0.0211, grad=-0.0149), Var(v=0.1521, grad=0.0000), Var(v=0.0355, grad=0.0351), Var(v=0.0292, grad=0.0000), Var(v=0.1447, grad=0.0000), Var(v=-0.0373, grad=-0.0323), Var(v=0.0600, grad=-0.0399), Var(v=0.0198, grad=0.0086), Var(v=-0.1007, grad=0.0000), Var(v=0.0861, grad=-0.0248), Var(v=0.0035, grad=0.0244), Var(v=-0.0193, grad=0.0271), Var(v=0.0123, grad=0.0000), Var(v=-0.0465, grad=0.0000), Var(v=0.0267, grad=0.0206), Var(v=0.0326, grad=0.0000)], [Var(v=0.0216, grad=0.4274), Var(v=-0.0235, grad=0.0000), Var(v=0.0009, grad=0.0000), Var(v=0.1524, grad=0.4944), Var(v=0.0222, grad=0.0000), Var(v=0.0717, grad=0.0000), Var(v=-0.0452, grad=0.0000), Var(v=-0.0012, grad=0.0000), Var(v=-0.0516, grad=0.0000), Var(v=0.0593, grad=0.1805), Var(v=-0.0507, grad=0.8721), Var(v=-0.0773, grad=0.0000), Var(v=-0.0122, grad=0.0000), Var(v=-0.0186, grad=0.0000), Var(v=-0.1284, grad=0.3615), Var(v=-0.1270, grad=0.0000), Var(v=-0.0582, grad=0.0000), Var(v=-0.1765, grad=0.0000), Var(v=-0.0501, grad=-0.1463), Var(v=0.1183, grad=0.1580), Var(v=0.0770, grad=-0.2757), Var(v=0.0134, grad=0.1447), Var(v=-0.0674, grad=0.0000), Var(v=-0.0786, grad=0.3719), Var(v=-0.1998, grad=0.1855), Var(v=-0.0141, grad=-0.4959), Var(v=0.0768, grad=0.5025), Var(v=-0.1622, grad=0.0000), Var(v=-0.1063, grad=0.0000), Var(v=-0.0205, grad=0.0000), Var(v=0.0970, grad=0.4736), Var(v=0.1494, grad=0.0000), Var(v=0.0642, grad=0.0000), Var(v=-0.0896, grad=-0.4710), Var(v=-0.0020, grad=0.2546), Var(v=0.0684, grad=0.0000), Var(v=-0.0408, grad=0.0000), Var(v=0.0759, grad=-0.3263), Var(v=0.0888, grad=0.0000), Var(v=0.0048, grad=0.0000), Var(v=0.0367, grad=0.0000), Var(v=-0.1140, grad=-0.1473), Var(v=0.0776, grad=-0.4771), Var(v=0.2005, grad=0.4241), Var(v=0.0530, grad=-0.4175), Var(v=-0.0106, grad=-0.4648), Var(v=-0.1228, grad=0.0000), Var(v=-0.1370, grad=0.5273), Var(v=-0.0386, grad=-0.3532), Var(v=-0.0031, grad=0.0000)], [Var(v=0.0625, grad=0.0000), Var(v=-0.0478, grad=0.0000), Var(v=0.0530, grad=1.6271), Var(v=0.1619, grad=-1.1294), Var(v=-0.0920, grad=0.0000), Var(v=-0.1963, grad=0.0000), Var(v=0.0295, grad=1.2300), Var(v=0.1837, grad=0.0000), Var(v=0.0935, grad=0.0000), Var(v=0.0429, grad=0.0000), Var(v=-0.0063, grad=0.0000), Var(v=-0.0741, grad=0.0000), Var(v=-0.0318, grad=0.0000), Var(v=-0.0024, grad=1.4453), Var(v=0.0826, grad=-0.8258), Var(v=-0.0584, grad=0.0000), Var(v=0.0561, grad=-0.5650), Var(v=0.1000, grad=-0.2008), Var(v=0.1343, grad=0.0000), Var(v=-0.0201, grad=-0.3608), Var(v=0.2032, grad=0.0000), Var(v=0.1191, grad=0.0000), Var(v=-0.0824, grad=0.0000), Var(v=-0.0371, grad=0.0000), Var(v=0.2282, grad=-0.4236), Var(v=-0.0245, grad=0.0000), Var(v=-0.2503, grad=0.0000), Var(v=-0.0536, grad=-2.0807), Var(v=0.0589, grad=0.0103), Var(v=-0.0180, grad=0.4930), Var(v=-0.1338, grad=-1.0817), Var(v=0.0618, grad=-1.2975), Var(v=0.1221, grad=0.0000), Var(v=-0.0406, grad=0.0000), Var(v=0.0160, grad=-0.5816), Var(v=-0.0622, grad=0.0000), Var(v=0.0276, grad=1.3751), Var(v=0.0142, grad=0.0000), Var(v=-0.0190, grad=0.0000), Var(v=0.0603, grad=-1.2651), Var(v=-0.0057, grad=-1.5616), Var(v=0.1382, grad=0.3365), Var(v=-0.1731, grad=0.0000), Var(v=-0.0204, grad=-0.9687), Var(v=-0.0200, grad=0.9536), Var(v=0.0541, grad=1.0616), Var(v=0.0766, grad=0.0000), Var(v=-0.0403, grad=0.0000), Var(v=-0.0318, grad=0.8067), Var(v=-0.0727, grad=0.0000)], [Var(v=0.0434, grad=1.4135), Var(v=-0.0673, grad=0.0000), Var(v=-0.0303, grad=0.0000), Var(v=0.1056, grad=1.6352), Var(v=0.0028, grad=0.0000), Var(v=-0.1327, grad=0.0000), Var(v=0.0590, grad=0.0000), Var(v=-0.0144, grad=0.0000), Var(v=-0.1989, grad=0.0000), Var(v=0.1417, grad=0.5970), Var(v=-0.0156, grad=2.8843), Var(v=-0.0685, grad=0.0000), Var(v=-0.0082, grad=0.0000), Var(v=-0.0877, grad=0.0000), Var(v=-0.0136, grad=1.1956), Var(v=-0.0038, grad=0.0000), Var(v=-0.0400, grad=0.0000), Var(v=0.0036, grad=0.0000), Var(v=0.0364, grad=-0.4838), Var(v=-0.0104, grad=0.5225), Var(v=-0.0726, grad=-0.9118), Var(v=-0.0547, grad=0.4785), Var(v=-0.0572, grad=0.0000), Var(v=0.0273, grad=1.2300), Var(v=0.0676, grad=0.6134), Var(v=0.1394, grad=-1.6399), Var(v=0.0310, grad=1.6619), Var(v=-0.1709, grad=0.0000), Var(v=-0.0309, grad=0.0000), Var(v=-0.2195, grad=0.0000), Var(v=-0.0229, grad=1.5663), Var(v=-0.2029, grad=0.0000), Var(v=-0.0435, grad=0.0000), Var(v=-0.0422, grad=-1.5578), Var(v=0.0590, grad=0.8421), Var(v=-0.2653, grad=0.0000), Var(v=0.1063, grad=0.0000), Var(v=0.1042, grad=-1.0790), Var(v=0.1654, grad=0.0000), Var(v=-0.1521, grad=0.0000), Var(v=-0.1554, grad=0.0000), Var(v=-0.0264, grad=-0.4872), Var(v=-0.0252, grad=-1.5779), Var(v=-0.0742, grad=1.4026), Var(v=-0.0089, grad=-1.3807), Var(v=0.0355, grad=-1.5371), Var(v=-0.0146, grad=0.0000), Var(v=0.0680, grad=1.7438), Var(v=0.3176, grad=-1.1680), Var(v=-0.0042, grad=0.0000)], [Var(v=0.1239, grad=0.8549), Var(v=0.0609, grad=0.0000), Var(v=-0.1874, grad=0.0000), Var(v=0.0676, grad=0.9890), Var(v=0.0162, grad=0.0000), Var(v=-0.0743, grad=0.0000), Var(v=0.2493, grad=0.0000), Var(v=0.2366, grad=0.0000), Var(v=0.0905, grad=0.0000), Var(v=-0.0711, grad=0.3611), Var(v=0.0495, grad=1.7444), Var(v=-0.0810, grad=0.0000), Var(v=-0.0421, grad=0.0000), Var(v=-0.1094, grad=0.0000), Var(v=-0.0107, grad=0.7231), Var(v=0.0126, grad=0.0000), Var(v=-0.0696, grad=0.0000), Var(v=0.0241, grad=0.0000), Var(v=-0.0990, grad=-0.2926), Var(v=-0.0640, grad=0.3160), Var(v=-0.0166, grad=-0.5514), Var(v=-0.0002, grad=0.2894), Var(v=0.0420, grad=0.0000), Var(v=0.0835, grad=0.7439), Var(v=-0.0293, grad=0.3710), Var(v=-0.0142, grad=-0.9918), Var(v=-0.0295, grad=1.0051), Var(v=0.0380, grad=0.0000), Var(v=0.0129, grad=0.0000), Var(v=-0.0448, grad=0.0000), Var(v=-0.0902, grad=0.9473), Var(v=0.0400, grad=0.0000), Var(v=-0.1054, grad=0.0000), Var(v=0.0265, grad=-0.9421), Var(v=0.0427, grad=0.5093), Var(v=0.0964, grad=0.0000), Var(v=-0.1270, grad=0.0000), Var(v=-0.1249, grad=-0.6526), Var(v=-0.0578, grad=0.0000), Var(v=0.0209, grad=0.0000), Var(v=0.1665, grad=0.0000), Var(v=-0.0063, grad=-0.2947), Var(v=0.0232, grad=-0.9543), Var(v=-0.1071, grad=0.8483), Var(v=-0.0104, grad=-0.8350), Var(v=-0.1637, grad=-0.9296), Var(v=-0.0716, grad=0.0000), Var(v=-0.1459, grad=1.0546), Var(v=-0.0228, grad=-0.7064), Var(v=0.0373, grad=0.0000)], [Var(v=0.0120, grad=2.0152), Var(v=-0.0956, grad=0.0000), Var(v=0.0555, grad=0.0000), Var(v=-0.0565, grad=2.3313), Var(v=-0.0051, grad=0.0000), Var(v=0.0206, grad=0.0000), Var(v=-0.0353, grad=0.0000), Var(v=-0.0219, grad=0.0000), Var(v=-0.0208, grad=0.0000), Var(v=0.0382, grad=0.8512), Var(v=0.1570, grad=4.1121), Var(v=0.1029, grad=0.0000), Var(v=-0.1584, grad=0.0000), Var(v=-0.0085, grad=0.0000), Var(v=0.1513, grad=1.7046), Var(v=-0.0092, grad=0.0000), Var(v=-0.1114, grad=0.0000), Var(v=-0.0668, grad=0.0000), Var(v=-0.0641, grad=-0.6897), Var(v=0.1247, grad=0.7449), Var(v=0.1729, grad=-1.2999), Var(v=0.0943, grad=0.6822), Var(v=-0.1652, grad=0.0000), Var(v=0.0643, grad=1.7536), Var(v=0.0767, grad=0.8745), Var(v=-0.1706, grad=-2.3381), Var(v=0.1866, grad=2.3694), Var(v=-0.1323, grad=0.0000), Var(v=-0.0352, grad=0.0000), Var(v=-0.2353, grad=0.0000), Var(v=0.0047, grad=2.2330), Var(v=-0.0281, grad=0.0000), Var(v=0.0552, grad=0.0000), Var(v=0.1420, grad=-2.2209), Var(v=-0.0385, grad=1.2006), Var(v=0.0296, grad=0.0000), Var(v=-0.0703, grad=0.0000), Var(v=0.0432, grad=-1.5384), Var(v=-0.0558, grad=0.0000), Var(v=-0.2838, grad=0.0000), Var(v=-0.0222, grad=0.0000), Var(v=0.0585, grad=-0.6946), Var(v=0.1440, grad=-2.2496), Var(v=0.1018, grad=1.9997), Var(v=0.0019, grad=-1.9684), Var(v=0.0410, grad=-2.1915), Var(v=-0.1454, grad=0.0000), Var(v=-0.0704, grad=2.4861), Var(v=0.1242, grad=-1.6652), Var(v=-0.1016, grad=0.0000)]] Biases: [Var(v=0.0000, grad=9.0863), Var(v=0.0000, grad=0.0000), Var(v=0.0000, grad=14.7270), Var(v=0.0000, grad=0.2895), Var(v=0.0000, grad=0.0000), Var(v=0.0000, grad=0.0000), Var(v=0.0000, grad=11.1332), Var(v=0.0000, grad=0.0000), Var(v=0.0000, grad=0.0000), Var(v=0.0000, grad=3.8377), Var(v=0.0000, grad=18.5409), Var(v=0.0000, grad=0.0000), Var(v=0.0000, grad=0.0000), Var(v=0.0000, grad=13.0818), Var(v=0.0000, grad=0.2117), Var(v=0.0000, grad=0.0000), Var(v=0.0000, grad=-5.1135), Var(v=0.0000, grad=-1.8175), Var(v=0.0000, grad=-3.1099), Var(v=0.0000, grad=0.0925), Var(v=0.0000, grad=-5.8611), Var(v=0.0000, grad=3.0758), Var(v=0.0000, grad=0.0000), Var(v=0.0000, grad=7.9067), Var(v=0.0000, grad=0.1086), Var(v=0.0000, grad=-10.5419), Var(v=0.0000, grad=10.6830), Var(v=0.0000, grad=-18.8330), Var(v=0.0000, grad=0.0928), Var(v=0.0000, grad=4.4626), Var(v=0.0000, grad=0.2773), Var(v=0.0000, grad=-11.7439), Var(v=0.0000, grad=0.0000), Var(v=0.0000, grad=-10.0137), Var(v=0.0000, grad=0.1491), Var(v=0.0000, grad=0.0000), Var(v=0.0000, grad=12.4463), Var(v=0.0000, grad=-6.9363), Var(v=0.0000, grad=0.0000), Var(v=0.0000, grad=-11.4508), Var(v=0.0000, grad=-14.1339), Var(v=0.0000, grad=-0.0863), Var(v=0.0000, grad=-10.1432), Var(v=0.0000, grad=0.2484), Var(v=0.0000, grad=-0.2445), Var(v=0.0000, grad=-0.2722), Var(v=0.0000, grad=0.0000), Var(v=0.0000, grad=11.2095), Var(v=0.0000, grad=-0.2068), Var(v=0.0000, grad=0.0000)]\n",
      "Layer 2 \n",
      " Weights: [[Var(v=-0.1023, grad=-1.8570)], [Var(v=0.0553, grad=0.0000)], [Var(v=0.1705, grad=1.0782)], [Var(v=-0.1183, grad=1.6071)], [Var(v=0.1431, grad=0.0000)], [Var(v=0.0032, grad=0.0000)], [Var(v=0.1289, grad=1.7440)], [Var(v=-0.0073, grad=0.0000)], [Var(v=0.1288, grad=0.0000)], [Var(v=-0.0432, grad=-2.1810)], [Var(v=-0.2087, grad=-5.1656)], [Var(v=-0.0135, grad=0.0000)], [Var(v=-0.2203, grad=0.0000)], [Var(v=0.1514, grad=2.7174)], [Var(v=-0.0865, grad=0.1819)], [Var(v=-0.0017, grad=0.0000)], [Var(v=-0.0592, grad=1.7757)], [Var(v=-0.0210, grad=4.3667)], [Var(v=0.0350, grad=-1.2431)], [Var(v=-0.0378, grad=0.6969)], [Var(v=0.0660, grad=-1.0898)], [Var(v=-0.0346, grad=-0.1999)], [Var(v=-0.0349, grad=0.0000)], [Var(v=-0.0890, grad=-2.9609)], [Var(v=-0.0444, grad=-0.1996)], [Var(v=0.1187, grad=-0.5876)], [Var(v=-0.1203, grad=-6.1879)], [Var(v=-0.2180, grad=0.8623)], [Var(v=0.0011, grad=0.9574)], [Var(v=0.0517, grad=0.8600)], [Var(v=-0.1133, grad=-0.4043)], [Var(v=-0.1359, grad=1.7786)], [Var(v=0.0092, grad=0.0000)], [Var(v=0.1127, grad=-1.7904)], [Var(v=-0.0609, grad=0.4207)], [Var(v=0.0813, grad=0.0000)], [Var(v=0.1441, grad=2.6878)], [Var(v=0.0781, grad=-1.5666)], [Var(v=0.0798, grad=0.0000)], [Var(v=-0.1325, grad=1.8419)], [Var(v=-0.1636, grad=4.0486)], [Var(v=0.0353, grad=-1.4828)], [Var(v=0.1142, grad=-1.1243)], [Var(v=-0.1015, grad=-1.5288)], [Var(v=0.0999, grad=-2.7969)], [Var(v=0.1112, grad=1.4527)], [Var(v=0.1893, grad=0.0000)], [Var(v=-0.1262, grad=-0.4405)], [Var(v=0.0845, grad=-5.2072)], [Var(v=0.0135, grad=0.0000)]] Biases: [Var(v=0.0000, grad=-2.4471)]\n",
      "\n",
      "Network after update:\n",
      "Layer 0 \n",
      " Weights: [[Var(v=-0.0439, grad=1.1663), Var(v=0.0188, grad=0.6100), Var(v=-0.0761, grad=-0.9806), Var(v=-0.0752, grad=6.7909), Var(v=0.0637, grad=2.2695), Var(v=0.0626, grad=-2.3196), Var(v=-0.2600, grad=3.7310), Var(v=-0.0073, grad=1.3246), Var(v=0.0504, grad=6.9574), Var(v=-0.0035, grad=0.0932), Var(v=0.0298, grad=1.0548), Var(v=-0.1069, grad=0.6519), Var(v=0.1491, grad=-1.5477), Var(v=0.0580, grad=2.2788), Var(v=0.1499, grad=4.0562)]] Biases: [Var(v=0.0106, grad=-1.0599), Var(v=-0.0052, grad=0.5238), Var(v=-0.0089, grad=0.8911), Var(v=0.0617, grad=-6.1715), Var(v=-0.0195, grad=1.9488), Var(v=0.0199, grad=-1.9918), Var(v=0.0339, grad=-3.3907), Var(v=-0.0114, grad=1.1375), Var(v=-0.0597, grad=5.9744), Var(v=0.0008, grad=-0.0847), Var(v=-0.0091, grad=0.9057), Var(v=0.0059, grad=-0.5925), Var(v=0.0133, grad=-1.3290), Var(v=-0.0196, grad=1.9568), Var(v=-0.0348, grad=3.4831)]\n",
      "Layer 1 \n",
      " Weights: [[Var(v=-0.0235, grad=0.0000), Var(v=0.0523, grad=0.0000), Var(v=0.1467, grad=0.5220), Var(v=0.0045, grad=-0.3623), Var(v=-0.0234, grad=0.0000), Var(v=-0.1593, grad=0.0000), Var(v=0.2165, grad=0.3946), Var(v=0.0183, grad=0.0000), Var(v=-0.1146, grad=0.0000), Var(v=-0.0708, grad=0.0000), Var(v=0.0063, grad=0.0000), Var(v=-0.0330, grad=0.0000), Var(v=-0.0437, grad=0.0000), Var(v=0.0243, grad=0.4637), Var(v=0.0349, grad=-0.2649), Var(v=0.0751, grad=0.0000), Var(v=-0.1783, grad=-0.1813), Var(v=-0.0323, grad=-0.0644), Var(v=0.0732, grad=0.0000), Var(v=-0.1021, grad=-0.1158), Var(v=0.0087, grad=0.0000), Var(v=-0.0111, grad=0.0000), Var(v=-0.0573, grad=0.0000), Var(v=-0.1032, grad=0.0000), Var(v=-0.0607, grad=-0.1359), Var(v=0.0031, grad=0.0000), Var(v=0.0862, grad=0.0000), Var(v=0.0906, grad=-0.6676), Var(v=0.0266, grad=0.0033), Var(v=0.0065, grad=0.1582), Var(v=0.1461, grad=-0.3471), Var(v=0.2317, grad=-0.4163), Var(v=0.0126, grad=0.0000), Var(v=0.1189, grad=0.0000), Var(v=0.1824, grad=-0.1866), Var(v=0.1340, grad=0.0000), Var(v=-0.2015, grad=0.4412), Var(v=0.0347, grad=0.0000), Var(v=0.0311, grad=0.0000), Var(v=-0.1641, grad=-0.4059), Var(v=0.0413, grad=-0.5010), Var(v=-0.0753, grad=0.1080), Var(v=-0.2107, grad=0.0000), Var(v=-0.0731, grad=-0.3108), Var(v=0.0177, grad=0.3059), Var(v=0.0453, grad=0.3406), Var(v=-0.0788, grad=0.0000), Var(v=-0.0617, grad=0.0000), Var(v=-0.1291, grad=0.2588), Var(v=0.0200, grad=0.0000)], [Var(v=0.0328, grad=0.2631), Var(v=-0.0494, grad=0.0000), Var(v=0.0184, grad=0.0000), Var(v=0.1473, grad=0.3044), Var(v=0.0257, grad=0.0000), Var(v=0.0665, grad=0.0000), Var(v=-0.0714, grad=0.0000), Var(v=0.0565, grad=0.0000), Var(v=0.0383, grad=0.0000), Var(v=0.0136, grad=0.1111), Var(v=-0.1684, grad=0.5369), Var(v=-0.0145, grad=0.0000), Var(v=0.2186, grad=0.0000), Var(v=-0.0474, grad=0.0000), Var(v=0.0304, grad=0.2226), Var(v=0.1550, grad=0.0000), Var(v=-0.1121, grad=0.0000), Var(v=0.0134, grad=0.0000), Var(v=-0.0763, grad=-0.0901), Var(v=-0.0613, grad=0.0973), Var(v=-0.1401, grad=-0.1697), Var(v=0.0534, grad=0.0891), Var(v=-0.0776, grad=0.0000), Var(v=-0.0048, grad=0.2290), Var(v=0.0948, grad=0.1142), Var(v=0.1839, grad=-0.3053), Var(v=-0.0920, grad=0.3094), Var(v=0.0735, grad=0.0000), Var(v=-0.1900, grad=0.0000), Var(v=-0.0034, grad=0.0000), Var(v=0.0423, grad=0.2916), Var(v=0.2229, grad=0.0000), Var(v=0.0703, grad=0.0000), Var(v=-0.1506, grad=-0.2900), Var(v=-0.0499, grad=0.1568), Var(v=0.0117, grad=0.0000), Var(v=-0.1668, grad=0.0000), Var(v=-0.0437, grad=-0.2009), Var(v=-0.0993, grad=0.0000), Var(v=0.0826, grad=0.0000), Var(v=-0.1866, grad=0.0000), Var(v=0.3320, grad=-0.0907), Var(v=0.0565, grad=-0.2937), Var(v=0.1532, grad=0.2611), Var(v=-0.0560, grad=-0.2570), Var(v=-0.0531, grad=-0.2862), Var(v=-0.1863, grad=0.0000), Var(v=-0.1009, grad=0.3246), Var(v=-0.1239, grad=-0.2174), Var(v=0.1922, grad=0.0000)], [Var(v=0.0142, grad=0.0000), Var(v=-0.1357, grad=0.0000), Var(v=-0.0343, grad=1.3925), Var(v=0.2067, grad=-0.9665), Var(v=-0.1246, grad=0.0000), Var(v=-0.0441, grad=0.0000), Var(v=-0.1113, grad=1.0527), Var(v=-0.0075, grad=0.0000), Var(v=0.1125, grad=0.0000), Var(v=-0.0353, grad=0.0000), Var(v=0.1905, grad=0.0000), Var(v=-0.0975, grad=0.0000), Var(v=0.0339, grad=0.0000), Var(v=0.0393, grad=1.2369), Var(v=-0.0129, grad=-0.7067), Var(v=0.0266, grad=0.0000), Var(v=0.1098, grad=-0.4835), Var(v=-0.0319, grad=-0.1719), Var(v=0.0840, grad=0.0000), Var(v=0.0390, grad=-0.3088), Var(v=-0.1107, grad=0.0000), Var(v=0.0519, grad=0.0000), Var(v=-0.0600, grad=0.0000), Var(v=0.1051, grad=0.0000), Var(v=-0.0479, grad=-0.3626), Var(v=-0.1198, grad=0.0000), Var(v=0.0769, grad=0.0000), Var(v=-0.0266, grad=-1.7807), Var(v=0.1122, grad=0.0088), Var(v=-0.1644, grad=0.4220), Var(v=-0.0106, grad=-0.9258), Var(v=-0.0729, grad=-1.1104), Var(v=-0.1857, grad=0.0000), Var(v=0.0626, grad=0.0000), Var(v=0.0982, grad=-0.4977), Var(v=-0.0040, grad=0.0000), Var(v=0.0352, grad=1.1768), Var(v=0.1546, grad=0.0000), Var(v=-0.0103, grad=0.0000), Var(v=-0.0665, grad=-1.0827), Var(v=0.1047, grad=-1.3364), Var(v=-0.0510, grad=0.2880), Var(v=0.0787, grad=0.0000), Var(v=-0.2331, grad=-0.8290), Var(v=0.1216, grad=0.8161), Var(v=-0.0854, grad=0.9085), Var(v=0.0172, grad=0.0000), Var(v=-0.1312, grad=0.0000), Var(v=0.0670, grad=0.6904), Var(v=-0.1314, grad=0.0000)], [Var(v=-0.0838, grad=0.0000), Var(v=-0.2592, grad=0.0000), Var(v=-0.1536, grad=0.1174), Var(v=-0.0207, grad=-0.0815), Var(v=0.0568, grad=0.0000), Var(v=-0.0731, grad=0.0000), Var(v=-0.1566, grad=0.0888), Var(v=0.0914, grad=0.0000), Var(v=-0.0330, grad=0.0000), Var(v=0.0298, grad=0.0000), Var(v=0.0198, grad=0.0000), Var(v=-0.1080, grad=0.0000), Var(v=-0.0480, grad=0.0000), Var(v=-0.1565, grad=0.1043), Var(v=0.1764, grad=-0.0596), Var(v=-0.0103, grad=0.0000), Var(v=-0.0527, grad=-0.0408), Var(v=0.0725, grad=-0.0145), Var(v=0.0396, grad=0.0000), Var(v=-0.0769, grad=-0.0260), Var(v=0.0293, grad=0.0000), Var(v=-0.0065, grad=0.0000), Var(v=0.1012, grad=0.0000), Var(v=0.1232, grad=0.0000), Var(v=0.0831, grad=-0.0306), Var(v=0.0100, grad=0.0000), Var(v=0.0918, grad=0.0000), Var(v=0.0493, grad=-0.1502), Var(v=0.0368, grad=0.0007), Var(v=-0.0251, grad=0.0356), Var(v=0.0350, grad=-0.0781), Var(v=-0.1858, grad=-0.0937), Var(v=-0.0940, grad=0.0000), Var(v=0.0227, grad=0.0000), Var(v=0.1988, grad=-0.0420), Var(v=-0.0105, grad=0.0000), Var(v=-0.1608, grad=0.0993), Var(v=-0.0087, grad=0.0000), Var(v=-0.0117, grad=0.0000), Var(v=-0.0454, grad=-0.0913), Var(v=-0.1935, grad=-0.1127), Var(v=-0.2193, grad=0.0243), Var(v=-0.0762, grad=0.0000), Var(v=-0.0289, grad=-0.0699), Var(v=0.0556, grad=0.0688), Var(v=-0.0480, grad=0.0766), Var(v=0.1021, grad=0.0000), Var(v=0.0471, grad=0.0000), Var(v=0.0184, grad=0.0582), Var(v=-0.0827, grad=0.0000)], [Var(v=-0.0390, grad=0.9144), Var(v=0.1327, grad=0.0000), Var(v=-0.0376, grad=0.0000), Var(v=0.0853, grad=1.0578), Var(v=0.0275, grad=0.0000), Var(v=-0.0972, grad=0.0000), Var(v=-0.0579, grad=0.0000), Var(v=-0.0624, grad=0.0000), Var(v=0.0996, grad=0.0000), Var(v=0.0258, grad=0.3862), Var(v=0.1219, grad=1.8658), Var(v=0.0671, grad=0.0000), Var(v=-0.0516, grad=0.0000), Var(v=0.1334, grad=0.0000), Var(v=-0.1318, grad=0.7735), Var(v=0.1048, grad=0.0000), Var(v=0.0728, grad=0.0000), Var(v=-0.0382, grad=0.0000), Var(v=0.1320, grad=-0.3130), Var(v=0.0479, grad=0.3380), Var(v=-0.0180, grad=-0.5898), Var(v=-0.0445, grad=0.3095), Var(v=0.0659, grad=0.0000), Var(v=0.0591, grad=0.7957), Var(v=-0.0038, grad=0.3968), Var(v=0.0647, grad=-1.0609), Var(v=0.1184, grad=1.0751), Var(v=-0.0177, grad=0.0000), Var(v=-0.0195, grad=0.0000), Var(v=-0.1376, grad=0.0000), Var(v=0.0736, grad=1.0132), Var(v=0.0578, grad=0.0000), Var(v=-0.0814, grad=0.0000), Var(v=0.1102, grad=-1.0077), Var(v=-0.0410, grad=0.5448), Var(v=-0.0128, grad=0.0000), Var(v=-0.0616, grad=0.0000), Var(v=0.1495, grad=-0.6980), Var(v=-0.0721, grad=0.0000), Var(v=-0.0096, grad=0.0000), Var(v=-0.0461, grad=0.0000), Var(v=0.0650, grad=-0.3152), Var(v=-0.0274, grad=-1.0207), Var(v=-0.0212, grad=0.9073), Var(v=0.2353, grad=-0.8931), Var(v=-0.0609, grad=-0.9944), Var(v=-0.0293, grad=0.0000), Var(v=0.0929, grad=1.1280), Var(v=0.0443, grad=-0.7556), Var(v=-0.1030, grad=0.0000)], [Var(v=-0.0873, grad=0.4171), Var(v=0.2064, grad=0.0000), Var(v=-0.0721, grad=0.0000), Var(v=-0.0050, grad=0.4825), Var(v=-0.0824, grad=0.0000), Var(v=-0.0194, grad=0.0000), Var(v=0.0241, grad=0.0000), Var(v=-0.0011, grad=0.0000), Var(v=0.0184, grad=0.0000), Var(v=-0.1311, grad=0.1762), Var(v=0.1054, grad=0.8511), Var(v=-0.1658, grad=0.0000), Var(v=0.0061, grad=0.0000), Var(v=0.0127, grad=0.0000), Var(v=-0.1324, grad=0.3528), Var(v=0.0593, grad=0.0000), Var(v=-0.0159, grad=0.0000), Var(v=-0.1182, grad=0.0000), Var(v=-0.0177, grad=-0.1428), Var(v=-0.0938, grad=0.1542), Var(v=-0.0621, grad=-0.2690), Var(v=0.0087, grad=0.1412), Var(v=-0.0353, grad=0.0000), Var(v=-0.1245, grad=0.3629), Var(v=0.0616, grad=0.1810), Var(v=0.1152, grad=-0.4839), Var(v=-0.0763, grad=0.4904), Var(v=-0.0590, grad=0.0000), Var(v=0.0832, grad=0.0000), Var(v=0.0949, grad=0.0000), Var(v=0.0456, grad=0.4622), Var(v=-0.1136, grad=0.0000), Var(v=0.1052, grad=0.0000), Var(v=-0.0165, grad=-0.4597), Var(v=-0.1542, grad=0.2485), Var(v=0.0194, grad=0.0000), Var(v=-0.0730, grad=0.0000), Var(v=-0.0660, grad=-0.3184), Var(v=-0.2373, grad=0.0000), Var(v=0.1129, grad=0.0000), Var(v=-0.0480, grad=0.0000), Var(v=0.0474, grad=-0.1438), Var(v=-0.1173, grad=-0.4656), Var(v=0.0848, grad=0.4139), Var(v=-0.0275, grad=-0.4074), Var(v=-0.0134, grad=-0.4536), Var(v=0.0135, grad=0.0000), Var(v=-0.1148, grad=0.5146), Var(v=0.1217, grad=-0.3446), Var(v=-0.0564, grad=0.0000)], [Var(v=-0.0854, grad=0.0000), Var(v=-0.0551, grad=0.0000), Var(v=-0.0192, grad=3.6089), Var(v=0.1361, grad=-2.5050), Var(v=-0.0310, grad=0.0000), Var(v=0.0815, grad=0.0000), Var(v=0.0534, grad=2.7283), Var(v=-0.1100, grad=0.0000), Var(v=-0.1495, grad=0.0000), Var(v=-0.0979, grad=0.0000), Var(v=-0.1717, grad=0.0000), Var(v=0.0742, grad=0.0000), Var(v=-0.0283, grad=0.0000), Var(v=0.0771, grad=3.2058), Var(v=-0.0033, grad=-1.8316), Var(v=-0.0341, grad=0.0000), Var(v=0.0591, grad=-1.2531), Var(v=0.1816, grad=-0.4454), Var(v=-0.1086, grad=0.0000), Var(v=0.1351, grad=-0.8004), Var(v=-0.0785, grad=0.0000), Var(v=-0.0934, grad=0.0000), Var(v=-0.0860, grad=0.0000), Var(v=-0.0168, grad=0.0000), Var(v=0.0235, grad=-0.9397), Var(v=0.0486, grad=0.0000), Var(v=0.0054, grad=0.0000), Var(v=0.1151, grad=-4.6151), Var(v=-0.0301, grad=0.0227), Var(v=0.1001, grad=1.0936), Var(v=0.0894, grad=-2.3994), Var(v=0.0900, grad=-2.8779), Var(v=0.0090, grad=0.0000), Var(v=-0.0852, grad=0.0000), Var(v=0.0459, grad=-1.2900), Var(v=-0.0183, grad=0.0000), Var(v=0.0992, grad=3.0500), Var(v=-0.0970, grad=0.0000), Var(v=-0.0675, grad=0.0000), Var(v=0.1440, grad=-2.8061), Var(v=0.1936, grad=-3.4636), Var(v=-0.0104, grad=0.7463), Var(v=-0.0293, grad=0.0000), Var(v=0.1359, grad=-2.1487), Var(v=-0.0658, grad=2.1150), Var(v=0.0513, grad=2.3547), Var(v=-0.1012, grad=0.0000), Var(v=-0.0855, grad=0.0000), Var(v=0.1210, grad=1.7892), Var(v=0.0075, grad=0.0000)], [Var(v=0.0115, grad=0.0628), Var(v=-0.0834, grad=0.0000), Var(v=-0.0495, grad=0.0000), Var(v=0.0447, grad=0.0727), Var(v=0.1336, grad=0.0000), Var(v=0.0624, grad=0.0000), Var(v=0.0269, grad=0.0000), Var(v=0.0789, grad=0.0000), Var(v=0.0006, grad=0.0000), Var(v=-0.0049, grad=0.0265), Var(v=0.0734, grad=0.1282), Var(v=0.1255, grad=0.0000), Var(v=-0.0468, grad=0.0000), Var(v=0.0679, grad=0.0000), Var(v=0.0333, grad=0.0531), Var(v=0.0644, grad=0.0000), Var(v=-0.0218, grad=0.0000), Var(v=0.0775, grad=0.0000), Var(v=0.0838, grad=-0.0215), Var(v=-0.1090, grad=0.0232), Var(v=-0.1062, grad=-0.0405), Var(v=0.0727, grad=0.0213), Var(v=0.0883, grad=0.0000), Var(v=0.0079, grad=0.0547), Var(v=-0.0440, grad=0.0273), Var(v=0.0687, grad=-0.0729), Var(v=-0.0270, grad=0.0739), Var(v=0.1432, grad=0.0000), Var(v=-0.0030, grad=0.0000), Var(v=-0.1379, grad=0.0000), Var(v=0.0033, grad=0.0696), Var(v=0.0189, grad=0.0000), Var(v=-0.0903, grad=0.0000), Var(v=-0.0523, grad=-0.0692), Var(v=0.0015, grad=0.0374), Var(v=-0.1224, grad=0.0000), Var(v=0.0719, grad=0.0000), Var(v=0.1724, grad=-0.0480), Var(v=-0.1080, grad=0.0000), Var(v=-0.1420, grad=0.0000), Var(v=0.1293, grad=0.0000), Var(v=0.1057, grad=-0.0217), Var(v=0.0288, grad=-0.0701), Var(v=-0.0950, grad=0.0623), Var(v=0.0138, grad=-0.0614), Var(v=-0.1453, grad=-0.0683), Var(v=0.1298, grad=0.0000), Var(v=0.0928, grad=0.0775), Var(v=0.0664, grad=-0.0519), Var(v=-0.0764, grad=0.0000)], [Var(v=0.0197, grad=1.2698), Var(v=0.0151, grad=0.0000), Var(v=-0.1459, grad=0.0000), Var(v=0.0708, grad=1.4690), Var(v=-0.0980, grad=0.0000), Var(v=0.0184, grad=0.0000), Var(v=-0.1363, grad=0.0000), Var(v=-0.0965, grad=0.0000), Var(v=-0.1424, grad=0.0000), Var(v=-0.0018, grad=0.5363), Var(v=0.0335, grad=2.5911), Var(v=-0.1515, grad=0.0000), Var(v=0.1801, grad=0.0000), Var(v=-0.1165, grad=0.0000), Var(v=-0.0441, grad=1.0741), Var(v=-0.1072, grad=0.0000), Var(v=0.0531, grad=0.0000), Var(v=-0.0237, grad=0.0000), Var(v=0.1746, grad=-0.4346), Var(v=-0.0374, grad=0.4694), Var(v=-0.0391, grad=-0.8191), Var(v=-0.0696, grad=0.4298), Var(v=0.0098, grad=0.0000), Var(v=0.0568, grad=1.1050), Var(v=0.0187, grad=0.5510), Var(v=0.0759, grad=-1.4732), Var(v=0.0969, grad=1.4929), Var(v=-0.0484, grad=0.0000), Var(v=0.0379, grad=0.0000), Var(v=-0.0988, grad=0.0000), Var(v=0.0157, grad=1.4071), Var(v=0.0826, grad=0.0000), Var(v=-0.1627, grad=0.0000), Var(v=-0.0386, grad=-1.3994), Var(v=0.1971, grad=0.7565), Var(v=0.0069, grad=0.0000), Var(v=0.0601, grad=0.0000), Var(v=-0.0691, grad=-0.9693), Var(v=-0.0549, grad=0.0000), Var(v=0.1397, grad=0.0000), Var(v=-0.0071, grad=0.0000), Var(v=0.0088, grad=-0.4377), Var(v=-0.0828, grad=-1.4175), Var(v=-0.0102, grad=1.2600), Var(v=0.0948, grad=-1.2403), Var(v=0.1097, grad=-1.3809), Var(v=0.1026, grad=0.0000), Var(v=0.1768, grad=1.5665), Var(v=0.0966, grad=-1.0492), Var(v=-0.0726, grad=0.0000)], [Var(v=0.0403, grad=0.0000), Var(v=0.2221, grad=0.0000), Var(v=0.0894, grad=0.0416), Var(v=-0.0340, grad=-0.0289), Var(v=-0.0530, grad=0.0000), Var(v=-0.0020, grad=0.0000), Var(v=0.0426, grad=0.0314), Var(v=0.1165, grad=0.0000), Var(v=0.2109, grad=0.0000), Var(v=-0.0303, grad=0.0000), Var(v=0.0969, grad=0.0000), Var(v=-0.1758, grad=0.0000), Var(v=-0.0226, grad=0.0000), Var(v=0.1040, grad=0.0369), Var(v=0.0824, grad=-0.0211), Var(v=-0.0233, grad=0.0000), Var(v=-0.0596, grad=-0.0144), Var(v=-0.0550, grad=-0.0051), Var(v=0.0206, grad=0.0000), Var(v=0.0069, grad=-0.0092), Var(v=0.0129, grad=0.0000), Var(v=0.0980, grad=0.0000), Var(v=-0.1687, grad=0.0000), Var(v=0.1163, grad=0.0000), Var(v=0.0983, grad=-0.0108), Var(v=0.1375, grad=0.0000), Var(v=0.2484, grad=0.0000), Var(v=-0.0519, grad=-0.0532), Var(v=0.0101, grad=0.0003), Var(v=-0.0807, grad=0.0126), Var(v=0.2449, grad=-0.0276), Var(v=0.0413, grad=-0.0332), Var(v=-0.1289, grad=0.0000), Var(v=-0.1092, grad=0.0000), Var(v=0.0213, grad=-0.0149), Var(v=0.1521, grad=0.0000), Var(v=0.0351, grad=0.0351), Var(v=0.0292, grad=0.0000), Var(v=0.1447, grad=0.0000), Var(v=-0.0370, grad=-0.0323), Var(v=0.0604, grad=-0.0399), Var(v=0.0197, grad=0.0086), Var(v=-0.1007, grad=0.0000), Var(v=0.0864, grad=-0.0248), Var(v=0.0032, grad=0.0244), Var(v=-0.0195, grad=0.0271), Var(v=0.0123, grad=0.0000), Var(v=-0.0465, grad=0.0000), Var(v=0.0265, grad=0.0206), Var(v=0.0326, grad=0.0000)], [Var(v=0.0173, grad=0.4274), Var(v=-0.0235, grad=0.0000), Var(v=0.0009, grad=0.0000), Var(v=0.1475, grad=0.4944), Var(v=0.0222, grad=0.0000), Var(v=0.0717, grad=0.0000), Var(v=-0.0452, grad=0.0000), Var(v=-0.0012, grad=0.0000), Var(v=-0.0516, grad=0.0000), Var(v=0.0574, grad=0.1805), Var(v=-0.0594, grad=0.8721), Var(v=-0.0773, grad=0.0000), Var(v=-0.0122, grad=0.0000), Var(v=-0.0186, grad=0.0000), Var(v=-0.1320, grad=0.3615), Var(v=-0.1270, grad=0.0000), Var(v=-0.0582, grad=0.0000), Var(v=-0.1765, grad=0.0000), Var(v=-0.0486, grad=-0.1463), Var(v=0.1167, grad=0.1580), Var(v=0.0798, grad=-0.2757), Var(v=0.0120, grad=0.1447), Var(v=-0.0674, grad=0.0000), Var(v=-0.0823, grad=0.3719), Var(v=-0.2016, grad=0.1855), Var(v=-0.0091, grad=-0.4959), Var(v=0.0718, grad=0.5025), Var(v=-0.1622, grad=0.0000), Var(v=-0.1063, grad=0.0000), Var(v=-0.0205, grad=0.0000), Var(v=0.0922, grad=0.4736), Var(v=0.1494, grad=0.0000), Var(v=0.0642, grad=0.0000), Var(v=-0.0849, grad=-0.4710), Var(v=-0.0045, grad=0.2546), Var(v=0.0684, grad=0.0000), Var(v=-0.0408, grad=0.0000), Var(v=0.0791, grad=-0.3263), Var(v=0.0888, grad=0.0000), Var(v=0.0048, grad=0.0000), Var(v=0.0367, grad=0.0000), Var(v=-0.1126, grad=-0.1473), Var(v=0.0824, grad=-0.4771), Var(v=0.1963, grad=0.4241), Var(v=0.0571, grad=-0.4175), Var(v=-0.0059, grad=-0.4648), Var(v=-0.1228, grad=0.0000), Var(v=-0.1422, grad=0.5273), Var(v=-0.0351, grad=-0.3532), Var(v=-0.0031, grad=0.0000)], [Var(v=0.0625, grad=0.0000), Var(v=-0.0478, grad=0.0000), Var(v=0.0367, grad=1.6271), Var(v=0.1732, grad=-1.1294), Var(v=-0.0920, grad=0.0000), Var(v=-0.1963, grad=0.0000), Var(v=0.0172, grad=1.2300), Var(v=0.1837, grad=0.0000), Var(v=0.0935, grad=0.0000), Var(v=0.0429, grad=0.0000), Var(v=-0.0063, grad=0.0000), Var(v=-0.0741, grad=0.0000), Var(v=-0.0318, grad=0.0000), Var(v=-0.0169, grad=1.4453), Var(v=0.0908, grad=-0.8258), Var(v=-0.0584, grad=0.0000), Var(v=0.0618, grad=-0.5650), Var(v=0.1020, grad=-0.2008), Var(v=0.1343, grad=0.0000), Var(v=-0.0165, grad=-0.3608), Var(v=0.2032, grad=0.0000), Var(v=0.1191, grad=0.0000), Var(v=-0.0824, grad=0.0000), Var(v=-0.0371, grad=0.0000), Var(v=0.2324, grad=-0.4236), Var(v=-0.0245, grad=0.0000), Var(v=-0.2503, grad=0.0000), Var(v=-0.0327, grad=-2.0807), Var(v=0.0588, grad=0.0103), Var(v=-0.0229, grad=0.4930), Var(v=-0.1230, grad=-1.0817), Var(v=0.0748, grad=-1.2975), Var(v=0.1221, grad=0.0000), Var(v=-0.0406, grad=0.0000), Var(v=0.0218, grad=-0.5816), Var(v=-0.0622, grad=0.0000), Var(v=0.0138, grad=1.3751), Var(v=0.0142, grad=0.0000), Var(v=-0.0190, grad=0.0000), Var(v=0.0730, grad=-1.2651), Var(v=0.0099, grad=-1.5616), Var(v=0.1348, grad=0.3365), Var(v=-0.1731, grad=0.0000), Var(v=-0.0107, grad=-0.9687), Var(v=-0.0296, grad=0.9536), Var(v=0.0435, grad=1.0616), Var(v=0.0766, grad=0.0000), Var(v=-0.0403, grad=0.0000), Var(v=-0.0399, grad=0.8067), Var(v=-0.0727, grad=0.0000)], [Var(v=0.0292, grad=1.4135), Var(v=-0.0673, grad=0.0000), Var(v=-0.0303, grad=0.0000), Var(v=0.0892, grad=1.6352), Var(v=0.0028, grad=0.0000), Var(v=-0.1327, grad=0.0000), Var(v=0.0590, grad=0.0000), Var(v=-0.0144, grad=0.0000), Var(v=-0.1989, grad=0.0000), Var(v=0.1357, grad=0.5970), Var(v=-0.0444, grad=2.8843), Var(v=-0.0685, grad=0.0000), Var(v=-0.0082, grad=0.0000), Var(v=-0.0877, grad=0.0000), Var(v=-0.0255, grad=1.1956), Var(v=-0.0038, grad=0.0000), Var(v=-0.0400, grad=0.0000), Var(v=0.0036, grad=0.0000), Var(v=0.0412, grad=-0.4838), Var(v=-0.0156, grad=0.5225), Var(v=-0.0635, grad=-0.9118), Var(v=-0.0595, grad=0.4785), Var(v=-0.0572, grad=0.0000), Var(v=0.0150, grad=1.2300), Var(v=0.0615, grad=0.6134), Var(v=0.1558, grad=-1.6399), Var(v=0.0144, grad=1.6619), Var(v=-0.1709, grad=0.0000), Var(v=-0.0309, grad=0.0000), Var(v=-0.2195, grad=0.0000), Var(v=-0.0386, grad=1.5663), Var(v=-0.2029, grad=0.0000), Var(v=-0.0435, grad=0.0000), Var(v=-0.0266, grad=-1.5578), Var(v=0.0506, grad=0.8421), Var(v=-0.2653, grad=0.0000), Var(v=0.1063, grad=0.0000), Var(v=0.1150, grad=-1.0790), Var(v=0.1654, grad=0.0000), Var(v=-0.1521, grad=0.0000), Var(v=-0.1554, grad=0.0000), Var(v=-0.0215, grad=-0.4872), Var(v=-0.0094, grad=-1.5779), Var(v=-0.0882, grad=1.4026), Var(v=0.0049, grad=-1.3807), Var(v=0.0509, grad=-1.5371), Var(v=-0.0146, grad=0.0000), Var(v=0.0506, grad=1.7438), Var(v=0.3292, grad=-1.1680), Var(v=-0.0042, grad=0.0000)], [Var(v=0.1154, grad=0.8549), Var(v=0.0609, grad=0.0000), Var(v=-0.1874, grad=0.0000), Var(v=0.0577, grad=0.9890), Var(v=0.0162, grad=0.0000), Var(v=-0.0743, grad=0.0000), Var(v=0.2493, grad=0.0000), Var(v=0.2366, grad=0.0000), Var(v=0.0905, grad=0.0000), Var(v=-0.0747, grad=0.3611), Var(v=0.0321, grad=1.7444), Var(v=-0.0810, grad=0.0000), Var(v=-0.0421, grad=0.0000), Var(v=-0.1094, grad=0.0000), Var(v=-0.0180, grad=0.7231), Var(v=0.0126, grad=0.0000), Var(v=-0.0696, grad=0.0000), Var(v=0.0241, grad=0.0000), Var(v=-0.0960, grad=-0.2926), Var(v=-0.0672, grad=0.3160), Var(v=-0.0111, grad=-0.5514), Var(v=-0.0031, grad=0.2894), Var(v=0.0420, grad=0.0000), Var(v=0.0761, grad=0.7439), Var(v=-0.0330, grad=0.3710), Var(v=-0.0043, grad=-0.9918), Var(v=-0.0395, grad=1.0051), Var(v=0.0380, grad=0.0000), Var(v=0.0129, grad=0.0000), Var(v=-0.0448, grad=0.0000), Var(v=-0.0996, grad=0.9473), Var(v=0.0400, grad=0.0000), Var(v=-0.1054, grad=0.0000), Var(v=0.0359, grad=-0.9421), Var(v=0.0376, grad=0.5093), Var(v=0.0964, grad=0.0000), Var(v=-0.1270, grad=0.0000), Var(v=-0.1184, grad=-0.6526), Var(v=-0.0578, grad=0.0000), Var(v=0.0209, grad=0.0000), Var(v=0.1665, grad=0.0000), Var(v=-0.0033, grad=-0.2947), Var(v=0.0327, grad=-0.9543), Var(v=-0.1156, grad=0.8483), Var(v=-0.0021, grad=-0.8350), Var(v=-0.1544, grad=-0.9296), Var(v=-0.0716, grad=0.0000), Var(v=-0.1564, grad=1.0546), Var(v=-0.0158, grad=-0.7064), Var(v=0.0373, grad=0.0000)], [Var(v=-0.0081, grad=2.0152), Var(v=-0.0956, grad=0.0000), Var(v=0.0555, grad=0.0000), Var(v=-0.0798, grad=2.3313), Var(v=-0.0051, grad=0.0000), Var(v=0.0206, grad=0.0000), Var(v=-0.0353, grad=0.0000), Var(v=-0.0219, grad=0.0000), Var(v=-0.0208, grad=0.0000), Var(v=0.0297, grad=0.8512), Var(v=0.1159, grad=4.1121), Var(v=0.1029, grad=0.0000), Var(v=-0.1584, grad=0.0000), Var(v=-0.0085, grad=0.0000), Var(v=0.1343, grad=1.7046), Var(v=-0.0092, grad=0.0000), Var(v=-0.1114, grad=0.0000), Var(v=-0.0668, grad=0.0000), Var(v=-0.0572, grad=-0.6897), Var(v=0.1173, grad=0.7449), Var(v=0.1859, grad=-1.2999), Var(v=0.0874, grad=0.6822), Var(v=-0.1652, grad=0.0000), Var(v=0.0468, grad=1.7536), Var(v=0.0679, grad=0.8745), Var(v=-0.1472, grad=-2.3381), Var(v=0.1629, grad=2.3694), Var(v=-0.1323, grad=0.0000), Var(v=-0.0352, grad=0.0000), Var(v=-0.2353, grad=0.0000), Var(v=-0.0176, grad=2.2330), Var(v=-0.0281, grad=0.0000), Var(v=0.0552, grad=0.0000), Var(v=0.1642, grad=-2.2209), Var(v=-0.0505, grad=1.2006), Var(v=0.0296, grad=0.0000), Var(v=-0.0703, grad=0.0000), Var(v=0.0586, grad=-1.5384), Var(v=-0.0558, grad=0.0000), Var(v=-0.2838, grad=0.0000), Var(v=-0.0222, grad=0.0000), Var(v=0.0655, grad=-0.6946), Var(v=0.1665, grad=-2.2496), Var(v=0.0818, grad=1.9997), Var(v=0.0215, grad=-1.9684), Var(v=0.0629, grad=-2.1915), Var(v=-0.1454, grad=0.0000), Var(v=-0.0953, grad=2.4861), Var(v=0.1409, grad=-1.6652), Var(v=-0.1016, grad=0.0000)]] Biases: [Var(v=-0.0909, grad=9.0863), Var(v=0.0000, grad=0.0000), Var(v=-0.1473, grad=14.7270), Var(v=-0.0029, grad=0.2895), Var(v=0.0000, grad=0.0000), Var(v=0.0000, grad=0.0000), Var(v=-0.1113, grad=11.1332), Var(v=0.0000, grad=0.0000), Var(v=0.0000, grad=0.0000), Var(v=-0.0384, grad=3.8377), Var(v=-0.1854, grad=18.5409), Var(v=0.0000, grad=0.0000), Var(v=0.0000, grad=0.0000), Var(v=-0.1308, grad=13.0818), Var(v=-0.0021, grad=0.2117), Var(v=0.0000, grad=0.0000), Var(v=0.0511, grad=-5.1135), Var(v=0.0182, grad=-1.8175), Var(v=0.0311, grad=-3.1099), Var(v=-0.0009, grad=0.0925), Var(v=0.0586, grad=-5.8611), Var(v=-0.0308, grad=3.0758), Var(v=0.0000, grad=0.0000), Var(v=-0.0791, grad=7.9067), Var(v=-0.0011, grad=0.1086), Var(v=0.1054, grad=-10.5419), Var(v=-0.1068, grad=10.6830), Var(v=0.1883, grad=-18.8330), Var(v=-0.0009, grad=0.0928), Var(v=-0.0446, grad=4.4626), Var(v=-0.0028, grad=0.2773), Var(v=0.1174, grad=-11.7439), Var(v=0.0000, grad=0.0000), Var(v=0.1001, grad=-10.0137), Var(v=-0.0015, grad=0.1491), Var(v=0.0000, grad=0.0000), Var(v=-0.1245, grad=12.4463), Var(v=0.0694, grad=-6.9363), Var(v=0.0000, grad=0.0000), Var(v=0.1145, grad=-11.4508), Var(v=0.1413, grad=-14.1339), Var(v=0.0009, grad=-0.0863), Var(v=0.1014, grad=-10.1432), Var(v=-0.0025, grad=0.2484), Var(v=0.0024, grad=-0.2445), Var(v=0.0027, grad=-0.2722), Var(v=0.0000, grad=0.0000), Var(v=-0.1121, grad=11.2095), Var(v=0.0021, grad=-0.2068), Var(v=0.0000, grad=0.0000)]\n",
      "Layer 2 \n",
      " Weights: [[Var(v=-0.0837, grad=-1.8570)], [Var(v=0.0553, grad=0.0000)], [Var(v=0.1597, grad=1.0782)], [Var(v=-0.1344, grad=1.6071)], [Var(v=0.1431, grad=0.0000)], [Var(v=0.0032, grad=0.0000)], [Var(v=0.1114, grad=1.7440)], [Var(v=-0.0073, grad=0.0000)], [Var(v=0.1288, grad=0.0000)], [Var(v=-0.0214, grad=-2.1810)], [Var(v=-0.1570, grad=-5.1656)], [Var(v=-0.0135, grad=0.0000)], [Var(v=-0.2203, grad=0.0000)], [Var(v=0.1243, grad=2.7174)], [Var(v=-0.0883, grad=0.1819)], [Var(v=-0.0017, grad=0.0000)], [Var(v=-0.0769, grad=1.7757)], [Var(v=-0.0647, grad=4.3667)], [Var(v=0.0474, grad=-1.2431)], [Var(v=-0.0448, grad=0.6969)], [Var(v=0.0769, grad=-1.0898)], [Var(v=-0.0326, grad=-0.1999)], [Var(v=-0.0349, grad=0.0000)], [Var(v=-0.0594, grad=-2.9609)], [Var(v=-0.0424, grad=-0.1996)], [Var(v=0.1245, grad=-0.5876)], [Var(v=-0.0584, grad=-6.1879)], [Var(v=-0.2266, grad=0.8623)], [Var(v=-0.0085, grad=0.9574)], [Var(v=0.0431, grad=0.8600)], [Var(v=-0.1093, grad=-0.4043)], [Var(v=-0.1537, grad=1.7786)], [Var(v=0.0092, grad=0.0000)], [Var(v=0.1306, grad=-1.7904)], [Var(v=-0.0651, grad=0.4207)], [Var(v=0.0813, grad=0.0000)], [Var(v=0.1172, grad=2.6878)], [Var(v=0.0937, grad=-1.5666)], [Var(v=0.0798, grad=0.0000)], [Var(v=-0.1510, grad=1.8419)], [Var(v=-0.2041, grad=4.0486)], [Var(v=0.0501, grad=-1.4828)], [Var(v=0.1254, grad=-1.1243)], [Var(v=-0.0862, grad=-1.5288)], [Var(v=0.1279, grad=-2.7969)], [Var(v=0.0967, grad=1.4527)], [Var(v=0.1893, grad=0.0000)], [Var(v=-0.1218, grad=-0.4405)], [Var(v=0.1366, grad=-5.2072)], [Var(v=0.0135, grad=0.0000)]] Biases: [Var(v=0.0245, grad=-2.4471)]\n",
      "\n",
      "Network after zeroing gradients:\n",
      "Layer 0 \n",
      " Weights: [[Var(v=-0.0439, grad=0.0000), Var(v=0.0188, grad=0.0000), Var(v=-0.0761, grad=0.0000), Var(v=-0.0752, grad=0.0000), Var(v=0.0637, grad=0.0000), Var(v=0.0626, grad=0.0000), Var(v=-0.2600, grad=0.0000), Var(v=-0.0073, grad=0.0000), Var(v=0.0504, grad=0.0000), Var(v=-0.0035, grad=0.0000), Var(v=0.0298, grad=0.0000), Var(v=-0.1069, grad=0.0000), Var(v=0.1491, grad=0.0000), Var(v=0.0580, grad=0.0000), Var(v=0.1499, grad=0.0000)]] Biases: [Var(v=0.0106, grad=0.0000), Var(v=-0.0052, grad=0.0000), Var(v=-0.0089, grad=0.0000), Var(v=0.0617, grad=0.0000), Var(v=-0.0195, grad=0.0000), Var(v=0.0199, grad=0.0000), Var(v=0.0339, grad=0.0000), Var(v=-0.0114, grad=0.0000), Var(v=-0.0597, grad=0.0000), Var(v=0.0008, grad=0.0000), Var(v=-0.0091, grad=0.0000), Var(v=0.0059, grad=0.0000), Var(v=0.0133, grad=0.0000), Var(v=-0.0196, grad=0.0000), Var(v=-0.0348, grad=0.0000)]\n",
      "Layer 1 \n",
      " Weights: [[Var(v=-0.0235, grad=0.0000), Var(v=0.0523, grad=0.0000), Var(v=0.1467, grad=0.0000), Var(v=0.0045, grad=0.0000), Var(v=-0.0234, grad=0.0000), Var(v=-0.1593, grad=0.0000), Var(v=0.2165, grad=0.0000), Var(v=0.0183, grad=0.0000), Var(v=-0.1146, grad=0.0000), Var(v=-0.0708, grad=0.0000), Var(v=0.0063, grad=0.0000), Var(v=-0.0330, grad=0.0000), Var(v=-0.0437, grad=0.0000), Var(v=0.0243, grad=0.0000), Var(v=0.0349, grad=0.0000), Var(v=0.0751, grad=0.0000), Var(v=-0.1783, grad=0.0000), Var(v=-0.0323, grad=0.0000), Var(v=0.0732, grad=0.0000), Var(v=-0.1021, grad=0.0000), Var(v=0.0087, grad=0.0000), Var(v=-0.0111, grad=0.0000), Var(v=-0.0573, grad=0.0000), Var(v=-0.1032, grad=0.0000), Var(v=-0.0607, grad=0.0000), Var(v=0.0031, grad=0.0000), Var(v=0.0862, grad=0.0000), Var(v=0.0906, grad=0.0000), Var(v=0.0266, grad=0.0000), Var(v=0.0065, grad=0.0000), Var(v=0.1461, grad=0.0000), Var(v=0.2317, grad=0.0000), Var(v=0.0126, grad=0.0000), Var(v=0.1189, grad=0.0000), Var(v=0.1824, grad=0.0000), Var(v=0.1340, grad=0.0000), Var(v=-0.2015, grad=0.0000), Var(v=0.0347, grad=0.0000), Var(v=0.0311, grad=0.0000), Var(v=-0.1641, grad=0.0000), Var(v=0.0413, grad=0.0000), Var(v=-0.0753, grad=0.0000), Var(v=-0.2107, grad=0.0000), Var(v=-0.0731, grad=0.0000), Var(v=0.0177, grad=0.0000), Var(v=0.0453, grad=0.0000), Var(v=-0.0788, grad=0.0000), Var(v=-0.0617, grad=0.0000), Var(v=-0.1291, grad=0.0000), Var(v=0.0200, grad=0.0000)], [Var(v=0.0328, grad=0.0000), Var(v=-0.0494, grad=0.0000), Var(v=0.0184, grad=0.0000), Var(v=0.1473, grad=0.0000), Var(v=0.0257, grad=0.0000), Var(v=0.0665, grad=0.0000), Var(v=-0.0714, grad=0.0000), Var(v=0.0565, grad=0.0000), Var(v=0.0383, grad=0.0000), Var(v=0.0136, grad=0.0000), Var(v=-0.1684, grad=0.0000), Var(v=-0.0145, grad=0.0000), Var(v=0.2186, grad=0.0000), Var(v=-0.0474, grad=0.0000), Var(v=0.0304, grad=0.0000), Var(v=0.1550, grad=0.0000), Var(v=-0.1121, grad=0.0000), Var(v=0.0134, grad=0.0000), Var(v=-0.0763, grad=0.0000), Var(v=-0.0613, grad=0.0000), Var(v=-0.1401, grad=0.0000), Var(v=0.0534, grad=0.0000), Var(v=-0.0776, grad=0.0000), Var(v=-0.0048, grad=0.0000), Var(v=0.0948, grad=0.0000), Var(v=0.1839, grad=0.0000), Var(v=-0.0920, grad=0.0000), Var(v=0.0735, grad=0.0000), Var(v=-0.1900, grad=0.0000), Var(v=-0.0034, grad=0.0000), Var(v=0.0423, grad=0.0000), Var(v=0.2229, grad=0.0000), Var(v=0.0703, grad=0.0000), Var(v=-0.1506, grad=0.0000), Var(v=-0.0499, grad=0.0000), Var(v=0.0117, grad=0.0000), Var(v=-0.1668, grad=0.0000), Var(v=-0.0437, grad=0.0000), Var(v=-0.0993, grad=0.0000), Var(v=0.0826, grad=0.0000), Var(v=-0.1866, grad=0.0000), Var(v=0.3320, grad=0.0000), Var(v=0.0565, grad=0.0000), Var(v=0.1532, grad=0.0000), Var(v=-0.0560, grad=0.0000), Var(v=-0.0531, grad=0.0000), Var(v=-0.1863, grad=0.0000), Var(v=-0.1009, grad=0.0000), Var(v=-0.1239, grad=0.0000), Var(v=0.1922, grad=0.0000)], [Var(v=0.0142, grad=0.0000), Var(v=-0.1357, grad=0.0000), Var(v=-0.0343, grad=0.0000), Var(v=0.2067, grad=0.0000), Var(v=-0.1246, grad=0.0000), Var(v=-0.0441, grad=0.0000), Var(v=-0.1113, grad=0.0000), Var(v=-0.0075, grad=0.0000), Var(v=0.1125, grad=0.0000), Var(v=-0.0353, grad=0.0000), Var(v=0.1905, grad=0.0000), Var(v=-0.0975, grad=0.0000), Var(v=0.0339, grad=0.0000), Var(v=0.0393, grad=0.0000), Var(v=-0.0129, grad=0.0000), Var(v=0.0266, grad=0.0000), Var(v=0.1098, grad=0.0000), Var(v=-0.0319, grad=0.0000), Var(v=0.0840, grad=0.0000), Var(v=0.0390, grad=0.0000), Var(v=-0.1107, grad=0.0000), Var(v=0.0519, grad=0.0000), Var(v=-0.0600, grad=0.0000), Var(v=0.1051, grad=0.0000), Var(v=-0.0479, grad=0.0000), Var(v=-0.1198, grad=0.0000), Var(v=0.0769, grad=0.0000), Var(v=-0.0266, grad=0.0000), Var(v=0.1122, grad=0.0000), Var(v=-0.1644, grad=0.0000), Var(v=-0.0106, grad=0.0000), Var(v=-0.0729, grad=0.0000), Var(v=-0.1857, grad=0.0000), Var(v=0.0626, grad=0.0000), Var(v=0.0982, grad=0.0000), Var(v=-0.0040, grad=0.0000), Var(v=0.0352, grad=0.0000), Var(v=0.1546, grad=0.0000), Var(v=-0.0103, grad=0.0000), Var(v=-0.0665, grad=0.0000), Var(v=0.1047, grad=0.0000), Var(v=-0.0510, grad=0.0000), Var(v=0.0787, grad=0.0000), Var(v=-0.2331, grad=0.0000), Var(v=0.1216, grad=0.0000), Var(v=-0.0854, grad=0.0000), Var(v=0.0172, grad=0.0000), Var(v=-0.1312, grad=0.0000), Var(v=0.0670, grad=0.0000), Var(v=-0.1314, grad=0.0000)], [Var(v=-0.0838, grad=0.0000), Var(v=-0.2592, grad=0.0000), Var(v=-0.1536, grad=0.0000), Var(v=-0.0207, grad=0.0000), Var(v=0.0568, grad=0.0000), Var(v=-0.0731, grad=0.0000), Var(v=-0.1566, grad=0.0000), Var(v=0.0914, grad=0.0000), Var(v=-0.0330, grad=0.0000), Var(v=0.0298, grad=0.0000), Var(v=0.0198, grad=0.0000), Var(v=-0.1080, grad=0.0000), Var(v=-0.0480, grad=0.0000), Var(v=-0.1565, grad=0.0000), Var(v=0.1764, grad=0.0000), Var(v=-0.0103, grad=0.0000), Var(v=-0.0527, grad=0.0000), Var(v=0.0725, grad=0.0000), Var(v=0.0396, grad=0.0000), Var(v=-0.0769, grad=0.0000), Var(v=0.0293, grad=0.0000), Var(v=-0.0065, grad=0.0000), Var(v=0.1012, grad=0.0000), Var(v=0.1232, grad=0.0000), Var(v=0.0831, grad=0.0000), Var(v=0.0100, grad=0.0000), Var(v=0.0918, grad=0.0000), Var(v=0.0493, grad=0.0000), Var(v=0.0368, grad=0.0000), Var(v=-0.0251, grad=0.0000), Var(v=0.0350, grad=0.0000), Var(v=-0.1858, grad=0.0000), Var(v=-0.0940, grad=0.0000), Var(v=0.0227, grad=0.0000), Var(v=0.1988, grad=0.0000), Var(v=-0.0105, grad=0.0000), Var(v=-0.1608, grad=0.0000), Var(v=-0.0087, grad=0.0000), Var(v=-0.0117, grad=0.0000), Var(v=-0.0454, grad=0.0000), Var(v=-0.1935, grad=0.0000), Var(v=-0.2193, grad=0.0000), Var(v=-0.0762, grad=0.0000), Var(v=-0.0289, grad=0.0000), Var(v=0.0556, grad=0.0000), Var(v=-0.0480, grad=0.0000), Var(v=0.1021, grad=0.0000), Var(v=0.0471, grad=0.0000), Var(v=0.0184, grad=0.0000), Var(v=-0.0827, grad=0.0000)], [Var(v=-0.0390, grad=0.0000), Var(v=0.1327, grad=0.0000), Var(v=-0.0376, grad=0.0000), Var(v=0.0853, grad=0.0000), Var(v=0.0275, grad=0.0000), Var(v=-0.0972, grad=0.0000), Var(v=-0.0579, grad=0.0000), Var(v=-0.0624, grad=0.0000), Var(v=0.0996, grad=0.0000), Var(v=0.0258, grad=0.0000), Var(v=0.1219, grad=0.0000), Var(v=0.0671, grad=0.0000), Var(v=-0.0516, grad=0.0000), Var(v=0.1334, grad=0.0000), Var(v=-0.1318, grad=0.0000), Var(v=0.1048, grad=0.0000), Var(v=0.0728, grad=0.0000), Var(v=-0.0382, grad=0.0000), Var(v=0.1320, grad=0.0000), Var(v=0.0479, grad=0.0000), Var(v=-0.0180, grad=0.0000), Var(v=-0.0445, grad=0.0000), Var(v=0.0659, grad=0.0000), Var(v=0.0591, grad=0.0000), Var(v=-0.0038, grad=0.0000), Var(v=0.0647, grad=0.0000), Var(v=0.1184, grad=0.0000), Var(v=-0.0177, grad=0.0000), Var(v=-0.0195, grad=0.0000), Var(v=-0.1376, grad=0.0000), Var(v=0.0736, grad=0.0000), Var(v=0.0578, grad=0.0000), Var(v=-0.0814, grad=0.0000), Var(v=0.1102, grad=0.0000), Var(v=-0.0410, grad=0.0000), Var(v=-0.0128, grad=0.0000), Var(v=-0.0616, grad=0.0000), Var(v=0.1495, grad=0.0000), Var(v=-0.0721, grad=0.0000), Var(v=-0.0096, grad=0.0000), Var(v=-0.0461, grad=0.0000), Var(v=0.0650, grad=0.0000), Var(v=-0.0274, grad=0.0000), Var(v=-0.0212, grad=0.0000), Var(v=0.2353, grad=0.0000), Var(v=-0.0609, grad=0.0000), Var(v=-0.0293, grad=0.0000), Var(v=0.0929, grad=0.0000), Var(v=0.0443, grad=0.0000), Var(v=-0.1030, grad=0.0000)], [Var(v=-0.0873, grad=0.0000), Var(v=0.2064, grad=0.0000), Var(v=-0.0721, grad=0.0000), Var(v=-0.0050, grad=0.0000), Var(v=-0.0824, grad=0.0000), Var(v=-0.0194, grad=0.0000), Var(v=0.0241, grad=0.0000), Var(v=-0.0011, grad=0.0000), Var(v=0.0184, grad=0.0000), Var(v=-0.1311, grad=0.0000), Var(v=0.1054, grad=0.0000), Var(v=-0.1658, grad=0.0000), Var(v=0.0061, grad=0.0000), Var(v=0.0127, grad=0.0000), Var(v=-0.1324, grad=0.0000), Var(v=0.0593, grad=0.0000), Var(v=-0.0159, grad=0.0000), Var(v=-0.1182, grad=0.0000), Var(v=-0.0177, grad=0.0000), Var(v=-0.0938, grad=0.0000), Var(v=-0.0621, grad=0.0000), Var(v=0.0087, grad=0.0000), Var(v=-0.0353, grad=0.0000), Var(v=-0.1245, grad=0.0000), Var(v=0.0616, grad=0.0000), Var(v=0.1152, grad=0.0000), Var(v=-0.0763, grad=0.0000), Var(v=-0.0590, grad=0.0000), Var(v=0.0832, grad=0.0000), Var(v=0.0949, grad=0.0000), Var(v=0.0456, grad=0.0000), Var(v=-0.1136, grad=0.0000), Var(v=0.1052, grad=0.0000), Var(v=-0.0165, grad=0.0000), Var(v=-0.1542, grad=0.0000), Var(v=0.0194, grad=0.0000), Var(v=-0.0730, grad=0.0000), Var(v=-0.0660, grad=0.0000), Var(v=-0.2373, grad=0.0000), Var(v=0.1129, grad=0.0000), Var(v=-0.0480, grad=0.0000), Var(v=0.0474, grad=0.0000), Var(v=-0.1173, grad=0.0000), Var(v=0.0848, grad=0.0000), Var(v=-0.0275, grad=0.0000), Var(v=-0.0134, grad=0.0000), Var(v=0.0135, grad=0.0000), Var(v=-0.1148, grad=0.0000), Var(v=0.1217, grad=0.0000), Var(v=-0.0564, grad=0.0000)], [Var(v=-0.0854, grad=0.0000), Var(v=-0.0551, grad=0.0000), Var(v=-0.0192, grad=0.0000), Var(v=0.1361, grad=0.0000), Var(v=-0.0310, grad=0.0000), Var(v=0.0815, grad=0.0000), Var(v=0.0534, grad=0.0000), Var(v=-0.1100, grad=0.0000), Var(v=-0.1495, grad=0.0000), Var(v=-0.0979, grad=0.0000), Var(v=-0.1717, grad=0.0000), Var(v=0.0742, grad=0.0000), Var(v=-0.0283, grad=0.0000), Var(v=0.0771, grad=0.0000), Var(v=-0.0033, grad=0.0000), Var(v=-0.0341, grad=0.0000), Var(v=0.0591, grad=0.0000), Var(v=0.1816, grad=0.0000), Var(v=-0.1086, grad=0.0000), Var(v=0.1351, grad=0.0000), Var(v=-0.0785, grad=0.0000), Var(v=-0.0934, grad=0.0000), Var(v=-0.0860, grad=0.0000), Var(v=-0.0168, grad=0.0000), Var(v=0.0235, grad=0.0000), Var(v=0.0486, grad=0.0000), Var(v=0.0054, grad=0.0000), Var(v=0.1151, grad=0.0000), Var(v=-0.0301, grad=0.0000), Var(v=0.1001, grad=0.0000), Var(v=0.0894, grad=0.0000), Var(v=0.0900, grad=0.0000), Var(v=0.0090, grad=0.0000), Var(v=-0.0852, grad=0.0000), Var(v=0.0459, grad=0.0000), Var(v=-0.0183, grad=0.0000), Var(v=0.0992, grad=0.0000), Var(v=-0.0970, grad=0.0000), Var(v=-0.0675, grad=0.0000), Var(v=0.1440, grad=0.0000), Var(v=0.1936, grad=0.0000), Var(v=-0.0104, grad=0.0000), Var(v=-0.0293, grad=0.0000), Var(v=0.1359, grad=0.0000), Var(v=-0.0658, grad=0.0000), Var(v=0.0513, grad=0.0000), Var(v=-0.1012, grad=0.0000), Var(v=-0.0855, grad=0.0000), Var(v=0.1210, grad=0.0000), Var(v=0.0075, grad=0.0000)], [Var(v=0.0115, grad=0.0000), Var(v=-0.0834, grad=0.0000), Var(v=-0.0495, grad=0.0000), Var(v=0.0447, grad=0.0000), Var(v=0.1336, grad=0.0000), Var(v=0.0624, grad=0.0000), Var(v=0.0269, grad=0.0000), Var(v=0.0789, grad=0.0000), Var(v=0.0006, grad=0.0000), Var(v=-0.0049, grad=0.0000), Var(v=0.0734, grad=0.0000), Var(v=0.1255, grad=0.0000), Var(v=-0.0468, grad=0.0000), Var(v=0.0679, grad=0.0000), Var(v=0.0333, grad=0.0000), Var(v=0.0644, grad=0.0000), Var(v=-0.0218, grad=0.0000), Var(v=0.0775, grad=0.0000), Var(v=0.0838, grad=0.0000), Var(v=-0.1090, grad=0.0000), Var(v=-0.1062, grad=0.0000), Var(v=0.0727, grad=0.0000), Var(v=0.0883, grad=0.0000), Var(v=0.0079, grad=0.0000), Var(v=-0.0440, grad=0.0000), Var(v=0.0687, grad=0.0000), Var(v=-0.0270, grad=0.0000), Var(v=0.1432, grad=0.0000), Var(v=-0.0030, grad=0.0000), Var(v=-0.1379, grad=0.0000), Var(v=0.0033, grad=0.0000), Var(v=0.0189, grad=0.0000), Var(v=-0.0903, grad=0.0000), Var(v=-0.0523, grad=0.0000), Var(v=0.0015, grad=0.0000), Var(v=-0.1224, grad=0.0000), Var(v=0.0719, grad=0.0000), Var(v=0.1724, grad=0.0000), Var(v=-0.1080, grad=0.0000), Var(v=-0.1420, grad=0.0000), Var(v=0.1293, grad=0.0000), Var(v=0.1057, grad=0.0000), Var(v=0.0288, grad=0.0000), Var(v=-0.0950, grad=0.0000), Var(v=0.0138, grad=0.0000), Var(v=-0.1453, grad=0.0000), Var(v=0.1298, grad=0.0000), Var(v=0.0928, grad=0.0000), Var(v=0.0664, grad=0.0000), Var(v=-0.0764, grad=0.0000)], [Var(v=0.0197, grad=0.0000), Var(v=0.0151, grad=0.0000), Var(v=-0.1459, grad=0.0000), Var(v=0.0708, grad=0.0000), Var(v=-0.0980, grad=0.0000), Var(v=0.0184, grad=0.0000), Var(v=-0.1363, grad=0.0000), Var(v=-0.0965, grad=0.0000), Var(v=-0.1424, grad=0.0000), Var(v=-0.0018, grad=0.0000), Var(v=0.0335, grad=0.0000), Var(v=-0.1515, grad=0.0000), Var(v=0.1801, grad=0.0000), Var(v=-0.1165, grad=0.0000), Var(v=-0.0441, grad=0.0000), Var(v=-0.1072, grad=0.0000), Var(v=0.0531, grad=0.0000), Var(v=-0.0237, grad=0.0000), Var(v=0.1746, grad=0.0000), Var(v=-0.0374, grad=0.0000), Var(v=-0.0391, grad=0.0000), Var(v=-0.0696, grad=0.0000), Var(v=0.0098, grad=0.0000), Var(v=0.0568, grad=0.0000), Var(v=0.0187, grad=0.0000), Var(v=0.0759, grad=0.0000), Var(v=0.0969, grad=0.0000), Var(v=-0.0484, grad=0.0000), Var(v=0.0379, grad=0.0000), Var(v=-0.0988, grad=0.0000), Var(v=0.0157, grad=0.0000), Var(v=0.0826, grad=0.0000), Var(v=-0.1627, grad=0.0000), Var(v=-0.0386, grad=0.0000), Var(v=0.1971, grad=0.0000), Var(v=0.0069, grad=0.0000), Var(v=0.0601, grad=0.0000), Var(v=-0.0691, grad=0.0000), Var(v=-0.0549, grad=0.0000), Var(v=0.1397, grad=0.0000), Var(v=-0.0071, grad=0.0000), Var(v=0.0088, grad=0.0000), Var(v=-0.0828, grad=0.0000), Var(v=-0.0102, grad=0.0000), Var(v=0.0948, grad=0.0000), Var(v=0.1097, grad=0.0000), Var(v=0.1026, grad=0.0000), Var(v=0.1768, grad=0.0000), Var(v=0.0966, grad=0.0000), Var(v=-0.0726, grad=0.0000)], [Var(v=0.0403, grad=0.0000), Var(v=0.2221, grad=0.0000), Var(v=0.0894, grad=0.0000), Var(v=-0.0340, grad=0.0000), Var(v=-0.0530, grad=0.0000), Var(v=-0.0020, grad=0.0000), Var(v=0.0426, grad=0.0000), Var(v=0.1165, grad=0.0000), Var(v=0.2109, grad=0.0000), Var(v=-0.0303, grad=0.0000), Var(v=0.0969, grad=0.0000), Var(v=-0.1758, grad=0.0000), Var(v=-0.0226, grad=0.0000), Var(v=0.1040, grad=0.0000), Var(v=0.0824, grad=0.0000), Var(v=-0.0233, grad=0.0000), Var(v=-0.0596, grad=0.0000), Var(v=-0.0550, grad=0.0000), Var(v=0.0206, grad=0.0000), Var(v=0.0069, grad=0.0000), Var(v=0.0129, grad=0.0000), Var(v=0.0980, grad=0.0000), Var(v=-0.1687, grad=0.0000), Var(v=0.1163, grad=0.0000), Var(v=0.0983, grad=0.0000), Var(v=0.1375, grad=0.0000), Var(v=0.2484, grad=0.0000), Var(v=-0.0519, grad=0.0000), Var(v=0.0101, grad=0.0000), Var(v=-0.0807, grad=0.0000), Var(v=0.2449, grad=0.0000), Var(v=0.0413, grad=0.0000), Var(v=-0.1289, grad=0.0000), Var(v=-0.1092, grad=0.0000), Var(v=0.0213, grad=0.0000), Var(v=0.1521, grad=0.0000), Var(v=0.0351, grad=0.0000), Var(v=0.0292, grad=0.0000), Var(v=0.1447, grad=0.0000), Var(v=-0.0370, grad=0.0000), Var(v=0.0604, grad=0.0000), Var(v=0.0197, grad=0.0000), Var(v=-0.1007, grad=0.0000), Var(v=0.0864, grad=0.0000), Var(v=0.0032, grad=0.0000), Var(v=-0.0195, grad=0.0000), Var(v=0.0123, grad=0.0000), Var(v=-0.0465, grad=0.0000), Var(v=0.0265, grad=0.0000), Var(v=0.0326, grad=0.0000)], [Var(v=0.0173, grad=0.0000), Var(v=-0.0235, grad=0.0000), Var(v=0.0009, grad=0.0000), Var(v=0.1475, grad=0.0000), Var(v=0.0222, grad=0.0000), Var(v=0.0717, grad=0.0000), Var(v=-0.0452, grad=0.0000), Var(v=-0.0012, grad=0.0000), Var(v=-0.0516, grad=0.0000), Var(v=0.0574, grad=0.0000), Var(v=-0.0594, grad=0.0000), Var(v=-0.0773, grad=0.0000), Var(v=-0.0122, grad=0.0000), Var(v=-0.0186, grad=0.0000), Var(v=-0.1320, grad=0.0000), Var(v=-0.1270, grad=0.0000), Var(v=-0.0582, grad=0.0000), Var(v=-0.1765, grad=0.0000), Var(v=-0.0486, grad=0.0000), Var(v=0.1167, grad=0.0000), Var(v=0.0798, grad=0.0000), Var(v=0.0120, grad=0.0000), Var(v=-0.0674, grad=0.0000), Var(v=-0.0823, grad=0.0000), Var(v=-0.2016, grad=0.0000), Var(v=-0.0091, grad=0.0000), Var(v=0.0718, grad=0.0000), Var(v=-0.1622, grad=0.0000), Var(v=-0.1063, grad=0.0000), Var(v=-0.0205, grad=0.0000), Var(v=0.0922, grad=0.0000), Var(v=0.1494, grad=0.0000), Var(v=0.0642, grad=0.0000), Var(v=-0.0849, grad=0.0000), Var(v=-0.0045, grad=0.0000), Var(v=0.0684, grad=0.0000), Var(v=-0.0408, grad=0.0000), Var(v=0.0791, grad=0.0000), Var(v=0.0888, grad=0.0000), Var(v=0.0048, grad=0.0000), Var(v=0.0367, grad=0.0000), Var(v=-0.1126, grad=0.0000), Var(v=0.0824, grad=0.0000), Var(v=0.1963, grad=0.0000), Var(v=0.0571, grad=0.0000), Var(v=-0.0059, grad=0.0000), Var(v=-0.1228, grad=0.0000), Var(v=-0.1422, grad=0.0000), Var(v=-0.0351, grad=0.0000), Var(v=-0.0031, grad=0.0000)], [Var(v=0.0625, grad=0.0000), Var(v=-0.0478, grad=0.0000), Var(v=0.0367, grad=0.0000), Var(v=0.1732, grad=0.0000), Var(v=-0.0920, grad=0.0000), Var(v=-0.1963, grad=0.0000), Var(v=0.0172, grad=0.0000), Var(v=0.1837, grad=0.0000), Var(v=0.0935, grad=0.0000), Var(v=0.0429, grad=0.0000), Var(v=-0.0063, grad=0.0000), Var(v=-0.0741, grad=0.0000), Var(v=-0.0318, grad=0.0000), Var(v=-0.0169, grad=0.0000), Var(v=0.0908, grad=0.0000), Var(v=-0.0584, grad=0.0000), Var(v=0.0618, grad=0.0000), Var(v=0.1020, grad=0.0000), Var(v=0.1343, grad=0.0000), Var(v=-0.0165, grad=0.0000), Var(v=0.2032, grad=0.0000), Var(v=0.1191, grad=0.0000), Var(v=-0.0824, grad=0.0000), Var(v=-0.0371, grad=0.0000), Var(v=0.2324, grad=0.0000), Var(v=-0.0245, grad=0.0000), Var(v=-0.2503, grad=0.0000), Var(v=-0.0327, grad=0.0000), Var(v=0.0588, grad=0.0000), Var(v=-0.0229, grad=0.0000), Var(v=-0.1230, grad=0.0000), Var(v=0.0748, grad=0.0000), Var(v=0.1221, grad=0.0000), Var(v=-0.0406, grad=0.0000), Var(v=0.0218, grad=0.0000), Var(v=-0.0622, grad=0.0000), Var(v=0.0138, grad=0.0000), Var(v=0.0142, grad=0.0000), Var(v=-0.0190, grad=0.0000), Var(v=0.0730, grad=0.0000), Var(v=0.0099, grad=0.0000), Var(v=0.1348, grad=0.0000), Var(v=-0.1731, grad=0.0000), Var(v=-0.0107, grad=0.0000), Var(v=-0.0296, grad=0.0000), Var(v=0.0435, grad=0.0000), Var(v=0.0766, grad=0.0000), Var(v=-0.0403, grad=0.0000), Var(v=-0.0399, grad=0.0000), Var(v=-0.0727, grad=0.0000)], [Var(v=0.0292, grad=0.0000), Var(v=-0.0673, grad=0.0000), Var(v=-0.0303, grad=0.0000), Var(v=0.0892, grad=0.0000), Var(v=0.0028, grad=0.0000), Var(v=-0.1327, grad=0.0000), Var(v=0.0590, grad=0.0000), Var(v=-0.0144, grad=0.0000), Var(v=-0.1989, grad=0.0000), Var(v=0.1357, grad=0.0000), Var(v=-0.0444, grad=0.0000), Var(v=-0.0685, grad=0.0000), Var(v=-0.0082, grad=0.0000), Var(v=-0.0877, grad=0.0000), Var(v=-0.0255, grad=0.0000), Var(v=-0.0038, grad=0.0000), Var(v=-0.0400, grad=0.0000), Var(v=0.0036, grad=0.0000), Var(v=0.0412, grad=0.0000), Var(v=-0.0156, grad=0.0000), Var(v=-0.0635, grad=0.0000), Var(v=-0.0595, grad=0.0000), Var(v=-0.0572, grad=0.0000), Var(v=0.0150, grad=0.0000), Var(v=0.0615, grad=0.0000), Var(v=0.1558, grad=0.0000), Var(v=0.0144, grad=0.0000), Var(v=-0.1709, grad=0.0000), Var(v=-0.0309, grad=0.0000), Var(v=-0.2195, grad=0.0000), Var(v=-0.0386, grad=0.0000), Var(v=-0.2029, grad=0.0000), Var(v=-0.0435, grad=0.0000), Var(v=-0.0266, grad=0.0000), Var(v=0.0506, grad=0.0000), Var(v=-0.2653, grad=0.0000), Var(v=0.1063, grad=0.0000), Var(v=0.1150, grad=0.0000), Var(v=0.1654, grad=0.0000), Var(v=-0.1521, grad=0.0000), Var(v=-0.1554, grad=0.0000), Var(v=-0.0215, grad=0.0000), Var(v=-0.0094, grad=0.0000), Var(v=-0.0882, grad=0.0000), Var(v=0.0049, grad=0.0000), Var(v=0.0509, grad=0.0000), Var(v=-0.0146, grad=0.0000), Var(v=0.0506, grad=0.0000), Var(v=0.3292, grad=0.0000), Var(v=-0.0042, grad=0.0000)], [Var(v=0.1154, grad=0.0000), Var(v=0.0609, grad=0.0000), Var(v=-0.1874, grad=0.0000), Var(v=0.0577, grad=0.0000), Var(v=0.0162, grad=0.0000), Var(v=-0.0743, grad=0.0000), Var(v=0.2493, grad=0.0000), Var(v=0.2366, grad=0.0000), Var(v=0.0905, grad=0.0000), Var(v=-0.0747, grad=0.0000), Var(v=0.0321, grad=0.0000), Var(v=-0.0810, grad=0.0000), Var(v=-0.0421, grad=0.0000), Var(v=-0.1094, grad=0.0000), Var(v=-0.0180, grad=0.0000), Var(v=0.0126, grad=0.0000), Var(v=-0.0696, grad=0.0000), Var(v=0.0241, grad=0.0000), Var(v=-0.0960, grad=0.0000), Var(v=-0.0672, grad=0.0000), Var(v=-0.0111, grad=0.0000), Var(v=-0.0031, grad=0.0000), Var(v=0.0420, grad=0.0000), Var(v=0.0761, grad=0.0000), Var(v=-0.0330, grad=0.0000), Var(v=-0.0043, grad=0.0000), Var(v=-0.0395, grad=0.0000), Var(v=0.0380, grad=0.0000), Var(v=0.0129, grad=0.0000), Var(v=-0.0448, grad=0.0000), Var(v=-0.0996, grad=0.0000), Var(v=0.0400, grad=0.0000), Var(v=-0.1054, grad=0.0000), Var(v=0.0359, grad=0.0000), Var(v=0.0376, grad=0.0000), Var(v=0.0964, grad=0.0000), Var(v=-0.1270, grad=0.0000), Var(v=-0.1184, grad=0.0000), Var(v=-0.0578, grad=0.0000), Var(v=0.0209, grad=0.0000), Var(v=0.1665, grad=0.0000), Var(v=-0.0033, grad=0.0000), Var(v=0.0327, grad=0.0000), Var(v=-0.1156, grad=0.0000), Var(v=-0.0021, grad=0.0000), Var(v=-0.1544, grad=0.0000), Var(v=-0.0716, grad=0.0000), Var(v=-0.1564, grad=0.0000), Var(v=-0.0158, grad=0.0000), Var(v=0.0373, grad=0.0000)], [Var(v=-0.0081, grad=0.0000), Var(v=-0.0956, grad=0.0000), Var(v=0.0555, grad=0.0000), Var(v=-0.0798, grad=0.0000), Var(v=-0.0051, grad=0.0000), Var(v=0.0206, grad=0.0000), Var(v=-0.0353, grad=0.0000), Var(v=-0.0219, grad=0.0000), Var(v=-0.0208, grad=0.0000), Var(v=0.0297, grad=0.0000), Var(v=0.1159, grad=0.0000), Var(v=0.1029, grad=0.0000), Var(v=-0.1584, grad=0.0000), Var(v=-0.0085, grad=0.0000), Var(v=0.1343, grad=0.0000), Var(v=-0.0092, grad=0.0000), Var(v=-0.1114, grad=0.0000), Var(v=-0.0668, grad=0.0000), Var(v=-0.0572, grad=0.0000), Var(v=0.1173, grad=0.0000), Var(v=0.1859, grad=0.0000), Var(v=0.0874, grad=0.0000), Var(v=-0.1652, grad=0.0000), Var(v=0.0468, grad=0.0000), Var(v=0.0679, grad=0.0000), Var(v=-0.1472, grad=0.0000), Var(v=0.1629, grad=0.0000), Var(v=-0.1323, grad=0.0000), Var(v=-0.0352, grad=0.0000), Var(v=-0.2353, grad=0.0000), Var(v=-0.0176, grad=0.0000), Var(v=-0.0281, grad=0.0000), Var(v=0.0552, grad=0.0000), Var(v=0.1642, grad=0.0000), Var(v=-0.0505, grad=0.0000), Var(v=0.0296, grad=0.0000), Var(v=-0.0703, grad=0.0000), Var(v=0.0586, grad=0.0000), Var(v=-0.0558, grad=0.0000), Var(v=-0.2838, grad=0.0000), Var(v=-0.0222, grad=0.0000), Var(v=0.0655, grad=0.0000), Var(v=0.1665, grad=0.0000), Var(v=0.0818, grad=0.0000), Var(v=0.0215, grad=0.0000), Var(v=0.0629, grad=0.0000), Var(v=-0.1454, grad=0.0000), Var(v=-0.0953, grad=0.0000), Var(v=0.1409, grad=0.0000), Var(v=-0.1016, grad=0.0000)]] Biases: [Var(v=-0.0909, grad=0.0000), Var(v=0.0000, grad=0.0000), Var(v=-0.1473, grad=0.0000), Var(v=-0.0029, grad=0.0000), Var(v=0.0000, grad=0.0000), Var(v=0.0000, grad=0.0000), Var(v=-0.1113, grad=0.0000), Var(v=0.0000, grad=0.0000), Var(v=0.0000, grad=0.0000), Var(v=-0.0384, grad=0.0000), Var(v=-0.1854, grad=0.0000), Var(v=0.0000, grad=0.0000), Var(v=0.0000, grad=0.0000), Var(v=-0.1308, grad=0.0000), Var(v=-0.0021, grad=0.0000), Var(v=0.0000, grad=0.0000), Var(v=0.0511, grad=0.0000), Var(v=0.0182, grad=0.0000), Var(v=0.0311, grad=0.0000), Var(v=-0.0009, grad=0.0000), Var(v=0.0586, grad=0.0000), Var(v=-0.0308, grad=0.0000), Var(v=0.0000, grad=0.0000), Var(v=-0.0791, grad=0.0000), Var(v=-0.0011, grad=0.0000), Var(v=0.1054, grad=0.0000), Var(v=-0.1068, grad=0.0000), Var(v=0.1883, grad=0.0000), Var(v=-0.0009, grad=0.0000), Var(v=-0.0446, grad=0.0000), Var(v=-0.0028, grad=0.0000), Var(v=0.1174, grad=0.0000), Var(v=0.0000, grad=0.0000), Var(v=0.1001, grad=0.0000), Var(v=-0.0015, grad=0.0000), Var(v=0.0000, grad=0.0000), Var(v=-0.1245, grad=0.0000), Var(v=0.0694, grad=0.0000), Var(v=0.0000, grad=0.0000), Var(v=0.1145, grad=0.0000), Var(v=0.1413, grad=0.0000), Var(v=0.0009, grad=0.0000), Var(v=0.1014, grad=0.0000), Var(v=-0.0025, grad=0.0000), Var(v=0.0024, grad=0.0000), Var(v=0.0027, grad=0.0000), Var(v=0.0000, grad=0.0000), Var(v=-0.1121, grad=0.0000), Var(v=0.0021, grad=0.0000), Var(v=0.0000, grad=0.0000)]\n",
      "Layer 2 \n",
      " Weights: [[Var(v=-0.0837, grad=0.0000)], [Var(v=0.0553, grad=0.0000)], [Var(v=0.1597, grad=0.0000)], [Var(v=-0.1344, grad=0.0000)], [Var(v=0.1431, grad=0.0000)], [Var(v=0.0032, grad=0.0000)], [Var(v=0.1114, grad=0.0000)], [Var(v=-0.0073, grad=0.0000)], [Var(v=0.1288, grad=0.0000)], [Var(v=-0.0214, grad=0.0000)], [Var(v=-0.1570, grad=0.0000)], [Var(v=-0.0135, grad=0.0000)], [Var(v=-0.2203, grad=0.0000)], [Var(v=0.1243, grad=0.0000)], [Var(v=-0.0883, grad=0.0000)], [Var(v=-0.0017, grad=0.0000)], [Var(v=-0.0769, grad=0.0000)], [Var(v=-0.0647, grad=0.0000)], [Var(v=0.0474, grad=0.0000)], [Var(v=-0.0448, grad=0.0000)], [Var(v=0.0769, grad=0.0000)], [Var(v=-0.0326, grad=0.0000)], [Var(v=-0.0349, grad=0.0000)], [Var(v=-0.0594, grad=0.0000)], [Var(v=-0.0424, grad=0.0000)], [Var(v=0.1245, grad=0.0000)], [Var(v=-0.0584, grad=0.0000)], [Var(v=-0.2266, grad=0.0000)], [Var(v=-0.0085, grad=0.0000)], [Var(v=0.0431, grad=0.0000)], [Var(v=-0.1093, grad=0.0000)], [Var(v=-0.1537, grad=0.0000)], [Var(v=0.0092, grad=0.0000)], [Var(v=0.1306, grad=0.0000)], [Var(v=-0.0651, grad=0.0000)], [Var(v=0.0813, grad=0.0000)], [Var(v=0.1172, grad=0.0000)], [Var(v=0.0937, grad=0.0000)], [Var(v=0.0798, grad=0.0000)], [Var(v=-0.1510, grad=0.0000)], [Var(v=-0.2041, grad=0.0000)], [Var(v=0.0501, grad=0.0000)], [Var(v=0.1254, grad=0.0000)], [Var(v=-0.0862, grad=0.0000)], [Var(v=0.1279, grad=0.0000)], [Var(v=0.0967, grad=0.0000)], [Var(v=0.1893, grad=0.0000)], [Var(v=-0.1218, grad=0.0000)], [Var(v=0.1366, grad=0.0000)], [Var(v=0.0135, grad=0.0000)]] Biases: [Var(v=0.0245, grad=0.0000)]\n"
     ]
    },
    {
     "data": {
      "text/plain": [
       "[None, None, None]"
      ]
     },
     "execution_count": 80,
     "metadata": {},
     "output_type": "execute_result"
    }
   ],
   "source": [
    "print('Network before update:')\n",
    "[print('Layer', i, '\\n', NN[i]) for i in range(len(NN))] \n",
    "\n",
    "def parameters(network):\n",
    "  params = []\n",
    "  for layer in range(len(network)):\n",
    "    params += network[layer].parameters()\n",
    "  return params\n",
    "\n",
    "def update_parameters(params, learning_rate=0.01):\n",
    "  for p in params:\n",
    "    p.v -= learning_rate*p.grad\n",
    "\n",
    "def zero_gradients(params):\n",
    "  for p in params:\n",
    "    p.grad = 0.0\n",
    "\n",
    "update_parameters(parameters(NN))\n",
    "\n",
    "print('\\nNetwork after update:')\n",
    "[print('Layer', i, '\\n', NN[i]) for i in range(len(NN))] \n",
    "\n",
    "zero_gradients(parameters(NN))\n",
    "\n",
    "print('\\nNetwork after zeroing gradients:')\n",
    "[print('Layer', i, '\\n', NN[i]) for i in range(len(NN))] "
   ]
  },
  {
   "cell_type": "code",
   "execution_count": 81,
   "metadata": {
    "id": "woWYpdw6FtIO"
   },
   "outputs": [],
   "source": [
    "# Initialize an arbitrary neural network\n",
    "NN = [\n",
    "    DenseLayer(1, 8, lambda x: x.relu()),\n",
    "    DenseLayer(8, 1, lambda x: x.identity())\n",
    "]\n",
    "\n",
    "# Recommended hyper-parameters for 3-D: \n",
    "#NN = [\n",
    "#    DenseLayer(3, 16, lambda x: x.relu()),\n",
    "#    DenseLayer(16, 1, lambda x: x.identity())\n",
    "#]\n",
    "\n",
    "\n",
    "### Notice that, when we switch from tanh to relu activation, we decrease the learning rate. This is due the stability of the gradients \n",
    "## of the activation functions."
   ]
  },
  {
   "cell_type": "code",
   "execution_count": 82,
   "metadata": {
    "id": "mdqaqYBVFtIR"
   },
   "outputs": [],
   "source": [
    "# Initialize training hyperparameters\n",
    "EPOCHS = 200\n",
    "LEARN_R = 2e-3 "
   ]
  },
  {
   "cell_type": "code",
   "execution_count": 83,
   "metadata": {
    "colab": {
     "base_uri": "https://localhost:8080/"
    },
    "id": "5kfg76GMFtIW",
    "outputId": "e30cf68a-31f2-42b4-cc5e-860c297c0f04",
    "scrolled": true
   },
   "outputs": [
    {
     "name": "stdout",
     "output_type": "stream",
     "text": [
      "   0 ( 0.00%) Train loss: 105.287 \t Validation loss: 103.673\n",
      "  10 ( 5.00%) Train loss: 24.820 \t Validation loss: 17.358\n",
      "  20 (10.00%) Train loss: 14.679 \t Validation loss: 10.885\n",
      "  30 (15.00%) Train loss: 14.239 \t Validation loss: 10.587\n",
      "  40 (20.00%) Train loss: 13.911 \t Validation loss: 10.403\n",
      "  50 (25.00%) Train loss: 13.567 \t Validation loss: 10.207\n",
      "  60 (30.00%) Train loss: 13.138 \t Validation loss: 9.951\n",
      "  70 (35.00%) Train loss: 12.638 \t Validation loss: 9.631\n",
      "  80 (40.00%) Train loss: 12.342 \t Validation loss: 9.422\n",
      "  90 (45.00%) Train loss: 12.172 \t Validation loss: 9.353\n",
      " 100 (50.00%) Train loss: 12.057 \t Validation loss: 9.318\n",
      " 110 (55.00%) Train loss: 11.976 \t Validation loss: 9.243\n",
      " 120 (60.00%) Train loss: 11.935 \t Validation loss: 9.190\n",
      " 130 (65.00%) Train loss: 11.915 \t Validation loss: 9.150\n",
      " 140 (70.00%) Train loss: 11.903 \t Validation loss: 9.116\n",
      " 150 (75.00%) Train loss: 11.898 \t Validation loss: 9.096\n",
      " 160 (80.00%) Train loss: 11.895 \t Validation loss: 9.082\n",
      " 170 (85.00%) Train loss: 11.894 \t Validation loss: 9.071\n",
      " 180 (90.00%) Train loss: 11.893 \t Validation loss: 9.063\n",
      " 190 (95.00%) Train loss: 11.893 \t Validation loss: 9.057\n"
     ]
    }
   ],
   "source": [
    "train_loss = []\n",
    "val_loss = []\n",
    "\n",
    "for e in range(EPOCHS):\n",
    "     \n",
    "    # Forward pass and loss computation\n",
    "    Loss = squared_loss(y_train, forward(x_train, NN))\n",
    "\n",
    "    # Backward pass\n",
    "    Loss.backward()\n",
    "    \n",
    "    # gradient descent update\n",
    "    update_parameters(parameters(NN), LEARN_R)\n",
    "    zero_gradients(parameters(NN))\n",
    "    \n",
    "    # Training loss\n",
    "    train_loss.append(Loss.v)\n",
    "    \n",
    "    # Validation\n",
    "    Loss_validation = squared_loss(y_validation, forward(x_validation, NN))\n",
    "    val_loss.append(Loss_validation.v)\n",
    "    \n",
    "    if e%10==0:\n",
    "        print(\"{:4d}\".format(e),\n",
    "              \"({:5.2f}%)\".format(e/EPOCHS*100), \n",
    "              \"Train loss: {:4.3f} \\t Validation loss: {:4.3f}\".format(train_loss[-1], val_loss[-1]))\n",
    "        \n"
   ]
  },
  {
   "cell_type": "code",
   "execution_count": 84,
   "metadata": {
    "colab": {
     "base_uri": "https://localhost:8080/",
     "height": 265
    },
    "id": "VetyRWFwFtIY",
    "outputId": "344e490d-6d7d-455a-fa6f-88dd11eb957e"
   },
   "outputs": [
    {
     "data": {
      "image/png": "[encoded data removed]",
      "text/plain": [
       "<Figure size 640x480 with 1 Axes>"
      ]
     },
     "metadata": {},
     "output_type": "display_data"
    }
   ],
   "source": [
    "plt.plot(range(len(train_loss)), train_loss);\n",
    "plt.plot(range(len(val_loss)), val_loss);"
   ]
  },
  {
   "cell_type": "markdown",
   "metadata": {
    "id": "8OgmIrM9FtIb"
   },
   "source": [
    "# Testing\n",
    "\n",
    "We have kept the calculation of the test error separate in order to emphasize that you should not use the test set in optimization."
   ]
  },
  {
   "cell_type": "code",
   "execution_count": 85,
   "metadata": {
    "id": "HmNi7S-vFtIc"
   },
   "outputs": [],
   "source": [
    "output_test = forward(x_test, NN)"
   ]
  },
  {
   "cell_type": "code",
   "execution_count": 86,
   "metadata": {
    "colab": {
     "base_uri": "https://localhost:8080/",
     "height": 316
    },
    "id": "7mmJOTSEFtIf",
    "outputId": "e3264095-cefe-4aee-893d-bf152438e332"
   },
   "outputs": [
    {
     "name": "stdout",
     "output_type": "stream",
     "text": [
      "Test loss:  9.858\n"
     ]
    },
    {
     "data": {
      "image/png": "[encoded data removed]",
      "text/plain": [
       "<Figure size 640x480 with 1 Axes>"
      ]
     },
     "metadata": {},
     "output_type": "display_data"
    }
   ],
   "source": [
    "y_test_np = Var_to_nparray(y_test)\n",
    "plt.scatter(y_test_np, Var_to_nparray(output_test));\n",
    "plt.plot([np.min(y_test_np), np.max(y_test_np)], [np.min(y_test_np), np.max(y_test_np)], color='k');\n",
    "plt.xlabel(\"y\");\n",
    "plt.ylabel(\"$\\hat{y}$\");\n",
    "plt.title(\"Model prediction vs real in the test set, the close to the line the better\")\n",
    "plt.grid(True);\n",
    "plt.axis('equal');\n",
    "plt.tight_layout();\n",
    "\n",
    "Loss_test = squared_loss(y_test, forward(x_test, NN))\n",
    "\n",
    "print(\"Test loss:  {:4.3f}\".format(Loss_test.v))"
   ]
  },
  {
   "cell_type": "code",
   "execution_count": 87,
   "metadata": {
    "colab": {
     "base_uri": "https://localhost:8080/",
     "height": 279
    },
    "id": "ODi0WlmQFtIh",
    "outputId": "d1ab874f-0717-4987-87bf-1f0c7c8e7148"
   },
   "outputs": [
    {
     "data": {
      "image/png": "[encoded data removed]",
      "text/plain": [
       "<Figure size 640x480 with 1 Axes>"
      ]
     },
     "metadata": {},
     "output_type": "display_data"
    }
   ],
   "source": [
    "x_test_np = Var_to_nparray(x_test)\n",
    "x_train_np = Var_to_nparray(x_train)\n",
    "y_train_np = Var_to_nparray(y_train)\n",
    "if D1:\n",
    "    plt.scatter(x_train_np, y_train_np, label=\"train data\");\n",
    "    plt.scatter(x_test_np, Var_to_nparray(output_test), label=\"test prediction\");\n",
    "    plt.scatter(x_test_np, y_test_np, label=\"test data\");\n",
    "    plt.legend();\n",
    "    plt.xlabel(\"x\");\n",
    "    plt.ylabel(\"y\");\n",
    "else:\n",
    "    plt.scatter(x_train_np[:,1], y_train, label=\"train data\");\n",
    "    plt.scatter(x_test_np[:,1], Var_to_nparray(output_test), label=\"test data prediction\");\n",
    "    plt.scatter(x_test_np[:,1], y_test_np, label=\"test data\");\n",
    "    plt.legend();\n",
    "    plt.xlabel(\"x\");\n",
    "    plt.ylabel(\"y\");"
   ]
  },
  {
   "cell_type": "markdown",
   "metadata": {
    "id": "zTBAmjsAFtIk"
   },
   "source": [
    "## Exercise l) Show overfitting, underfitting and just right fitting\n",
    "\n",
    "Vary the architecture and other things to show clear signs of overfitting (=training loss significantly lower than test loss) and underfitting (=not fitting enoung to training data so that test performance is also hurt).\n",
    "\n",
    "See also if you can get a good compromise which leads to a low validation loss. \n",
    "\n",
    "For this problem do you see any big difference between validation and test loss? The answer here will probably be no. Discuss cases where it is important to keep the two separate.\n",
    "\n",
    "_Insert written answer here._\n"
   ]
  },
  {
   "cell_type": "markdown",
   "metadata": {},
   "source": [
    "Not exactly getting what they want me to do... but overfitting usually occurs when when the number of parameters are large. What essentially happens is that the networks learns to memorise the training data instead of finding patterns within it. To prevent this a number of methods can be used. One is to add layer normalization. This both helps with the problem of expoding gradients but also with the problem of overfitting. Another solution is dropout layers which essentially freezes random weights doing training. \n",
    "\n",
    "For this exercise they probably just want me to train on different size networks to show that a very small network will underfit and a large one would overfit. To \"just-right\" fit we should then tweak the network size untill the training loss matches with the validation loss.... this is a very time consuming method and I therefore can't bother. As i said, it would be more effective to just build a desent size network and use method such as layernorm and dropout. Another ways would be to adjust the learning rate but again... this is hyperparameter tuning which should be avoided. Use what other people has found to be a good learning rate value (0.01 or 0.001) depending on the complexity of the problem. Also not using a fixed sized learning rate but an adaptable one such as the one defined by Adam gradient descent will often yield faster convergence. Hyper parameters are still needed but easier to set."
   ]
  },
  {
   "cell_type": "code",
   "execution_count": 88,
   "metadata": {
    "id": "tQZCn2dxFtIl"
   },
   "outputs": [],
   "source": [
    "# Insert your code for getting overfitting, underfitting and just right fitting"
   ]
  },
  {
   "cell_type": "markdown",
   "metadata": {
    "id": "fYPZP-eTFtIo"
   },
   "source": [
    "# Next steps - classification\n",
    "\n",
    "It is straight forward to extend what we have done to classification. \n",
    "\n",
    "For numerical stability it is better to make softmax and cross-entropy as one function so we write the cross entropy loss as a function of the logits we talked about last week. \n",
    "\n",
    "Next week we will see how to perform classification in PyTorch."
   ]
  },
  {
   "cell_type": "markdown",
   "metadata": {
    "id": "qsVPul3QFtIo"
   },
   "source": [
    "## Exercise m) optional - Implement backpropagation for classification\n",
    "\n",
    "Should be possible with very few lines of code. :-)"
   ]
  },
  {
   "cell_type": "code",
   "execution_count": null,
   "metadata": {
    "id": "oC8QrI2tFtIp"
   },
   "outputs": [],
   "source": [
    "# Just add code."
   ]
  },
  {
   "cell_type": "markdown",
   "metadata": {
    "id": "APqhJv3tta1O"
   },
   "source": [
    "## Exercise n) optional - Introduce a NeuralNetwork class\n",
    "\n",
    "The functions we applied on the neural network (parameters, update_parameters and zero_gradients) can more naturally be included as methods in a NeuralNetwork class. Make such a class and modify the code to use it. "
   ]
  },
  {
   "cell_type": "code",
   "execution_count": null,
   "metadata": {
    "id": "Dqfnor1ouMLq"
   },
   "outputs": [],
   "source": [
    "# just add some code"
   ]
  }
 ],
 "metadata": {
  "anaconda-cloud": {},
  "colab": {
   "collapsed_sections": [
    "U4057_ljNvWB",
    "p_8n_SKnIW2F",
    "oLrGJytZFtGm",
    "jpIZPBpNI0pO",
    "_79HOAXrFtHK",
    "mqeyab9qFtGs",
    "-XyXBD37FtHk",
    "SrwSJ2UWFtHu",
    "zTBAmjsAFtIk",
    "qsVPul3QFtIo",
    "APqhJv3tta1O"
   ],
   "name": "2.1-EXE-FNN-AutoDif-Nanograd.ipynb",
   "provenance": []
  },
  "kernelspec": {
   "display_name": "Python 3",
   "language": "python",
   "name": "python3"
  },
  "language_info": {
   "codemirror_mode": {
    "name": "ipython",
    "version": 3
   },
   "file_extension": ".py",
   "mimetype": "text/x-python",
   "name": "python",
   "nbconvert_exporter": "python",
   "pygments_lexer": "ipython3",
   "version": "3.11.4"
  }
 },
 "nbformat": 4,
 "nbformat_minor": 1
}
